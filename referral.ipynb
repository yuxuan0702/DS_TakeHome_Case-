{
 "cells": [
  {
   "cell_type": "markdown",
   "metadata": {
    "toc": true
   },
   "source": [
    "<h1>Table of Contents<span class=\"tocSkip\"></span></h1>\n",
    "<div class=\"toc\"><ul class=\"toc-item\"><li><span><a href=\"#Goal\" data-toc-modified-id=\"Goal-1\"><span class=\"toc-item-num\">1&nbsp;&nbsp;</span>Goal</a></span></li><li><span><a href=\"#EDA\" data-toc-modified-id=\"EDA-2\"><span class=\"toc-item-num\">2&nbsp;&nbsp;</span>EDA</a></span></li><li><span><a href=\"#A/B-Analysis\" data-toc-modified-id=\"A/B-Analysis-3\"><span class=\"toc-item-num\">3&nbsp;&nbsp;</span>A/B Analysis</a></span></li></ul></div>"
   ]
  },
  {
   "cell_type": "code",
   "execution_count": 1,
   "metadata": {
    "ExecuteTime": {
     "end_time": "2020-09-09T19:26:03.742457Z",
     "start_time": "2020-09-09T19:26:00.162849Z"
    }
   },
   "outputs": [],
   "source": [
    "# import packages \n",
    "import pandas as pd\n",
    "import numpy as np\n",
    "import matplotlib.pyplot as plt\n",
    "import seaborn as sns\n",
    "\n",
    "from scipy.stats import ttest_ind\n",
    "plt.style.use('seaborn')\n",
    "%matplotlib inline"
   ]
  },
  {
   "cell_type": "code",
   "execution_count": 2,
   "metadata": {
    "ExecuteTime": {
     "end_time": "2020-09-09T19:26:03.912322Z",
     "start_time": "2020-09-09T19:26:03.748343Z"
    }
   },
   "outputs": [
    {
     "data": {
      "text/html": [
       "<div>\n",
       "<style scoped>\n",
       "    .dataframe tbody tr th:only-of-type {\n",
       "        vertical-align: middle;\n",
       "    }\n",
       "\n",
       "    .dataframe tbody tr th {\n",
       "        vertical-align: top;\n",
       "    }\n",
       "\n",
       "    .dataframe thead th {\n",
       "        text-align: right;\n",
       "    }\n",
       "</style>\n",
       "<table border=\"1\" class=\"dataframe\">\n",
       "  <thead>\n",
       "    <tr style=\"text-align: right;\">\n",
       "      <th></th>\n",
       "      <th>user_id</th>\n",
       "      <th>date</th>\n",
       "      <th>country</th>\n",
       "      <th>money_spent</th>\n",
       "      <th>is_referral</th>\n",
       "      <th>device_id</th>\n",
       "      <th>day_of_week</th>\n",
       "    </tr>\n",
       "  </thead>\n",
       "  <tbody>\n",
       "    <tr>\n",
       "      <th>0</th>\n",
       "      <td>2</td>\n",
       "      <td>2015-10-03</td>\n",
       "      <td>FR</td>\n",
       "      <td>65</td>\n",
       "      <td>0</td>\n",
       "      <td>EVDCJTZMVMJDG</td>\n",
       "      <td>5</td>\n",
       "    </tr>\n",
       "    <tr>\n",
       "      <th>1</th>\n",
       "      <td>3</td>\n",
       "      <td>2015-10-03</td>\n",
       "      <td>CA</td>\n",
       "      <td>54</td>\n",
       "      <td>0</td>\n",
       "      <td>WUBZFTVKXGQQX</td>\n",
       "      <td>5</td>\n",
       "    </tr>\n",
       "    <tr>\n",
       "      <th>2</th>\n",
       "      <td>6</td>\n",
       "      <td>2015-10-03</td>\n",
       "      <td>FR</td>\n",
       "      <td>35</td>\n",
       "      <td>0</td>\n",
       "      <td>CBAPCJRTFNUJG</td>\n",
       "      <td>5</td>\n",
       "    </tr>\n",
       "    <tr>\n",
       "      <th>3</th>\n",
       "      <td>7</td>\n",
       "      <td>2015-10-03</td>\n",
       "      <td>UK</td>\n",
       "      <td>73</td>\n",
       "      <td>0</td>\n",
       "      <td>PRGXJZAJKMXRH</td>\n",
       "      <td>5</td>\n",
       "    </tr>\n",
       "    <tr>\n",
       "      <th>4</th>\n",
       "      <td>7</td>\n",
       "      <td>2015-10-03</td>\n",
       "      <td>MX</td>\n",
       "      <td>35</td>\n",
       "      <td>0</td>\n",
       "      <td>PRGXJZAJKMXRH</td>\n",
       "      <td>5</td>\n",
       "    </tr>\n",
       "  </tbody>\n",
       "</table>\n",
       "</div>"
      ],
      "text/plain": [
       "   user_id       date country  money_spent  is_referral      device_id  \\\n",
       "0        2 2015-10-03      FR           65            0  EVDCJTZMVMJDG   \n",
       "1        3 2015-10-03      CA           54            0  WUBZFTVKXGQQX   \n",
       "2        6 2015-10-03      FR           35            0  CBAPCJRTFNUJG   \n",
       "3        7 2015-10-03      UK           73            0  PRGXJZAJKMXRH   \n",
       "4        7 2015-10-03      MX           35            0  PRGXJZAJKMXRH   \n",
       "\n",
       "   day_of_week  \n",
       "0            5  \n",
       "1            5  \n",
       "2            5  \n",
       "3            5  \n",
       "4            5  "
      ]
     },
     "execution_count": 2,
     "metadata": {},
     "output_type": "execute_result"
    }
   ],
   "source": [
    "# import dataset \n",
    "df = pd.read_csv('referral.csv',parse_dates= ['date'])\n",
    "df['day_of_week'] = df['date'].dt.dayofweek\n",
    "df.head()"
   ]
  },
  {
   "cell_type": "code",
   "execution_count": 3,
   "metadata": {
    "ExecuteTime": {
     "end_time": "2020-09-09T19:26:03.939739Z",
     "start_time": "2020-09-09T19:26:03.917114Z"
    }
   },
   "outputs": [
    {
     "name": "stdout",
     "output_type": "stream",
     "text": [
      "<class 'pandas.core.frame.DataFrame'>\n",
      "RangeIndex: 97341 entries, 0 to 97340\n",
      "Data columns (total 7 columns):\n",
      " #   Column       Non-Null Count  Dtype         \n",
      "---  ------       --------------  -----         \n",
      " 0   user_id      97341 non-null  int64         \n",
      " 1   date         97341 non-null  datetime64[ns]\n",
      " 2   country      97341 non-null  object        \n",
      " 3   money_spent  97341 non-null  int64         \n",
      " 4   is_referral  97341 non-null  int64         \n",
      " 5   device_id    97341 non-null  object        \n",
      " 6   day_of_week  97341 non-null  int64         \n",
      "dtypes: datetime64[ns](1), int64(4), object(2)\n",
      "memory usage: 5.2+ MB\n"
     ]
    }
   ],
   "source": [
    "#basic data information \n",
    "df.info()"
   ]
  },
  {
   "cell_type": "code",
   "execution_count": 4,
   "metadata": {
    "ExecuteTime": {
     "end_time": "2020-09-09T19:26:03.949138Z",
     "start_time": "2020-09-09T19:26:03.942153Z"
    }
   },
   "outputs": [],
   "source": [
    "# check duplicate \n",
    "def return_unique_value(col):\n",
    "    print(col,'have',len(df[col].unique()),'unique values')"
   ]
  },
  {
   "cell_type": "code",
   "execution_count": 5,
   "metadata": {
    "ExecuteTime": {
     "end_time": "2020-09-09T19:26:03.970107Z",
     "start_time": "2020-09-09T19:26:03.951321Z"
    }
   },
   "outputs": [
    {
     "name": "stdout",
     "output_type": "stream",
     "text": [
      "user_id have 18809 unique values\n",
      "country have 9 unique values\n",
      "device_id have 17887 unique values\n"
     ]
    }
   ],
   "source": [
    "# check duplicate\n",
    "cols = ['user_id','country','device_id']\n",
    "for col in cols:\n",
    "    return_unique_value(col)"
   ]
  },
  {
   "cell_type": "markdown",
   "metadata": {},
   "source": [
    "# Goal\n",
    "---\n",
    "- Can you estimate the impact the program had on the site?\n",
    "- Based on the data, what would you suggest to do as a next step?\n",
    "- The referral program wasn't really tested in a rigorous way. It simply started on a given day for all users and you are drawing conclusions by looking at the data before and after the test started. What kinds of risks this approach presents? Can you think of a better way to test the referral program and measure its impact?"
   ]
  },
  {
   "cell_type": "markdown",
   "metadata": {},
   "source": [
    "# EDA"
   ]
  },
  {
   "cell_type": "code",
   "execution_count": 6,
   "metadata": {
    "ExecuteTime": {
     "end_time": "2020-09-09T19:26:09.093586Z",
     "start_time": "2020-09-09T19:26:03.974450Z"
    }
   },
   "outputs": [
    {
     "data": {
      "image/png": "[encoded data removed]",
      "text/plain": [
       "<Figure size 1296x288 with 2 Axes>"
      ]
     },
     "metadata": {
      "needs_background": "light"
     },
     "output_type": "display_data"
    }
   ],
   "source": [
    "# Daily money spent visualization\n",
    "fig, ax = plt.subplots(nrows=1, ncols=2, figsize=(18, 4))\n",
    "sns.countplot(data=df, x='date',ax = ax[0])\n",
    "ax[0].set_ylabel('Daily Transaction Number', fontsize=12)\n",
    "\n",
    "sns.barplot(data=df, x='date', y='money_spent')\n",
    "ax[1].set_ylabel('Daily Transaction Amount', fontsize=12)\n",
    "plt.tight_layout()\n",
    "plt.show()"
   ]
  },
  {
   "cell_type": "code",
   "execution_count": 7,
   "metadata": {
    "ExecuteTime": {
     "end_time": "2020-09-09T19:26:11.487128Z",
     "start_time": "2020-09-09T19:26:09.096973Z"
    },
    "scrolled": false
   },
   "outputs": [
    {
     "data": {
      "image/png": "[encoded data removed]",
      "text/plain": [
       "<Figure size 864x288 with 2 Axes>"
      ]
     },
     "metadata": {
      "needs_background": "light"
     },
     "output_type": "display_data"
    }
   ],
   "source": [
    "# country in Refer rate and money spent\n",
    "fig, ax = plt.subplots(nrows=1, ncols=2, figsize=(12,4))\n",
    "\n",
    "sns.barplot(data=df, x='country', y='is_referral',ax = ax[0])\n",
    "ax[0].set_title('The Average Referal Rate In Different Country')\n",
    "ax[0].set_ylabel('')\n",
    "\n",
    "sns.barplot(data=df, x='country', y='money_spent',ax = ax[1])\n",
    "ax[1].set_title('The Average money spent In Different Country')\n",
    "ax[1].set_ylabel('')\n",
    "\n",
    "plt.tight_layout()\n",
    "plt.show()"
   ]
  },
  {
   "cell_type": "code",
   "execution_count": 8,
   "metadata": {
    "ExecuteTime": {
     "end_time": "2020-09-09T19:26:13.623467Z",
     "start_time": "2020-09-09T19:26:11.492835Z"
    }
   },
   "outputs": [
    {
     "data": {
      "image/png": "[encoded data removed]",
      "text/plain": [
       "<Figure size 864x288 with 2 Axes>"
      ]
     },
     "metadata": {
      "needs_background": "light"
     },
     "output_type": "display_data"
    }
   ],
   "source": [
    "# daily money spent visualization\n",
    "fig, ax = plt.subplots(nrows=1, ncols=2, figsize=(12, 4))\n",
    "sns.countplot(x='country', hue='is_referral', data=df, ax=ax[0])\n",
    "ax[0].set_title('Country-wise Transaction Number')\n",
    "\n",
    "sns.barplot(x='country', y='money_spent', hue='is_referral', data=df, ax=ax[1])\n",
    "ax[1].set_title('Country-wise Transaction Amount', fontsize=12)\n",
    "plt.tight_layout()\n",
    "plt.show()"
   ]
  },
  {
   "cell_type": "code",
   "execution_count": 9,
   "metadata": {
    "ExecuteTime": {
     "end_time": "2020-09-09T19:26:13.952835Z",
     "start_time": "2020-09-09T19:26:13.627296Z"
    }
   },
   "outputs": [
    {
     "data": {
      "image/png": "[encoded data removed]",
      "text/plain": [
       "<Figure size 864x288 with 2 Axes>"
      ]
     },
     "metadata": {
      "needs_background": "light"
     },
     "output_type": "display_data"
    }
   ],
   "source": [
    "# spent money in refer\n",
    "fig, ax = plt.subplots(nrows=1, ncols=2, figsize=(12,4))\n",
    "\n",
    "sns.kdeplot(data=df[df['is_referral'] ==1]['money_spent'],shade = True,label = 'refer',ax = ax[0])\n",
    "sns.kdeplot(data=df[df['is_referral'] ==0]['money_spent'],shade = True,label = 'not refer',color = 'orange',ax = ax[0])\n",
    "ax[0].set_title('Spent Money and Referal')\n",
    "\n",
    "sns.countplot(df['is_referral'],ax = ax[1])\n",
    "ax[1].set_title('Refer number')\n",
    "\n",
    "plt.show()"
   ]
  },
  {
   "cell_type": "code",
   "execution_count": 31,
   "metadata": {
    "ExecuteTime": {
     "end_time": "2020-09-09T19:37:21.667097Z",
     "start_time": "2020-09-09T19:37:21.661363Z"
    }
   },
   "outputs": [],
   "source": [
    "def basic_stat(df):\n",
    "    \"\"\" function to calculate statistics \"\"\"\n",
    "    money_spent = df['money_spent'].sum()\n",
    "    unique_user = len(df['user_id'].unique())\n",
    "    \n",
    "    return pd.Series([money_spent, unique_user], \n",
    "                     index=['money_spent', 'unique_user'])"
   ]
  },
  {
   "cell_type": "code",
   "execution_count": 32,
   "metadata": {
    "ExecuteTime": {
     "end_time": "2020-09-09T19:37:22.511915Z",
     "start_time": "2020-09-09T19:37:22.490940Z"
    }
   },
   "outputs": [
    {
     "name": "stdout",
     "output_type": "stream",
     "text": [
      "start date: 2015-10-31 00:00:00\n",
      "end date: 2015-11-27 00:00:00\n"
     ]
    }
   ],
   "source": [
    "print('start date:',df[df['is_referral']==1]['date'].min())\n",
    "print('end date:',df[df['is_referral']==1]['date'].max())"
   ]
  },
  {
   "cell_type": "markdown",
   "metadata": {},
   "source": [
    "最早开始refer的日子是2015-10-31"
   ]
  },
  {
   "cell_type": "markdown",
   "metadata": {},
   "source": [
    "# A/B Analysis"
   ]
  },
  {
   "cell_type": "code",
   "execution_count": 33,
   "metadata": {
    "ExecuteTime": {
     "end_time": "2020-09-09T19:37:24.075038Z",
     "start_time": "2020-09-09T19:37:24.068693Z"
    }
   },
   "outputs": [],
   "source": [
    "start_date = pd.to_datetime('2015-10-31')\n",
    "def daily_stat(data):\n",
    "    grouped = data.groupby('date').apply(basic_stat).reset_index()\n",
    "    ref = grouped[grouped['date'] < start_date]\n",
    "    new = grouped[grouped['date'] >= start_date]\n",
    "    \n",
    "    names = ['money_spent', 'unique_user']\n",
    "    vals = []\n",
    "    for name in names:\n",
    "        a = ref[name].values\n",
    "        b = new[name].values\n",
    "        # p-value should be one-side test\n",
    "        p_val = ttest_ind(a, b, equal_var=False)[1] / 2\n",
    "        vals.append(p_val)\n",
    "        \n",
    "    return pd.Series(vals, index=names)"
   ]
  },
  {
   "cell_type": "code",
   "execution_count": 34,
   "metadata": {
    "ExecuteTime": {
     "end_time": "2020-09-09T19:37:25.124391Z",
     "start_time": "2020-09-09T19:37:24.709731Z"
    }
   },
   "outputs": [
    {
     "data": {
      "text/html": [
       "<div>\n",
       "<style scoped>\n",
       "    .dataframe tbody tr th:only-of-type {\n",
       "        vertical-align: middle;\n",
       "    }\n",
       "\n",
       "    .dataframe tbody tr th {\n",
       "        vertical-align: top;\n",
       "    }\n",
       "\n",
       "    .dataframe thead th {\n",
       "        text-align: right;\n",
       "    }\n",
       "</style>\n",
       "<table border=\"1\" class=\"dataframe\">\n",
       "  <thead>\n",
       "    <tr style=\"text-align: right;\">\n",
       "      <th></th>\n",
       "      <th>country</th>\n",
       "      <th>money_spent</th>\n",
       "      <th>unique_user</th>\n",
       "    </tr>\n",
       "  </thead>\n",
       "  <tbody>\n",
       "    <tr>\n",
       "      <th>0</th>\n",
       "      <td>CA</td>\n",
       "      <td>0.351704</td>\n",
       "      <td>0.268256</td>\n",
       "    </tr>\n",
       "    <tr>\n",
       "      <th>1</th>\n",
       "      <td>CH</td>\n",
       "      <td>0.006941</td>\n",
       "      <td>0.003142</td>\n",
       "    </tr>\n",
       "    <tr>\n",
       "      <th>2</th>\n",
       "      <td>DE</td>\n",
       "      <td>0.081459</td>\n",
       "      <td>0.015665</td>\n",
       "    </tr>\n",
       "    <tr>\n",
       "      <th>3</th>\n",
       "      <td>ES</td>\n",
       "      <td>0.037522</td>\n",
       "      <td>0.057954</td>\n",
       "    </tr>\n",
       "    <tr>\n",
       "      <th>4</th>\n",
       "      <td>FR</td>\n",
       "      <td>0.031843</td>\n",
       "      <td>0.041124</td>\n",
       "    </tr>\n",
       "    <tr>\n",
       "      <th>5</th>\n",
       "      <td>IT</td>\n",
       "      <td>0.025730</td>\n",
       "      <td>0.043911</td>\n",
       "    </tr>\n",
       "    <tr>\n",
       "      <th>6</th>\n",
       "      <td>MX</td>\n",
       "      <td>0.009670</td>\n",
       "      <td>0.026203</td>\n",
       "    </tr>\n",
       "    <tr>\n",
       "      <th>7</th>\n",
       "      <td>UK</td>\n",
       "      <td>0.048490</td>\n",
       "      <td>0.204398</td>\n",
       "    </tr>\n",
       "    <tr>\n",
       "      <th>8</th>\n",
       "      <td>US</td>\n",
       "      <td>0.248874</td>\n",
       "      <td>0.368860</td>\n",
       "    </tr>\n",
       "  </tbody>\n",
       "</table>\n",
       "</div>"
      ],
      "text/plain": [
       "  country  money_spent  unique_user\n",
       "0      CA     0.351704     0.268256\n",
       "1      CH     0.006941     0.003142\n",
       "2      DE     0.081459     0.015665\n",
       "3      ES     0.037522     0.057954\n",
       "4      FR     0.031843     0.041124\n",
       "5      IT     0.025730     0.043911\n",
       "6      MX     0.009670     0.026203\n",
       "7      UK     0.048490     0.204398\n",
       "8      US     0.248874     0.368860"
      ]
     },
     "execution_count": 34,
     "metadata": {},
     "output_type": "execute_result"
    }
   ],
   "source": [
    "df.groupby('country').apply(daily_stat).reset_index()"
   ]
  },
  {
   "cell_type": "markdown",
   "metadata": {},
   "source": [
    "从图和表格中可以看出：\n",
    "- CH 和 DE 是有显著下降的。\n",
    "- MX，IT，FR和ES是有显著增加的\n",
    "- 剩余其他国家没有显著变化"
   ]
  },
  {
   "cell_type": "code",
   "execution_count": 15,
   "metadata": {
    "ExecuteTime": {
     "end_time": "2020-09-09T19:26:14.699825Z",
     "start_time": "2020-09-09T19:26:14.565627Z"
    }
   },
   "outputs": [
    {
     "data": {
      "text/html": [
       "<div>\n",
       "<style scoped>\n",
       "    .dataframe tbody tr th:only-of-type {\n",
       "        vertical-align: middle;\n",
       "    }\n",
       "\n",
       "    .dataframe tbody tr th {\n",
       "        vertical-align: top;\n",
       "    }\n",
       "\n",
       "    .dataframe thead th {\n",
       "        text-align: right;\n",
       "    }\n",
       "</style>\n",
       "<table border=\"1\" class=\"dataframe\">\n",
       "  <thead>\n",
       "    <tr style=\"text-align: right;\">\n",
       "      <th></th>\n",
       "      <th>day_of_week</th>\n",
       "      <th>no_purchase</th>\n",
       "      <th>money_spent</th>\n",
       "      <th>unique_user</th>\n",
       "    </tr>\n",
       "  </thead>\n",
       "  <tbody>\n",
       "    <tr>\n",
       "      <th>0</th>\n",
       "      <td>0</td>\n",
       "      <td>0.012484</td>\n",
       "      <td>0.000368</td>\n",
       "      <td>0.000665</td>\n",
       "    </tr>\n",
       "    <tr>\n",
       "      <th>1</th>\n",
       "      <td>1</td>\n",
       "      <td>0.156965</td>\n",
       "      <td>0.007701</td>\n",
       "      <td>0.008802</td>\n",
       "    </tr>\n",
       "    <tr>\n",
       "      <th>2</th>\n",
       "      <td>2</td>\n",
       "      <td>0.009713</td>\n",
       "      <td>0.000301</td>\n",
       "      <td>0.001270</td>\n",
       "    </tr>\n",
       "    <tr>\n",
       "      <th>3</th>\n",
       "      <td>3</td>\n",
       "      <td>0.016584</td>\n",
       "      <td>0.000675</td>\n",
       "      <td>0.002578</td>\n",
       "    </tr>\n",
       "    <tr>\n",
       "      <th>4</th>\n",
       "      <td>4</td>\n",
       "      <td>0.016875</td>\n",
       "      <td>0.000595</td>\n",
       "      <td>0.000683</td>\n",
       "    </tr>\n",
       "    <tr>\n",
       "      <th>5</th>\n",
       "      <td>5</td>\n",
       "      <td>0.006828</td>\n",
       "      <td>0.000107</td>\n",
       "      <td>0.000125</td>\n",
       "    </tr>\n",
       "    <tr>\n",
       "      <th>6</th>\n",
       "      <td>6</td>\n",
       "      <td>0.011717</td>\n",
       "      <td>0.000133</td>\n",
       "      <td>0.000012</td>\n",
       "    </tr>\n",
       "  </tbody>\n",
       "</table>\n",
       "</div>"
      ],
      "text/plain": [
       "   day_of_week  no_purchase  money_spent  unique_user\n",
       "0            0     0.012484     0.000368     0.000665\n",
       "1            1     0.156965     0.007701     0.008802\n",
       "2            2     0.009713     0.000301     0.001270\n",
       "3            3     0.016584     0.000675     0.002578\n",
       "4            4     0.016875     0.000595     0.000683\n",
       "5            5     0.006828     0.000107     0.000125\n",
       "6            6     0.011717     0.000133     0.000012"
      ]
     },
     "execution_count": 15,
     "metadata": {},
     "output_type": "execute_result"
    }
   ],
   "source": [
    "df.groupby('day_of_week').apply(daily_stat).reset_index()"
   ]
  },
  {
   "cell_type": "code",
   "execution_count": null,
   "metadata": {},
   "outputs": [],
   "source": []
  }
 ],
 "metadata": {
  "kernelspec": {
   "display_name": "Python 3",
   "language": "python",
   "name": "python3"
  },
  "language_info": {
   "codemirror_mode": {
    "name": "ipython",
    "version": 3
   },
   "file_extension": ".py",
   "mimetype": "text/x-python",
   "name": "python",
   "nbconvert_exporter": "python",
   "pygments_lexer": "ipython3",
   "version": "3.7.6"
  },
  "toc": {
   "base_numbering": 1,
   "nav_menu": {},
   "number_sections": true,
   "sideBar": true,
   "skip_h1_title": false,
   "title_cell": "Table of Contents",
   "title_sidebar": "Contents",
   "toc_cell": true,
   "toc_position": {},
   "toc_section_display": true,
   "toc_window_display": false
  },
  "varInspector": {
   "cols": {
    "lenName": 16,
    "lenType": 16,
    "lenVar": 40
   },
   "kernels_config": {
    "python": {
     "delete_cmd_postfix": "",
     "delete_cmd_prefix": "del ",
     "library": "var_list.py",
     "varRefreshCmd": "print(var_dic_list())"
    },
    "r": {
     "delete_cmd_postfix": ") ",
     "delete_cmd_prefix": "rm(",
     "library": "var_list.r",
     "varRefreshCmd": "cat(var_dic_list()) "
    }
   },
   "types_to_exclude": [
    "module",
    "function",
    "builtin_function_or_method",
    "instance",
    "_Feature"
   ],
   "window_display": false
  }
 },
 "nbformat": 4,
 "nbformat_minor": 4
}
