{
 "cells": [
  {
   "cell_type": "markdown",
   "metadata": {},
   "source": [
    "# Basic Dataset "
   ]
  },
  {
   "cell_type": "code",
   "execution_count": 1,
   "metadata": {
    "ExecuteTime": {
     "end_time": "2020-08-26T15:53:18.398406Z",
     "start_time": "2020-08-26T15:53:17.384929Z"
    }
   },
   "outputs": [],
   "source": [
    "# import packages\n",
    "import pandas as pd\n",
    "import numpy as np\n",
    "import matplotlib.pyplot as plt\n",
    "import seaborn as sns\n",
    "\n",
    "from sklearn.metrics import accuracy_score, roc_curve, classification_report\n",
    "from dmba import classificationSummary\n",
    "import h2o\n",
    "from h2o.frame import H2OFrame\n",
    "from h2o.estimators.random_forest import H2ORandomForestEstimator\n",
    "\n",
    "plt.style.use('bmh')\n",
    "%matplotlib inline"
   ]
  },
  {
   "cell_type": "code",
   "execution_count": 2,
   "metadata": {
    "ExecuteTime": {
     "end_time": "2020-08-26T15:53:18.457429Z",
     "start_time": "2020-08-26T15:53:18.401404Z"
    }
   },
   "outputs": [
    {
     "data": {
      "text/html": [
       "<div>\n",
       "<style scoped>\n",
       "    .dataframe tbody tr th:only-of-type {\n",
       "        vertical-align: middle;\n",
       "    }\n",
       "\n",
       "    .dataframe tbody tr th {\n",
       "        vertical-align: top;\n",
       "    }\n",
       "\n",
       "    .dataframe thead th {\n",
       "        text-align: right;\n",
       "    }\n",
       "</style>\n",
       "<table border=\"1\" class=\"dataframe\">\n",
       "  <thead>\n",
       "    <tr style=\"text-align: right;\">\n",
       "      <th></th>\n",
       "      <th>email_id</th>\n",
       "      <th>open</th>\n",
       "    </tr>\n",
       "  </thead>\n",
       "  <tbody>\n",
       "    <tr>\n",
       "      <th>0</th>\n",
       "      <td>284534</td>\n",
       "      <td>1</td>\n",
       "    </tr>\n",
       "    <tr>\n",
       "      <th>1</th>\n",
       "      <td>609056</td>\n",
       "      <td>1</td>\n",
       "    </tr>\n",
       "    <tr>\n",
       "      <th>2</th>\n",
       "      <td>220820</td>\n",
       "      <td>1</td>\n",
       "    </tr>\n",
       "  </tbody>\n",
       "</table>\n",
       "</div>"
      ],
      "text/plain": [
       "   email_id  open\n",
       "0    284534     1\n",
       "1    609056     1\n",
       "2    220820     1"
      ]
     },
     "execution_count": 2,
     "metadata": {},
     "output_type": "execute_result"
    }
   ],
   "source": [
    "# import dataset\n",
    "open_table = pd.read_csv('email_opened_table.csv')\n",
    "open_table['open'] = 1\n",
    "open_table.head(3)"
   ]
  },
  {
   "cell_type": "code",
   "execution_count": 3,
   "metadata": {
    "ExecuteTime": {
     "end_time": "2020-08-26T15:53:18.544251Z",
     "start_time": "2020-08-26T15:53:18.460555Z"
    }
   },
   "outputs": [
    {
     "data": {
      "text/html": [
       "<div>\n",
       "<style scoped>\n",
       "    .dataframe tbody tr th:only-of-type {\n",
       "        vertical-align: middle;\n",
       "    }\n",
       "\n",
       "    .dataframe tbody tr th {\n",
       "        vertical-align: top;\n",
       "    }\n",
       "\n",
       "    .dataframe thead th {\n",
       "        text-align: right;\n",
       "    }\n",
       "</style>\n",
       "<table border=\"1\" class=\"dataframe\">\n",
       "  <thead>\n",
       "    <tr style=\"text-align: right;\">\n",
       "      <th></th>\n",
       "      <th>email_id</th>\n",
       "      <th>email_text</th>\n",
       "      <th>email_version</th>\n",
       "      <th>hour</th>\n",
       "      <th>weekday</th>\n",
       "      <th>user_country</th>\n",
       "      <th>user_past_purchases</th>\n",
       "    </tr>\n",
       "  </thead>\n",
       "  <tbody>\n",
       "    <tr>\n",
       "      <th>0</th>\n",
       "      <td>85120</td>\n",
       "      <td>short_email</td>\n",
       "      <td>personalized</td>\n",
       "      <td>2</td>\n",
       "      <td>Sunday</td>\n",
       "      <td>US</td>\n",
       "      <td>5</td>\n",
       "    </tr>\n",
       "    <tr>\n",
       "      <th>1</th>\n",
       "      <td>966622</td>\n",
       "      <td>long_email</td>\n",
       "      <td>personalized</td>\n",
       "      <td>12</td>\n",
       "      <td>Sunday</td>\n",
       "      <td>UK</td>\n",
       "      <td>2</td>\n",
       "    </tr>\n",
       "    <tr>\n",
       "      <th>2</th>\n",
       "      <td>777221</td>\n",
       "      <td>long_email</td>\n",
       "      <td>personalized</td>\n",
       "      <td>11</td>\n",
       "      <td>Wednesday</td>\n",
       "      <td>US</td>\n",
       "      <td>2</td>\n",
       "    </tr>\n",
       "  </tbody>\n",
       "</table>\n",
       "</div>"
      ],
      "text/plain": [
       "   email_id   email_text email_version  hour    weekday user_country  \\\n",
       "0     85120  short_email  personalized     2     Sunday           US   \n",
       "1    966622   long_email  personalized    12     Sunday           UK   \n",
       "2    777221   long_email  personalized    11  Wednesday           US   \n",
       "\n",
       "   user_past_purchases  \n",
       "0                    5  \n",
       "1                    2  \n",
       "2                    2  "
      ]
     },
     "execution_count": 3,
     "metadata": {},
     "output_type": "execute_result"
    }
   ],
   "source": [
    "# email table\n",
    "email = pd.read_csv('email_table.csv')\n",
    "email.head(3)"
   ]
  },
  {
   "cell_type": "code",
   "execution_count": 4,
   "metadata": {
    "ExecuteTime": {
     "end_time": "2020-08-26T15:53:18.560863Z",
     "start_time": "2020-08-26T15:53:18.547294Z"
    }
   },
   "outputs": [
    {
     "data": {
      "text/html": [
       "<div>\n",
       "<style scoped>\n",
       "    .dataframe tbody tr th:only-of-type {\n",
       "        vertical-align: middle;\n",
       "    }\n",
       "\n",
       "    .dataframe tbody tr th {\n",
       "        vertical-align: top;\n",
       "    }\n",
       "\n",
       "    .dataframe thead th {\n",
       "        text-align: right;\n",
       "    }\n",
       "</style>\n",
       "<table border=\"1\" class=\"dataframe\">\n",
       "  <thead>\n",
       "    <tr style=\"text-align: right;\">\n",
       "      <th></th>\n",
       "      <th>email_id</th>\n",
       "      <th>click</th>\n",
       "    </tr>\n",
       "  </thead>\n",
       "  <tbody>\n",
       "    <tr>\n",
       "      <th>0</th>\n",
       "      <td>609056</td>\n",
       "      <td>1</td>\n",
       "    </tr>\n",
       "    <tr>\n",
       "      <th>1</th>\n",
       "      <td>870980</td>\n",
       "      <td>1</td>\n",
       "    </tr>\n",
       "    <tr>\n",
       "      <th>2</th>\n",
       "      <td>935124</td>\n",
       "      <td>1</td>\n",
       "    </tr>\n",
       "  </tbody>\n",
       "</table>\n",
       "</div>"
      ],
      "text/plain": [
       "   email_id  click\n",
       "0    609056      1\n",
       "1    870980      1\n",
       "2    935124      1"
      ]
     },
     "execution_count": 4,
     "metadata": {},
     "output_type": "execute_result"
    }
   ],
   "source": [
    "# link and click table\n",
    "link_click = pd.read_csv('link_clicked_table.csv')\n",
    "link_click['click'] = 1\n",
    "link_click.head(3)"
   ]
  },
  {
   "cell_type": "code",
   "execution_count": 5,
   "metadata": {
    "ExecuteTime": {
     "end_time": "2020-08-26T15:53:18.609307Z",
     "start_time": "2020-08-26T15:53:18.563327Z"
    }
   },
   "outputs": [
    {
     "data": {
      "text/html": [
       "<div>\n",
       "<style scoped>\n",
       "    .dataframe tbody tr th:only-of-type {\n",
       "        vertical-align: middle;\n",
       "    }\n",
       "\n",
       "    .dataframe tbody tr th {\n",
       "        vertical-align: top;\n",
       "    }\n",
       "\n",
       "    .dataframe thead th {\n",
       "        text-align: right;\n",
       "    }\n",
       "</style>\n",
       "<table border=\"1\" class=\"dataframe\">\n",
       "  <thead>\n",
       "    <tr style=\"text-align: right;\">\n",
       "      <th></th>\n",
       "      <th>email_id</th>\n",
       "      <th>email_text</th>\n",
       "      <th>email_version</th>\n",
       "      <th>hour</th>\n",
       "      <th>weekday</th>\n",
       "      <th>user_country</th>\n",
       "      <th>user_past_purchases</th>\n",
       "      <th>click</th>\n",
       "    </tr>\n",
       "  </thead>\n",
       "  <tbody>\n",
       "    <tr>\n",
       "      <th>0</th>\n",
       "      <td>85120</td>\n",
       "      <td>short_email</td>\n",
       "      <td>personalized</td>\n",
       "      <td>2</td>\n",
       "      <td>Sunday</td>\n",
       "      <td>US</td>\n",
       "      <td>5</td>\n",
       "      <td>NaN</td>\n",
       "    </tr>\n",
       "    <tr>\n",
       "      <th>1</th>\n",
       "      <td>966622</td>\n",
       "      <td>long_email</td>\n",
       "      <td>personalized</td>\n",
       "      <td>12</td>\n",
       "      <td>Sunday</td>\n",
       "      <td>UK</td>\n",
       "      <td>2</td>\n",
       "      <td>1.0</td>\n",
       "    </tr>\n",
       "    <tr>\n",
       "      <th>2</th>\n",
       "      <td>777221</td>\n",
       "      <td>long_email</td>\n",
       "      <td>personalized</td>\n",
       "      <td>11</td>\n",
       "      <td>Wednesday</td>\n",
       "      <td>US</td>\n",
       "      <td>2</td>\n",
       "      <td>NaN</td>\n",
       "    </tr>\n",
       "    <tr>\n",
       "      <th>3</th>\n",
       "      <td>493711</td>\n",
       "      <td>short_email</td>\n",
       "      <td>generic</td>\n",
       "      <td>6</td>\n",
       "      <td>Monday</td>\n",
       "      <td>UK</td>\n",
       "      <td>1</td>\n",
       "      <td>NaN</td>\n",
       "    </tr>\n",
       "    <tr>\n",
       "      <th>4</th>\n",
       "      <td>106887</td>\n",
       "      <td>long_email</td>\n",
       "      <td>generic</td>\n",
       "      <td>14</td>\n",
       "      <td>Monday</td>\n",
       "      <td>US</td>\n",
       "      <td>6</td>\n",
       "      <td>NaN</td>\n",
       "    </tr>\n",
       "    <tr>\n",
       "      <th>...</th>\n",
       "      <td>...</td>\n",
       "      <td>...</td>\n",
       "      <td>...</td>\n",
       "      <td>...</td>\n",
       "      <td>...</td>\n",
       "      <td>...</td>\n",
       "      <td>...</td>\n",
       "      <td>...</td>\n",
       "    </tr>\n",
       "    <tr>\n",
       "      <th>99995</th>\n",
       "      <td>803504</td>\n",
       "      <td>short_email</td>\n",
       "      <td>personalized</td>\n",
       "      <td>4</td>\n",
       "      <td>Monday</td>\n",
       "      <td>US</td>\n",
       "      <td>5</td>\n",
       "      <td>NaN</td>\n",
       "    </tr>\n",
       "    <tr>\n",
       "      <th>99996</th>\n",
       "      <td>899722</td>\n",
       "      <td>long_email</td>\n",
       "      <td>personalized</td>\n",
       "      <td>7</td>\n",
       "      <td>Saturday</td>\n",
       "      <td>US</td>\n",
       "      <td>1</td>\n",
       "      <td>NaN</td>\n",
       "    </tr>\n",
       "    <tr>\n",
       "      <th>99997</th>\n",
       "      <td>449610</td>\n",
       "      <td>long_email</td>\n",
       "      <td>personalized</td>\n",
       "      <td>11</td>\n",
       "      <td>Saturday</td>\n",
       "      <td>UK</td>\n",
       "      <td>6</td>\n",
       "      <td>NaN</td>\n",
       "    </tr>\n",
       "    <tr>\n",
       "      <th>99998</th>\n",
       "      <td>72497</td>\n",
       "      <td>short_email</td>\n",
       "      <td>generic</td>\n",
       "      <td>10</td>\n",
       "      <td>Monday</td>\n",
       "      <td>UK</td>\n",
       "      <td>0</td>\n",
       "      <td>NaN</td>\n",
       "    </tr>\n",
       "    <tr>\n",
       "      <th>99999</th>\n",
       "      <td>348333</td>\n",
       "      <td>long_email</td>\n",
       "      <td>personalized</td>\n",
       "      <td>8</td>\n",
       "      <td>Sunday</td>\n",
       "      <td>UK</td>\n",
       "      <td>1</td>\n",
       "      <td>1.0</td>\n",
       "    </tr>\n",
       "  </tbody>\n",
       "</table>\n",
       "<p>100000 rows × 8 columns</p>\n",
       "</div>"
      ],
      "text/plain": [
       "       email_id   email_text email_version  hour    weekday user_country  \\\n",
       "0         85120  short_email  personalized     2     Sunday           US   \n",
       "1        966622   long_email  personalized    12     Sunday           UK   \n",
       "2        777221   long_email  personalized    11  Wednesday           US   \n",
       "3        493711  short_email       generic     6     Monday           UK   \n",
       "4        106887   long_email       generic    14     Monday           US   \n",
       "...         ...          ...           ...   ...        ...          ...   \n",
       "99995    803504  short_email  personalized     4     Monday           US   \n",
       "99996    899722   long_email  personalized     7   Saturday           US   \n",
       "99997    449610   long_email  personalized    11   Saturday           UK   \n",
       "99998     72497  short_email       generic    10     Monday           UK   \n",
       "99999    348333   long_email  personalized     8     Sunday           UK   \n",
       "\n",
       "       user_past_purchases  click  \n",
       "0                        5    NaN  \n",
       "1                        2    1.0  \n",
       "2                        2    NaN  \n",
       "3                        1    NaN  \n",
       "4                        6    NaN  \n",
       "...                    ...    ...  \n",
       "99995                    5    NaN  \n",
       "99996                    1    NaN  \n",
       "99997                    6    NaN  \n",
       "99998                    0    NaN  \n",
       "99999                    1    1.0  \n",
       "\n",
       "[100000 rows x 8 columns]"
      ]
     },
     "execution_count": 5,
     "metadata": {},
     "output_type": "execute_result"
    }
   ],
   "source": [
    "# email table combine with email\n",
    "email_click = pd.merge(email,\n",
    "                       link_click,\n",
    "                       how='left',\n",
    "                       left_on='email_id',\n",
    "                       right_on='email_id')\n",
    "email_click"
   ]
  },
  {
   "cell_type": "code",
   "execution_count": 6,
   "metadata": {
    "ExecuteTime": {
     "end_time": "2020-08-26T15:53:18.639514Z",
     "start_time": "2020-08-26T15:53:18.611322Z"
    }
   },
   "outputs": [],
   "source": [
    "# total data\n",
    "total_df = pd.merge(email_click,\n",
    "                    open_table,\n",
    "                    how='left',\n",
    "                    left_on='email_id',\n",
    "                    right_on='email_id')"
   ]
  },
  {
   "cell_type": "code",
   "execution_count": 7,
   "metadata": {
    "ExecuteTime": {
     "end_time": "2020-08-26T15:53:18.678863Z",
     "start_time": "2020-08-26T15:53:18.643724Z"
    },
    "scrolled": true
   },
   "outputs": [
    {
     "data": {
      "text/html": [
       "<div>\n",
       "<style scoped>\n",
       "    .dataframe tbody tr th:only-of-type {\n",
       "        vertical-align: middle;\n",
       "    }\n",
       "\n",
       "    .dataframe tbody tr th {\n",
       "        vertical-align: top;\n",
       "    }\n",
       "\n",
       "    .dataframe thead th {\n",
       "        text-align: right;\n",
       "    }\n",
       "</style>\n",
       "<table border=\"1\" class=\"dataframe\">\n",
       "  <thead>\n",
       "    <tr style=\"text-align: right;\">\n",
       "      <th></th>\n",
       "      <th>email_id</th>\n",
       "      <th>email_text</th>\n",
       "      <th>email_version</th>\n",
       "      <th>hour</th>\n",
       "      <th>weekday</th>\n",
       "      <th>user_country</th>\n",
       "      <th>user_past_purchases</th>\n",
       "      <th>click</th>\n",
       "      <th>open</th>\n",
       "    </tr>\n",
       "  </thead>\n",
       "  <tbody>\n",
       "    <tr>\n",
       "      <th>0</th>\n",
       "      <td>85120</td>\n",
       "      <td>short_email</td>\n",
       "      <td>personalized</td>\n",
       "      <td>2</td>\n",
       "      <td>Sunday</td>\n",
       "      <td>US</td>\n",
       "      <td>5</td>\n",
       "      <td>0</td>\n",
       "      <td>0</td>\n",
       "    </tr>\n",
       "    <tr>\n",
       "      <th>1</th>\n",
       "      <td>966622</td>\n",
       "      <td>long_email</td>\n",
       "      <td>personalized</td>\n",
       "      <td>12</td>\n",
       "      <td>Sunday</td>\n",
       "      <td>UK</td>\n",
       "      <td>2</td>\n",
       "      <td>1</td>\n",
       "      <td>1</td>\n",
       "    </tr>\n",
       "  </tbody>\n",
       "</table>\n",
       "</div>"
      ],
      "text/plain": [
       "   email_id   email_text email_version  hour weekday user_country  \\\n",
       "0     85120  short_email  personalized     2  Sunday           US   \n",
       "1    966622   long_email  personalized    12  Sunday           UK   \n",
       "\n",
       "   user_past_purchases  click  open  \n",
       "0                    5      0     0  \n",
       "1                    2      1     1  "
      ]
     },
     "execution_count": 7,
     "metadata": {},
     "output_type": "execute_result"
    }
   ],
   "source": [
    "# total data information\n",
    "total_df.fillna(0, inplace=True)\n",
    "total_df['open'] = total_df['open'].astype(int)\n",
    "total_df['click'] = total_df['click'].astype(int)\n",
    "total_df.head(2)"
   ]
  },
  {
   "cell_type": "code",
   "execution_count": 8,
   "metadata": {
    "ExecuteTime": {
     "end_time": "2020-08-26T15:53:18.710809Z",
     "start_time": "2020-08-26T15:53:18.682673Z"
    }
   },
   "outputs": [
    {
     "name": "stdout",
     "output_type": "stream",
     "text": [
      "<class 'pandas.core.frame.DataFrame'>\n",
      "Int64Index: 100000 entries, 0 to 99999\n",
      "Data columns (total 9 columns):\n",
      " #   Column               Non-Null Count   Dtype \n",
      "---  ------               --------------   ----- \n",
      " 0   email_id             100000 non-null  int64 \n",
      " 1   email_text           100000 non-null  object\n",
      " 2   email_version        100000 non-null  object\n",
      " 3   hour                 100000 non-null  int64 \n",
      " 4   weekday              100000 non-null  object\n",
      " 5   user_country         100000 non-null  object\n",
      " 6   user_past_purchases  100000 non-null  int64 \n",
      " 7   click                100000 non-null  int64 \n",
      " 8   open                 100000 non-null  int64 \n",
      "dtypes: int64(5), object(4)\n",
      "memory usage: 7.6+ MB\n"
     ]
    }
   ],
   "source": [
    "# inspect data\n",
    "total_df.info()"
   ]
  },
  {
   "cell_type": "markdown",
   "metadata": {},
   "source": [
    "# Data Exploration Analysis"
   ]
  },
  {
   "cell_type": "markdown",
   "metadata": {},
   "source": [
    "## Category Variables Exploration"
   ]
  },
  {
   "cell_type": "code",
   "execution_count": 9,
   "metadata": {
    "ExecuteTime": {
     "end_time": "2020-08-26T15:53:18.720516Z",
     "start_time": "2020-08-26T15:53:18.713259Z"
    }
   },
   "outputs": [],
   "source": [
    "def plot_cat(col):\n",
    "\n",
    "    fig, ax = plt.subplots(nrows=1, ncols=2, figsize=(18, 6))\n",
    "    sns.countplot(x=col, data=total_df, ax=ax[0])\n",
    "    ax[0].set_xlabel(col, fontsize=12)\n",
    "    ax[0].set_ylabel('Count', fontsize=12)\n",
    "    ax[0].set_title('Count Plot of ' + col, fontsize=16)\n",
    "\n",
    "    sns.barplot(x=col, y='click', data=total_df, ax=ax[1])\n",
    "    ax[1].set_xlabel(col, fontsize=12)\n",
    "    ax[1].set_ylabel('Click Through Rate', fontsize=12)\n",
    "    ax[1].set_title('Click Through Rate vs. ' + col, fontsize=16)\n",
    "    plt.tight_layout()\n",
    "    plt.show()"
   ]
  },
  {
   "cell_type": "code",
   "execution_count": 10,
   "metadata": {
    "ExecuteTime": {
     "end_time": "2020-08-26T15:53:22.951243Z",
     "start_time": "2020-08-26T15:53:18.723007Z"
    }
   },
   "outputs": [
    {
     "data": {
      "image/png": "[encoded data removed]",
      "text/plain": [
       "<Figure size 1296x432 with 2 Axes>"
      ]
     },
     "metadata": {
      "needs_background": "light"
     },
     "output_type": "display_data"
    },
    {
     "data": {
      "image/png": "[encoded data removed]",
      "text/plain": [
       "<Figure size 1296x432 with 2 Axes>"
      ]
     },
     "metadata": {
      "needs_background": "light"
     },
     "output_type": "display_data"
    },
    {
     "data": {
      "image/png": "[encoded data removed]",
      "text/plain": [
       "<Figure size 1296x432 with 2 Axes>"
      ]
     },
     "metadata": {
      "needs_background": "light"
     },
     "output_type": "display_data"
    },
    {
     "data": {
      "image/png": "[encoded data removed]",
      "text/plain": [
       "<Figure size 1296x432 with 2 Axes>"
      ]
     },
     "metadata": {
      "needs_background": "light"
     },
     "output_type": "display_data"
    }
   ],
   "source": [
    "# define cols\n",
    "cat_cols = ['email_text', 'email_version', 'user_country', 'weekday']\n",
    "for col in cat_cols:\n",
    "    plot_cat(col)"
   ]
  },
  {
   "cell_type": "markdown",
   "metadata": {},
   "source": [
    "- For email Length, short emails are more likely to be opened and clicked \n",
    "\n",
    "- For email version, personalized emails are more likely to be opened and clicked \n",
    "\n",
    "- For user country, customer from UK and Uk are more likely to open and click the ads \n",
    "\n",
    "- Customer are more likely to open ads on Monday, Tuesday, Wednesday and Thursday"
   ]
  },
  {
   "cell_type": "markdown",
   "metadata": {},
   "source": [
    "## Numerical Variables Exploration"
   ]
  },
  {
   "cell_type": "code",
   "execution_count": 11,
   "metadata": {
    "ExecuteTime": {
     "end_time": "2020-08-26T15:53:22.963613Z",
     "start_time": "2020-08-26T15:53:22.955065Z"
    }
   },
   "outputs": [],
   "source": [
    "def plot_num(col):\n",
    "    fig, ax = plt.subplots(nrows=1, ncols=2, figsize=(18, 6))\n",
    "    sns.countplot(x=col, data=total_df, ax=ax[0])\n",
    "    ax[0].set_xlabel(col, fontsize=12)\n",
    "    ax[0].set_ylabel('Count', fontsize=12)\n",
    "    ax[0].set_title('Count Plot of '+col, fontsize=16)\n",
    "\n",
    "    sns.barplot(x=col, y='click', data=total_df, ax=ax[1])\n",
    "    ax[1].set_xlabel(col, fontsize=12)\n",
    "    ax[1].set_ylabel('Click Through Rate', fontsize=12)\n",
    "    ax[1].set_title('Click Through Rate vs. '+col, fontsize=16)\n",
    "    plt.tight_layout()\n",
    "    plt.show()"
   ]
  },
  {
   "cell_type": "code",
   "execution_count": 12,
   "metadata": {
    "ExecuteTime": {
     "end_time": "2020-08-26T15:53:26.991247Z",
     "start_time": "2020-08-26T15:53:22.966855Z"
    }
   },
   "outputs": [
    {
     "data": {
      "image/png": "[encoded data removed]",
      "text/plain": [
       "<Figure size 1296x432 with 2 Axes>"
      ]
     },
     "metadata": {
      "needs_background": "light"
     },
     "output_type": "display_data"
    },
    {
     "data": {
      "image/png": "[encoded data removed]",
      "text/plain": [
       "<Figure size 1296x432 with 2 Axes>"
      ]
     },
     "metadata": {
      "needs_background": "light"
     },
     "output_type": "display_data"
    }
   ],
   "source": [
    "num_cols = ['user_past_purchases','hour']\n",
    "for col in num_cols:\n",
    "    plot_num(col)"
   ]
  },
  {
   "cell_type": "code",
   "execution_count": 13,
   "metadata": {
    "ExecuteTime": {
     "end_time": "2020-08-26T15:53:27.214578Z",
     "start_time": "2020-08-26T15:53:26.995628Z"
    },
    "scrolled": false
   },
   "outputs": [
    {
     "data": {
      "text/plain": [
       "<matplotlib.axes._subplots.AxesSubplot at 0x7fc55a951e50>"
      ]
     },
     "execution_count": 13,
     "metadata": {},
     "output_type": "execute_result"
    },
    {
     "data": {
      "image/png": "[encoded data removed]",
      "text/plain": [
       "<Figure size 432x288 with 2 Axes>"
      ]
     },
     "metadata": {
      "needs_background": "light"
     },
     "output_type": "display_data"
    }
   ],
   "source": [
    "# correlation heat map for the numeric data \n",
    "sns.heatmap(total_df[['hour', 'user_past_purchases', 'click', 'open']].corr(),\n",
    "            annot=True,\n",
    "            cmap='coolwarm',\n",
    "            square=True)"
   ]
  },
  {
   "cell_type": "markdown",
   "metadata": {},
   "source": [
    "# Goal\n",
    "---\n",
    "\n",
    "- What percentage of users opened the email and what percentage clicked on the link within the email?\n",
    "\n",
    "- Can you build a model to optimize in future email campaigns to maximize the probability of users clicking on the link inside the email?\n",
    "\n",
    "- By how much do you think your model would improve click through rate ( defined as # of users who click on the link / total users who received the email). How would you test that?\n",
    "\n",
    "- Did you find any interesting pattern on how the email campaign performed for different segments of users? Explain."
   ]
  },
  {
   "cell_type": "markdown",
   "metadata": {},
   "source": [
    "## What percentage of users opened the email and what percentage clicked on the link within the email?"
   ]
  },
  {
   "cell_type": "code",
   "execution_count": 14,
   "metadata": {
    "ExecuteTime": {
     "end_time": "2020-08-26T15:53:27.225869Z",
     "start_time": "2020-08-26T15:53:27.217121Z"
    }
   },
   "outputs": [
    {
     "name": "stdout",
     "output_type": "stream",
     "text": [
      "10.35 % of email are opened\n"
     ]
    }
   ],
   "source": [
    "print(round(len(open_table) / len(email),4)*100,'% of email are opened')"
   ]
  },
  {
   "cell_type": "code",
   "execution_count": 15,
   "metadata": {
    "ExecuteTime": {
     "end_time": "2020-08-26T15:53:27.241015Z",
     "start_time": "2020-08-26T15:53:27.230919Z"
    }
   },
   "outputs": [
    {
     "name": "stdout",
     "output_type": "stream",
     "text": [
      "2.12 % of email are opened\n"
     ]
    }
   ],
   "source": [
    "print(round(len(link_click) / len(email),4)*100,'% of email are opened')"
   ]
  },
  {
   "cell_type": "markdown",
   "metadata": {},
   "source": [
    "## Can you build a model to optimize in future email campaigns to maximize the probability of users clicking on the link inside the email?"
   ]
  },
  {
   "cell_type": "code",
   "execution_count": 16,
   "metadata": {
    "ExecuteTime": {
     "end_time": "2020-08-26T15:54:21.843498Z",
     "start_time": "2020-08-26T15:54:21.831889Z"
    }
   },
   "outputs": [
    {
     "data": {
      "text/plain": [
       "0    97881\n",
       "1     2119\n",
       "Name: click, dtype: int64"
      ]
     },
     "execution_count": 16,
     "metadata": {},
     "output_type": "execute_result"
    }
   ],
   "source": [
    "total_df['click'].value_counts()"
   ]
  },
  {
   "cell_type": "code",
   "execution_count": 17,
   "metadata": {
    "ExecuteTime": {
     "end_time": "2020-08-26T15:54:54.319970Z",
     "start_time": "2020-08-26T15:54:45.950389Z"
    }
   },
   "outputs": [
    {
     "name": "stdout",
     "output_type": "stream",
     "text": [
      "Checking whether there is an H2O instance running at http://localhost:54321 ..... not found.\n",
      "Attempting to start a local H2O server...\n",
      "  Java Version: java version \"11.0.5\" 2019-10-15 LTS; Java(TM) SE Runtime Environment 18.9 (build 11.0.5+10-LTS); Java HotSpot(TM) 64-Bit Server VM 18.9 (build 11.0.5+10-LTS, mixed mode)\n",
      "  Starting server from /Users/matsujun/opt/anaconda3/lib/python3.7/site-packages/h2o/backend/bin/h2o.jar\n",
      "  Ice root: /var/folders/3w/1j4y1jns6hb89zd6xxfyjzwr0000gn/T/tmp9koib2h4\n",
      "  JVM stdout: /var/folders/3w/1j4y1jns6hb89zd6xxfyjzwr0000gn/T/tmp9koib2h4/h2o_matsujun_started_from_python.out\n",
      "  JVM stderr: /var/folders/3w/1j4y1jns6hb89zd6xxfyjzwr0000gn/T/tmp9koib2h4/h2o_matsujun_started_from_python.err\n",
      "  Server is running at http://127.0.0.1:54321\n",
      "Connecting to H2O server at http://127.0.0.1:54321 ... successful.\n"
     ]
    },
    {
     "data": {
      "text/html": [
       "<div style=\"overflow:auto\"><table style=\"width:50%\"><tr><td>H2O_cluster_uptime:</td>\n",
       "<td>02 secs</td></tr>\n",
       "<tr><td>H2O_cluster_timezone:</td>\n",
       "<td>America/New_York</td></tr>\n",
       "<tr><td>H2O_data_parsing_timezone:</td>\n",
       "<td>UTC</td></tr>\n",
       "<tr><td>H2O_cluster_version:</td>\n",
       "<td>3.30.1.1</td></tr>\n",
       "<tr><td>H2O_cluster_version_age:</td>\n",
       "<td>15 days </td></tr>\n",
       "<tr><td>H2O_cluster_name:</td>\n",
       "<td>H2O_from_python_matsujun_083d57</td></tr>\n",
       "<tr><td>H2O_cluster_total_nodes:</td>\n",
       "<td>1</td></tr>\n",
       "<tr><td>H2O_cluster_free_memory:</td>\n",
       "<td>2 Gb</td></tr>\n",
       "<tr><td>H2O_cluster_total_cores:</td>\n",
       "<td>4</td></tr>\n",
       "<tr><td>H2O_cluster_allowed_cores:</td>\n",
       "<td>4</td></tr>\n",
       "<tr><td>H2O_cluster_status:</td>\n",
       "<td>accepting new members, healthy</td></tr>\n",
       "<tr><td>H2O_connection_url:</td>\n",
       "<td>http://127.0.0.1:54321</td></tr>\n",
       "<tr><td>H2O_connection_proxy:</td>\n",
       "<td>{\"http\": null, \"https\": null}</td></tr>\n",
       "<tr><td>H2O_internal_security:</td>\n",
       "<td>False</td></tr>\n",
       "<tr><td>H2O_API_Extensions:</td>\n",
       "<td>Amazon S3, XGBoost, Algos, AutoML, Core V3, TargetEncoder, Core V4</td></tr>\n",
       "<tr><td>Python_version:</td>\n",
       "<td>3.7.6 final</td></tr></table></div>"
      ],
      "text/plain": [
       "--------------------------  ------------------------------------------------------------------\n",
       "H2O_cluster_uptime:         02 secs\n",
       "H2O_cluster_timezone:       America/New_York\n",
       "H2O_data_parsing_timezone:  UTC\n",
       "H2O_cluster_version:        3.30.1.1\n",
       "H2O_cluster_version_age:    15 days\n",
       "H2O_cluster_name:           H2O_from_python_matsujun_083d57\n",
       "H2O_cluster_total_nodes:    1\n",
       "H2O_cluster_free_memory:    2 Gb\n",
       "H2O_cluster_total_cores:    4\n",
       "H2O_cluster_allowed_cores:  4\n",
       "H2O_cluster_status:         accepting new members, healthy\n",
       "H2O_connection_url:         http://127.0.0.1:54321\n",
       "H2O_connection_proxy:       {\"http\": null, \"https\": null}\n",
       "H2O_internal_security:      False\n",
       "H2O_API_Extensions:         Amazon S3, XGBoost, Algos, AutoML, Core V3, TargetEncoder, Core V4\n",
       "Python_version:             3.7.6 final\n",
       "--------------------------  ------------------------------------------------------------------"
      ]
     },
     "metadata": {},
     "output_type": "display_data"
    }
   ],
   "source": [
    "# Initialize H2O cluster\n",
    "h2o.init()\n",
    "h2o.remove_all()"
   ]
  },
  {
   "cell_type": "code",
   "execution_count": 19,
   "metadata": {
    "ExecuteTime": {
     "end_time": "2020-08-26T15:55:47.179999Z",
     "start_time": "2020-08-26T15:55:43.900432Z"
    }
   },
   "outputs": [
    {
     "name": "stdout",
     "output_type": "stream",
     "text": [
      "Parse progress: |█████████████████████████████████████████████████████████| 100%\n"
     ]
    },
    {
     "data": {
      "text/html": [
       "<table>\n",
       "<thead>\n",
       "<tr><th>       </th><th>email_id         </th><th>email_text  </th><th>email_version  </th><th>hour              </th><th>weekday  </th><th>user_country  </th><th>user_past_purchases  </th><th>click  </th><th>open              </th></tr>\n",
       "</thead>\n",
       "<tbody>\n",
       "<tr><td>type   </td><td>int              </td><td>enum        </td><td>enum           </td><td>int               </td><td>enum     </td><td>enum          </td><td>int                  </td><td>enum   </td><td>int               </td></tr>\n",
       "<tr><td>mins   </td><td>8.0              </td><td>            </td><td>               </td><td>1.0               </td><td>         </td><td>              </td><td>0.0                  </td><td>       </td><td>0.0               </td></tr>\n",
       "<tr><td>mean   </td><td>498690.1961600027</td><td>            </td><td>               </td><td>9.059300000000045 </td><td>         </td><td>              </td><td>3.878450000000022    </td><td>       </td><td>0.10345           </td></tr>\n",
       "<tr><td>maxs   </td><td>999998.0         </td><td>            </td><td>               </td><td>24.0              </td><td>         </td><td>              </td><td>22.0                 </td><td>       </td><td>1.0               </td></tr>\n",
       "<tr><td>sigma  </td><td>289230.7275342937</td><td>            </td><td>               </td><td>4.4396374417069655</td><td>         </td><td>              </td><td>3.1961097835771355   </td><td>       </td><td>0.3045472459081676</td></tr>\n",
       "<tr><td>zeros  </td><td>0                </td><td>            </td><td>               </td><td>0                 </td><td>         </td><td>              </td><td>13877                </td><td>       </td><td>89655             </td></tr>\n",
       "<tr><td>missing</td><td>0                </td><td>0           </td><td>0              </td><td>0                 </td><td>0        </td><td>0             </td><td>0                    </td><td>0      </td><td>0                 </td></tr>\n",
       "<tr><td>0      </td><td>85120.0          </td><td>short_email </td><td>personalized   </td><td>2.0               </td><td>Sunday   </td><td>US            </td><td>5.0                  </td><td>0      </td><td>0.0               </td></tr>\n",
       "<tr><td>1      </td><td>966622.0         </td><td>long_email  </td><td>personalized   </td><td>12.0              </td><td>Sunday   </td><td>UK            </td><td>2.0                  </td><td>1      </td><td>1.0               </td></tr>\n",
       "<tr><td>2      </td><td>777221.0         </td><td>long_email  </td><td>personalized   </td><td>11.0              </td><td>Wednesday</td><td>US            </td><td>2.0                  </td><td>0      </td><td>0.0               </td></tr>\n",
       "<tr><td>3      </td><td>493711.0         </td><td>short_email </td><td>generic        </td><td>6.0               </td><td>Monday   </td><td>UK            </td><td>1.0                  </td><td>0      </td><td>0.0               </td></tr>\n",
       "<tr><td>4      </td><td>106887.0         </td><td>long_email  </td><td>generic        </td><td>14.0              </td><td>Monday   </td><td>US            </td><td>6.0                  </td><td>0      </td><td>0.0               </td></tr>\n",
       "<tr><td>5      </td><td>684440.0         </td><td>long_email  </td><td>personalized   </td><td>6.0               </td><td>Sunday   </td><td>UK            </td><td>3.0                  </td><td>0      </td><td>0.0               </td></tr>\n",
       "<tr><td>6      </td><td>139620.0         </td><td>short_email </td><td>personalized   </td><td>9.0               </td><td>Saturday </td><td>US            </td><td>8.0                  </td><td>0      </td><td>1.0               </td></tr>\n",
       "<tr><td>7      </td><td>694933.0         </td><td>long_email  </td><td>generic        </td><td>8.0               </td><td>Saturday </td><td>US            </td><td>2.0                  </td><td>0      </td><td>0.0               </td></tr>\n",
       "<tr><td>8      </td><td>485760.0         </td><td>long_email  </td><td>personalized   </td><td>5.0               </td><td>Monday   </td><td>US            </td><td>4.0                  </td><td>0      </td><td>0.0               </td></tr>\n",
       "<tr><td>9      </td><td>592665.0         </td><td>short_email </td><td>personalized   </td><td>23.0              </td><td>Wednesday</td><td>US            </td><td>3.0                  </td><td>0      </td><td>0.0               </td></tr>\n",
       "</tbody>\n",
       "</table>"
      ]
     },
     "metadata": {},
     "output_type": "display_data"
    }
   ],
   "source": [
    "# Transform to H2O Frame, and make sure the target variable is categorical\n",
    "# classfication \n",
    "h2o_df = H2OFrame(total_df)\n",
    "h2o_df['click'] = h2o_df['click'].asfactor()\n",
    "\n",
    "h2o_df.summary()"
   ]
  },
  {
   "cell_type": "code",
   "execution_count": 25,
   "metadata": {
    "ExecuteTime": {
     "end_time": "2020-08-26T15:57:26.730746Z",
     "start_time": "2020-08-26T15:57:26.702979Z"
    }
   },
   "outputs": [],
   "source": [
    "# Split into 75% training and 25% test dataset\n",
    "strat_split = h2o_df['click'].stratified_split(test_frac=0.2, seed=42)\n",
    "\n",
    "train = h2o_df[strat_split == 'train']\n",
    "test = h2o_df[strat_split == 'test']\n",
    "\n",
    "feature = ['email_text', 'email_version', 'hour', 'weekday', 'user_country', 'user_past_purchases']\n",
    "target = 'click'"
   ]
  },
  {
   "cell_type": "code",
   "execution_count": 26,
   "metadata": {
    "ExecuteTime": {
     "end_time": "2020-08-26T15:57:43.544058Z",
     "start_time": "2020-08-26T15:57:28.316709Z"
    }
   },
   "outputs": [
    {
     "name": "stdout",
     "output_type": "stream",
     "text": [
      "drf Model Build progress: |███████████████████████████████████████████████| 100%\n"
     ]
    }
   ],
   "source": [
    "# Build random forest model\n",
    "model = H2ORandomForestEstimator(balance_classes=True, ntrees=100, max_depth=10, \n",
    "                                 mtries=-1, seed=42, score_each_iteration=True)\n",
    "model.train(x=feature, y=target, training_frame=train)"
   ]
  },
  {
   "cell_type": "code",
   "execution_count": 27,
   "metadata": {
    "ExecuteTime": {
     "end_time": "2020-08-26T15:58:12.059400Z",
     "start_time": "2020-08-26T15:58:11.851264Z"
    }
   },
   "outputs": [
    {
     "name": "stdout",
     "output_type": "stream",
     "text": [
      "Model Details\n",
      "=============\n",
      "H2ORandomForestEstimator :  Distributed Random Forest\n",
      "Model Key:  DRF_model_python_1598457290982_1\n",
      "\n",
      "\n",
      "Model Summary: \n"
     ]
    },
    {
     "data": {
      "text/html": [
       "<div>\n",
       "<style scoped>\n",
       "    .dataframe tbody tr th:only-of-type {\n",
       "        vertical-align: middle;\n",
       "    }\n",
       "\n",
       "    .dataframe tbody tr th {\n",
       "        vertical-align: top;\n",
       "    }\n",
       "\n",
       "    .dataframe thead th {\n",
       "        text-align: right;\n",
       "    }\n",
       "</style>\n",
       "<table border=\"1\" class=\"dataframe\">\n",
       "  <thead>\n",
       "    <tr style=\"text-align: right;\">\n",
       "      <th></th>\n",
       "      <th></th>\n",
       "      <th>number_of_trees</th>\n",
       "      <th>number_of_internal_trees</th>\n",
       "      <th>model_size_in_bytes</th>\n",
       "      <th>min_depth</th>\n",
       "      <th>max_depth</th>\n",
       "      <th>mean_depth</th>\n",
       "      <th>min_leaves</th>\n",
       "      <th>max_leaves</th>\n",
       "      <th>mean_leaves</th>\n",
       "    </tr>\n",
       "  </thead>\n",
       "  <tbody>\n",
       "    <tr>\n",
       "      <th>0</th>\n",
       "      <td></td>\n",
       "      <td>100.0</td>\n",
       "      <td>100.0</td>\n",
       "      <td>521170.0</td>\n",
       "      <td>10.0</td>\n",
       "      <td>10.0</td>\n",
       "      <td>10.0</td>\n",
       "      <td>289.0</td>\n",
       "      <td>499.0</td>\n",
       "      <td>409.35</td>\n",
       "    </tr>\n",
       "  </tbody>\n",
       "</table>\n",
       "</div>"
      ],
      "text/plain": [
       "     number_of_trees  number_of_internal_trees  model_size_in_bytes  \\\n",
       "0              100.0                     100.0             521170.0   \n",
       "\n",
       "   min_depth  max_depth  mean_depth  min_leaves  max_leaves  mean_leaves  \n",
       "0       10.0       10.0        10.0       289.0       499.0       409.35  "
      ]
     },
     "metadata": {},
     "output_type": "display_data"
    },
    {
     "name": "stdout",
     "output_type": "stream",
     "text": [
      "\n",
      "\n",
      "ModelMetricsBinomial: drf\n",
      "** Reported on train data. **\n",
      "\n",
      "MSE: 0.4562092003571866\n",
      "RMSE: 0.6754326023795317\n",
      "LogLoss: 1.6267369399762117\n",
      "Mean Per-Class Error: 0.22636294781033528\n",
      "AUC: 0.8551478497897996\n",
      "AUCPR: 0.8275386331261197\n",
      "Gini: 0.7102956995795993\n",
      "\n",
      "Confusion Matrix (Act/Pred) for max f1 @ threshold = 0.016624101675088144: \n"
     ]
    },
    {
     "data": {
      "text/html": [
       "<div>\n",
       "<style scoped>\n",
       "    .dataframe tbody tr th:only-of-type {\n",
       "        vertical-align: middle;\n",
       "    }\n",
       "\n",
       "    .dataframe tbody tr th {\n",
       "        vertical-align: top;\n",
       "    }\n",
       "\n",
       "    .dataframe thead th {\n",
       "        text-align: right;\n",
       "    }\n",
       "</style>\n",
       "<table border=\"1\" class=\"dataframe\">\n",
       "  <thead>\n",
       "    <tr style=\"text-align: right;\">\n",
       "      <th></th>\n",
       "      <th></th>\n",
       "      <th>0</th>\n",
       "      <th>1</th>\n",
       "      <th>Error</th>\n",
       "      <th>Rate</th>\n",
       "    </tr>\n",
       "  </thead>\n",
       "  <tbody>\n",
       "    <tr>\n",
       "      <th>0</th>\n",
       "      <td>0</td>\n",
       "      <td>47484.0</td>\n",
       "      <td>30821.0</td>\n",
       "      <td>0.3936</td>\n",
       "      <td>(30821.0/78305.0)</td>\n",
       "    </tr>\n",
       "    <tr>\n",
       "      <th>1</th>\n",
       "      <td>1</td>\n",
       "      <td>5166.0</td>\n",
       "      <td>73142.0</td>\n",
       "      <td>0.066</td>\n",
       "      <td>(5166.0/78308.0)</td>\n",
       "    </tr>\n",
       "    <tr>\n",
       "      <th>2</th>\n",
       "      <td>Total</td>\n",
       "      <td>52650.0</td>\n",
       "      <td>103963.0</td>\n",
       "      <td>0.2298</td>\n",
       "      <td>(35987.0/156613.0)</td>\n",
       "    </tr>\n",
       "  </tbody>\n",
       "</table>\n",
       "</div>"
      ],
      "text/plain": [
       "                0         1   Error                 Rate\n",
       "0      0  47484.0   30821.0  0.3936    (30821.0/78305.0)\n",
       "1      1   5166.0   73142.0   0.066     (5166.0/78308.0)\n",
       "2  Total  52650.0  103963.0  0.2298   (35987.0/156613.0)"
      ]
     },
     "metadata": {},
     "output_type": "display_data"
    },
    {
     "name": "stdout",
     "output_type": "stream",
     "text": [
      "\n",
      "Maximum Metrics: Maximum metrics at their respective thresholds\n"
     ]
    },
    {
     "data": {
      "text/html": [
       "<div>\n",
       "<style scoped>\n",
       "    .dataframe tbody tr th:only-of-type {\n",
       "        vertical-align: middle;\n",
       "    }\n",
       "\n",
       "    .dataframe tbody tr th {\n",
       "        vertical-align: top;\n",
       "    }\n",
       "\n",
       "    .dataframe thead th {\n",
       "        text-align: right;\n",
       "    }\n",
       "</style>\n",
       "<table border=\"1\" class=\"dataframe\">\n",
       "  <thead>\n",
       "    <tr style=\"text-align: right;\">\n",
       "      <th></th>\n",
       "      <th>metric</th>\n",
       "      <th>threshold</th>\n",
       "      <th>value</th>\n",
       "      <th>idx</th>\n",
       "    </tr>\n",
       "  </thead>\n",
       "  <tbody>\n",
       "    <tr>\n",
       "      <th>0</th>\n",
       "      <td>max f1</td>\n",
       "      <td>0.016624</td>\n",
       "      <td>0.802563</td>\n",
       "      <td>324.0</td>\n",
       "    </tr>\n",
       "    <tr>\n",
       "      <th>1</th>\n",
       "      <td>max f2</td>\n",
       "      <td>0.011439</td>\n",
       "      <td>0.896877</td>\n",
       "      <td>347.0</td>\n",
       "    </tr>\n",
       "    <tr>\n",
       "      <th>2</th>\n",
       "      <td>max f0point5</td>\n",
       "      <td>0.032317</td>\n",
       "      <td>0.763448</td>\n",
       "      <td>258.0</td>\n",
       "    </tr>\n",
       "    <tr>\n",
       "      <th>3</th>\n",
       "      <td>max accuracy</td>\n",
       "      <td>0.018586</td>\n",
       "      <td>0.773639</td>\n",
       "      <td>315.0</td>\n",
       "    </tr>\n",
       "    <tr>\n",
       "      <th>4</th>\n",
       "      <td>max precision</td>\n",
       "      <td>0.294248</td>\n",
       "      <td>1.000000</td>\n",
       "      <td>0.0</td>\n",
       "    </tr>\n",
       "    <tr>\n",
       "      <th>5</th>\n",
       "      <td>max recall</td>\n",
       "      <td>0.004379</td>\n",
       "      <td>1.000000</td>\n",
       "      <td>376.0</td>\n",
       "    </tr>\n",
       "    <tr>\n",
       "      <th>6</th>\n",
       "      <td>max specificity</td>\n",
       "      <td>0.294248</td>\n",
       "      <td>1.000000</td>\n",
       "      <td>0.0</td>\n",
       "    </tr>\n",
       "    <tr>\n",
       "      <th>7</th>\n",
       "      <td>max absolute_mcc</td>\n",
       "      <td>0.016624</td>\n",
       "      <td>0.572001</td>\n",
       "      <td>324.0</td>\n",
       "    </tr>\n",
       "    <tr>\n",
       "      <th>8</th>\n",
       "      <td>max min_per_class_accuracy</td>\n",
       "      <td>0.027017</td>\n",
       "      <td>0.761458</td>\n",
       "      <td>281.0</td>\n",
       "    </tr>\n",
       "    <tr>\n",
       "      <th>9</th>\n",
       "      <td>max mean_per_class_accuracy</td>\n",
       "      <td>0.018586</td>\n",
       "      <td>0.773637</td>\n",
       "      <td>315.0</td>\n",
       "    </tr>\n",
       "    <tr>\n",
       "      <th>10</th>\n",
       "      <td>max tns</td>\n",
       "      <td>0.294248</td>\n",
       "      <td>78305.000000</td>\n",
       "      <td>0.0</td>\n",
       "    </tr>\n",
       "    <tr>\n",
       "      <th>11</th>\n",
       "      <td>max fns</td>\n",
       "      <td>0.294248</td>\n",
       "      <td>78307.000000</td>\n",
       "      <td>0.0</td>\n",
       "    </tr>\n",
       "    <tr>\n",
       "      <th>12</th>\n",
       "      <td>max fps</td>\n",
       "      <td>0.000066</td>\n",
       "      <td>78305.000000</td>\n",
       "      <td>399.0</td>\n",
       "    </tr>\n",
       "    <tr>\n",
       "      <th>13</th>\n",
       "      <td>max tps</td>\n",
       "      <td>0.004379</td>\n",
       "      <td>78308.000000</td>\n",
       "      <td>376.0</td>\n",
       "    </tr>\n",
       "    <tr>\n",
       "      <th>14</th>\n",
       "      <td>max tnr</td>\n",
       "      <td>0.294248</td>\n",
       "      <td>1.000000</td>\n",
       "      <td>0.0</td>\n",
       "    </tr>\n",
       "    <tr>\n",
       "      <th>15</th>\n",
       "      <td>max fnr</td>\n",
       "      <td>0.294248</td>\n",
       "      <td>0.999987</td>\n",
       "      <td>0.0</td>\n",
       "    </tr>\n",
       "    <tr>\n",
       "      <th>16</th>\n",
       "      <td>max fpr</td>\n",
       "      <td>0.000066</td>\n",
       "      <td>1.000000</td>\n",
       "      <td>399.0</td>\n",
       "    </tr>\n",
       "    <tr>\n",
       "      <th>17</th>\n",
       "      <td>max tpr</td>\n",
       "      <td>0.004379</td>\n",
       "      <td>1.000000</td>\n",
       "      <td>376.0</td>\n",
       "    </tr>\n",
       "  </tbody>\n",
       "</table>\n",
       "</div>"
      ],
      "text/plain": [
       "                         metric  threshold         value    idx\n",
       "0                        max f1   0.016624      0.802563  324.0\n",
       "1                        max f2   0.011439      0.896877  347.0\n",
       "2                  max f0point5   0.032317      0.763448  258.0\n",
       "3                  max accuracy   0.018586      0.773639  315.0\n",
       "4                 max precision   0.294248      1.000000    0.0\n",
       "5                    max recall   0.004379      1.000000  376.0\n",
       "6               max specificity   0.294248      1.000000    0.0\n",
       "7              max absolute_mcc   0.016624      0.572001  324.0\n",
       "8    max min_per_class_accuracy   0.027017      0.761458  281.0\n",
       "9   max mean_per_class_accuracy   0.018586      0.773637  315.0\n",
       "10                      max tns   0.294248  78305.000000    0.0\n",
       "11                      max fns   0.294248  78307.000000    0.0\n",
       "12                      max fps   0.000066  78305.000000  399.0\n",
       "13                      max tps   0.004379  78308.000000  376.0\n",
       "14                      max tnr   0.294248      1.000000    0.0\n",
       "15                      max fnr   0.294248      0.999987    0.0\n",
       "16                      max fpr   0.000066      1.000000  399.0\n",
       "17                      max tpr   0.004379      1.000000  376.0"
      ]
     },
     "metadata": {},
     "output_type": "display_data"
    },
    {
     "name": "stdout",
     "output_type": "stream",
     "text": [
      "\n",
      "Gains/Lift Table: Avg response rate: 50.00 %, avg score:  3.13 %\n"
     ]
    },
    {
     "data": {
      "text/html": [
       "<div>\n",
       "<style scoped>\n",
       "    .dataframe tbody tr th:only-of-type {\n",
       "        vertical-align: middle;\n",
       "    }\n",
       "\n",
       "    .dataframe tbody tr th {\n",
       "        vertical-align: top;\n",
       "    }\n",
       "\n",
       "    .dataframe thead th {\n",
       "        text-align: right;\n",
       "    }\n",
       "</style>\n",
       "<table border=\"1\" class=\"dataframe\">\n",
       "  <thead>\n",
       "    <tr style=\"text-align: right;\">\n",
       "      <th></th>\n",
       "      <th>group</th>\n",
       "      <th>cumulative_data_fraction</th>\n",
       "      <th>lower_threshold</th>\n",
       "      <th>lift</th>\n",
       "      <th>cumulative_lift</th>\n",
       "      <th>response_rate</th>\n",
       "      <th>score</th>\n",
       "      <th>cumulative_response_rate</th>\n",
       "      <th>cumulative_score</th>\n",
       "      <th>capture_rate</th>\n",
       "      <th>cumulative_capture_rate</th>\n",
       "      <th>gain</th>\n",
       "      <th>cumulative_gain</th>\n",
       "      <th>kolmogorov_smirnov</th>\n",
       "    </tr>\n",
       "  </thead>\n",
       "  <tbody>\n",
       "    <tr>\n",
       "      <th>0</th>\n",
       "      <td>1</td>\n",
       "      <td>0.010006</td>\n",
       "      <td>0.114728</td>\n",
       "      <td>1.955291</td>\n",
       "      <td>1.955291</td>\n",
       "      <td>0.977664</td>\n",
       "      <td>0.135304</td>\n",
       "      <td>0.977664</td>\n",
       "      <td>0.135304</td>\n",
       "      <td>0.019564</td>\n",
       "      <td>0.019564</td>\n",
       "      <td>95.529120</td>\n",
       "      <td>95.529120</td>\n",
       "      <td>0.019117</td>\n",
       "    </tr>\n",
       "    <tr>\n",
       "      <th>1</th>\n",
       "      <td>2</td>\n",
       "      <td>0.020005</td>\n",
       "      <td>0.097410</td>\n",
       "      <td>1.899070</td>\n",
       "      <td>1.927189</td>\n",
       "      <td>0.949553</td>\n",
       "      <td>0.104563</td>\n",
       "      <td>0.963613</td>\n",
       "      <td>0.119938</td>\n",
       "      <td>0.018989</td>\n",
       "      <td>0.038553</td>\n",
       "      <td>89.906962</td>\n",
       "      <td>92.718938</td>\n",
       "      <td>0.037097</td>\n",
       "    </tr>\n",
       "    <tr>\n",
       "      <th>2</th>\n",
       "      <td>3</td>\n",
       "      <td>0.030004</td>\n",
       "      <td>0.089646</td>\n",
       "      <td>1.846708</td>\n",
       "      <td>1.900368</td>\n",
       "      <td>0.923372</td>\n",
       "      <td>0.093188</td>\n",
       "      <td>0.950202</td>\n",
       "      <td>0.111023</td>\n",
       "      <td>0.018466</td>\n",
       "      <td>0.057018</td>\n",
       "      <td>84.670792</td>\n",
       "      <td>90.036794</td>\n",
       "      <td>0.054030</td>\n",
       "    </tr>\n",
       "    <tr>\n",
       "      <th>3</th>\n",
       "      <td>4</td>\n",
       "      <td>0.040003</td>\n",
       "      <td>0.084426</td>\n",
       "      <td>1.847985</td>\n",
       "      <td>1.887274</td>\n",
       "      <td>0.924010</td>\n",
       "      <td>0.086879</td>\n",
       "      <td>0.943655</td>\n",
       "      <td>0.104988</td>\n",
       "      <td>0.018478</td>\n",
       "      <td>0.075497</td>\n",
       "      <td>84.798504</td>\n",
       "      <td>88.727430</td>\n",
       "      <td>0.070989</td>\n",
       "    </tr>\n",
       "    <tr>\n",
       "      <th>4</th>\n",
       "      <td>5</td>\n",
       "      <td>0.050002</td>\n",
       "      <td>0.080341</td>\n",
       "      <td>1.824997</td>\n",
       "      <td>1.874820</td>\n",
       "      <td>0.912516</td>\n",
       "      <td>0.082330</td>\n",
       "      <td>0.937428</td>\n",
       "      <td>0.100457</td>\n",
       "      <td>0.018248</td>\n",
       "      <td>0.093745</td>\n",
       "      <td>82.499697</td>\n",
       "      <td>87.482043</td>\n",
       "      <td>0.087488</td>\n",
       "    </tr>\n",
       "    <tr>\n",
       "      <th>5</th>\n",
       "      <td>6</td>\n",
       "      <td>0.100004</td>\n",
       "      <td>0.065964</td>\n",
       "      <td>1.745082</td>\n",
       "      <td>1.809951</td>\n",
       "      <td>0.872558</td>\n",
       "      <td>0.072527</td>\n",
       "      <td>0.904993</td>\n",
       "      <td>0.086492</td>\n",
       "      <td>0.087258</td>\n",
       "      <td>0.181003</td>\n",
       "      <td>74.508214</td>\n",
       "      <td>80.995128</td>\n",
       "      <td>0.162001</td>\n",
       "    </tr>\n",
       "    <tr>\n",
       "      <th>6</th>\n",
       "      <td>7</td>\n",
       "      <td>0.150000</td>\n",
       "      <td>0.056584</td>\n",
       "      <td>1.679661</td>\n",
       "      <td>1.766525</td>\n",
       "      <td>0.839847</td>\n",
       "      <td>0.060912</td>\n",
       "      <td>0.883279</td>\n",
       "      <td>0.077966</td>\n",
       "      <td>0.083976</td>\n",
       "      <td>0.264979</td>\n",
       "      <td>67.966131</td>\n",
       "      <td>76.652499</td>\n",
       "      <td>0.229962</td>\n",
       "    </tr>\n",
       "    <tr>\n",
       "      <th>7</th>\n",
       "      <td>8</td>\n",
       "      <td>0.200003</td>\n",
       "      <td>0.048920</td>\n",
       "      <td>1.621218</td>\n",
       "      <td>1.730197</td>\n",
       "      <td>0.810624</td>\n",
       "      <td>0.052647</td>\n",
       "      <td>0.865115</td>\n",
       "      <td>0.071636</td>\n",
       "      <td>0.081065</td>\n",
       "      <td>0.346044</td>\n",
       "      <td>62.121783</td>\n",
       "      <td>73.019704</td>\n",
       "      <td>0.292088</td>\n",
       "    </tr>\n",
       "    <tr>\n",
       "      <th>8</th>\n",
       "      <td>9</td>\n",
       "      <td>0.300001</td>\n",
       "      <td>0.039948</td>\n",
       "      <td>1.542273</td>\n",
       "      <td>1.667557</td>\n",
       "      <td>0.771151</td>\n",
       "      <td>0.044095</td>\n",
       "      <td>0.833794</td>\n",
       "      <td>0.062456</td>\n",
       "      <td>0.154224</td>\n",
       "      <td>0.500268</td>\n",
       "      <td>54.227299</td>\n",
       "      <td>66.755702</td>\n",
       "      <td>0.400543</td>\n",
       "    </tr>\n",
       "    <tr>\n",
       "      <th>9</th>\n",
       "      <td>10</td>\n",
       "      <td>0.399999</td>\n",
       "      <td>0.033805</td>\n",
       "      <td>1.390945</td>\n",
       "      <td>1.598405</td>\n",
       "      <td>0.695486</td>\n",
       "      <td>0.036626</td>\n",
       "      <td>0.799218</td>\n",
       "      <td>0.055999</td>\n",
       "      <td>0.139092</td>\n",
       "      <td>0.639360</td>\n",
       "      <td>39.094456</td>\n",
       "      <td>59.840501</td>\n",
       "      <td>0.478732</td>\n",
       "    </tr>\n",
       "    <tr>\n",
       "      <th>10</th>\n",
       "      <td>11</td>\n",
       "      <td>0.500003</td>\n",
       "      <td>0.026954</td>\n",
       "      <td>1.227151</td>\n",
       "      <td>1.524151</td>\n",
       "      <td>0.613587</td>\n",
       "      <td>0.030447</td>\n",
       "      <td>0.762090</td>\n",
       "      <td>0.050888</td>\n",
       "      <td>0.122721</td>\n",
       "      <td>0.762081</td>\n",
       "      <td>22.715055</td>\n",
       "      <td>52.415127</td>\n",
       "      <td>0.524165</td>\n",
       "    </tr>\n",
       "    <tr>\n",
       "      <th>11</th>\n",
       "      <td>12</td>\n",
       "      <td>0.600001</td>\n",
       "      <td>0.019958</td>\n",
       "      <td>1.102080</td>\n",
       "      <td>1.453807</td>\n",
       "      <td>0.551050</td>\n",
       "      <td>0.023376</td>\n",
       "      <td>0.726918</td>\n",
       "      <td>0.046303</td>\n",
       "      <td>0.110206</td>\n",
       "      <td>0.872286</td>\n",
       "      <td>10.207965</td>\n",
       "      <td>45.380750</td>\n",
       "      <td>0.544581</td>\n",
       "    </tr>\n",
       "    <tr>\n",
       "      <th>12</th>\n",
       "      <td>13</td>\n",
       "      <td>0.699999</td>\n",
       "      <td>0.014308</td>\n",
       "      <td>0.866339</td>\n",
       "      <td>1.369885</td>\n",
       "      <td>0.433178</td>\n",
       "      <td>0.017189</td>\n",
       "      <td>0.684956</td>\n",
       "      <td>0.042144</td>\n",
       "      <td>0.086632</td>\n",
       "      <td>0.958919</td>\n",
       "      <td>-13.366068</td>\n",
       "      <td>36.988501</td>\n",
       "      <td>0.517848</td>\n",
       "    </tr>\n",
       "    <tr>\n",
       "      <th>13</th>\n",
       "      <td>14</td>\n",
       "      <td>0.799997</td>\n",
       "      <td>0.008655</td>\n",
       "      <td>0.387580</td>\n",
       "      <td>1.247099</td>\n",
       "      <td>0.193793</td>\n",
       "      <td>0.011697</td>\n",
       "      <td>0.623561</td>\n",
       "      <td>0.038338</td>\n",
       "      <td>0.038757</td>\n",
       "      <td>0.997676</td>\n",
       "      <td>-61.242042</td>\n",
       "      <td>24.709879</td>\n",
       "      <td>0.395364</td>\n",
       "    </tr>\n",
       "    <tr>\n",
       "      <th>14</th>\n",
       "      <td>15</td>\n",
       "      <td>0.899996</td>\n",
       "      <td>0.002222</td>\n",
       "      <td>0.023242</td>\n",
       "      <td>1.111117</td>\n",
       "      <td>0.011621</td>\n",
       "      <td>0.005153</td>\n",
       "      <td>0.555569</td>\n",
       "      <td>0.034651</td>\n",
       "      <td>0.002324</td>\n",
       "      <td>1.000000</td>\n",
       "      <td>-97.675800</td>\n",
       "      <td>11.111663</td>\n",
       "      <td>0.200013</td>\n",
       "    </tr>\n",
       "    <tr>\n",
       "      <th>15</th>\n",
       "      <td>16</td>\n",
       "      <td>1.000000</td>\n",
       "      <td>0.000000</td>\n",
       "      <td>0.000000</td>\n",
       "      <td>1.000000</td>\n",
       "      <td>0.000000</td>\n",
       "      <td>0.000989</td>\n",
       "      <td>0.500010</td>\n",
       "      <td>0.031285</td>\n",
       "      <td>0.000000</td>\n",
       "      <td>1.000000</td>\n",
       "      <td>-100.000000</td>\n",
       "      <td>0.000000</td>\n",
       "      <td>0.000000</td>\n",
       "    </tr>\n",
       "  </tbody>\n",
       "</table>\n",
       "</div>"
      ],
      "text/plain": [
       "    group  cumulative_data_fraction  lower_threshold      lift  \\\n",
       "0       1                  0.010006         0.114728  1.955291   \n",
       "1       2                  0.020005         0.097410  1.899070   \n",
       "2       3                  0.030004         0.089646  1.846708   \n",
       "3       4                  0.040003         0.084426  1.847985   \n",
       "4       5                  0.050002         0.080341  1.824997   \n",
       "5       6                  0.100004         0.065964  1.745082   \n",
       "6       7                  0.150000         0.056584  1.679661   \n",
       "7       8                  0.200003         0.048920  1.621218   \n",
       "8       9                  0.300001         0.039948  1.542273   \n",
       "9      10                  0.399999         0.033805  1.390945   \n",
       "10     11                  0.500003         0.026954  1.227151   \n",
       "11     12                  0.600001         0.019958  1.102080   \n",
       "12     13                  0.699999         0.014308  0.866339   \n",
       "13     14                  0.799997         0.008655  0.387580   \n",
       "14     15                  0.899996         0.002222  0.023242   \n",
       "15     16                  1.000000         0.000000  0.000000   \n",
       "\n",
       "    cumulative_lift  response_rate     score  cumulative_response_rate  \\\n",
       "0          1.955291       0.977664  0.135304                  0.977664   \n",
       "1          1.927189       0.949553  0.104563                  0.963613   \n",
       "2          1.900368       0.923372  0.093188                  0.950202   \n",
       "3          1.887274       0.924010  0.086879                  0.943655   \n",
       "4          1.874820       0.912516  0.082330                  0.937428   \n",
       "5          1.809951       0.872558  0.072527                  0.904993   \n",
       "6          1.766525       0.839847  0.060912                  0.883279   \n",
       "7          1.730197       0.810624  0.052647                  0.865115   \n",
       "8          1.667557       0.771151  0.044095                  0.833794   \n",
       "9          1.598405       0.695486  0.036626                  0.799218   \n",
       "10         1.524151       0.613587  0.030447                  0.762090   \n",
       "11         1.453807       0.551050  0.023376                  0.726918   \n",
       "12         1.369885       0.433178  0.017189                  0.684956   \n",
       "13         1.247099       0.193793  0.011697                  0.623561   \n",
       "14         1.111117       0.011621  0.005153                  0.555569   \n",
       "15         1.000000       0.000000  0.000989                  0.500010   \n",
       "\n",
       "    cumulative_score  capture_rate  cumulative_capture_rate        gain  \\\n",
       "0           0.135304      0.019564                 0.019564   95.529120   \n",
       "1           0.119938      0.018989                 0.038553   89.906962   \n",
       "2           0.111023      0.018466                 0.057018   84.670792   \n",
       "3           0.104988      0.018478                 0.075497   84.798504   \n",
       "4           0.100457      0.018248                 0.093745   82.499697   \n",
       "5           0.086492      0.087258                 0.181003   74.508214   \n",
       "6           0.077966      0.083976                 0.264979   67.966131   \n",
       "7           0.071636      0.081065                 0.346044   62.121783   \n",
       "8           0.062456      0.154224                 0.500268   54.227299   \n",
       "9           0.055999      0.139092                 0.639360   39.094456   \n",
       "10          0.050888      0.122721                 0.762081   22.715055   \n",
       "11          0.046303      0.110206                 0.872286   10.207965   \n",
       "12          0.042144      0.086632                 0.958919  -13.366068   \n",
       "13          0.038338      0.038757                 0.997676  -61.242042   \n",
       "14          0.034651      0.002324                 1.000000  -97.675800   \n",
       "15          0.031285      0.000000                 1.000000 -100.000000   \n",
       "\n",
       "    cumulative_gain  kolmogorov_smirnov  \n",
       "0         95.529120            0.019117  \n",
       "1         92.718938            0.037097  \n",
       "2         90.036794            0.054030  \n",
       "3         88.727430            0.070989  \n",
       "4         87.482043            0.087488  \n",
       "5         80.995128            0.162001  \n",
       "6         76.652499            0.229962  \n",
       "7         73.019704            0.292088  \n",
       "8         66.755702            0.400543  \n",
       "9         59.840501            0.478732  \n",
       "10        52.415127            0.524165  \n",
       "11        45.380750            0.544581  \n",
       "12        36.988501            0.517848  \n",
       "13        24.709879            0.395364  \n",
       "14        11.111663            0.200013  \n",
       "15         0.000000            0.000000  "
      ]
     },
     "metadata": {},
     "output_type": "display_data"
    },
    {
     "name": "stdout",
     "output_type": "stream",
     "text": [
      "\n",
      "\n",
      "Scoring History: \n"
     ]
    },
    {
     "data": {
      "text/html": [
       "<div>\n",
       "<style scoped>\n",
       "    .dataframe tbody tr th:only-of-type {\n",
       "        vertical-align: middle;\n",
       "    }\n",
       "\n",
       "    .dataframe tbody tr th {\n",
       "        vertical-align: top;\n",
       "    }\n",
       "\n",
       "    .dataframe thead th {\n",
       "        text-align: right;\n",
       "    }\n",
       "</style>\n",
       "<table border=\"1\" class=\"dataframe\">\n",
       "  <thead>\n",
       "    <tr style=\"text-align: right;\">\n",
       "      <th></th>\n",
       "      <th></th>\n",
       "      <th>timestamp</th>\n",
       "      <th>duration</th>\n",
       "      <th>number_of_trees</th>\n",
       "      <th>training_rmse</th>\n",
       "      <th>training_logloss</th>\n",
       "      <th>training_auc</th>\n",
       "      <th>training_pr_auc</th>\n",
       "      <th>training_lift</th>\n",
       "      <th>training_classification_error</th>\n",
       "    </tr>\n",
       "  </thead>\n",
       "  <tbody>\n",
       "    <tr>\n",
       "      <th>0</th>\n",
       "      <td></td>\n",
       "      <td>2020-08-26 11:57:28</td>\n",
       "      <td>0.078 sec</td>\n",
       "      <td>0.0</td>\n",
       "      <td>NaN</td>\n",
       "      <td>NaN</td>\n",
       "      <td>NaN</td>\n",
       "      <td>NaN</td>\n",
       "      <td>NaN</td>\n",
       "      <td>NaN</td>\n",
       "    </tr>\n",
       "    <tr>\n",
       "      <th>1</th>\n",
       "      <td></td>\n",
       "      <td>2020-08-26 11:57:29</td>\n",
       "      <td>0.783 sec</td>\n",
       "      <td>1.0</td>\n",
       "      <td>0.668222</td>\n",
       "      <td>1.604269</td>\n",
       "      <td>0.800546</td>\n",
       "      <td>0.765280</td>\n",
       "      <td>1.826717</td>\n",
       "      <td>0.287426</td>\n",
       "    </tr>\n",
       "    <tr>\n",
       "      <th>2</th>\n",
       "      <td></td>\n",
       "      <td>2020-08-26 11:57:29</td>\n",
       "      <td>1.121 sec</td>\n",
       "      <td>2.0</td>\n",
       "      <td>0.668414</td>\n",
       "      <td>1.599411</td>\n",
       "      <td>0.807732</td>\n",
       "      <td>0.772134</td>\n",
       "      <td>1.841940</td>\n",
       "      <td>0.280140</td>\n",
       "    </tr>\n",
       "    <tr>\n",
       "      <th>3</th>\n",
       "      <td></td>\n",
       "      <td>2020-08-26 11:57:29</td>\n",
       "      <td>1.524 sec</td>\n",
       "      <td>3.0</td>\n",
       "      <td>0.669368</td>\n",
       "      <td>1.602343</td>\n",
       "      <td>0.811818</td>\n",
       "      <td>0.775676</td>\n",
       "      <td>1.848081</td>\n",
       "      <td>0.277272</td>\n",
       "    </tr>\n",
       "    <tr>\n",
       "      <th>4</th>\n",
       "      <td></td>\n",
       "      <td>2020-08-26 11:57:30</td>\n",
       "      <td>1.733 sec</td>\n",
       "      <td>4.0</td>\n",
       "      <td>0.670424</td>\n",
       "      <td>1.607324</td>\n",
       "      <td>0.815768</td>\n",
       "      <td>0.779724</td>\n",
       "      <td>1.859748</td>\n",
       "      <td>0.274176</td>\n",
       "    </tr>\n",
       "    <tr>\n",
       "      <th>5</th>\n",
       "      <td></td>\n",
       "      <td>2020-08-26 11:57:30</td>\n",
       "      <td>1.919 sec</td>\n",
       "      <td>5.0</td>\n",
       "      <td>0.670836</td>\n",
       "      <td>1.605680</td>\n",
       "      <td>0.819936</td>\n",
       "      <td>0.782873</td>\n",
       "      <td>1.850766</td>\n",
       "      <td>0.266076</td>\n",
       "    </tr>\n",
       "    <tr>\n",
       "      <th>6</th>\n",
       "      <td></td>\n",
       "      <td>2020-08-26 11:57:30</td>\n",
       "      <td>2.123 sec</td>\n",
       "      <td>6.0</td>\n",
       "      <td>0.671732</td>\n",
       "      <td>1.614225</td>\n",
       "      <td>0.822725</td>\n",
       "      <td>0.786566</td>\n",
       "      <td>1.855832</td>\n",
       "      <td>0.263395</td>\n",
       "    </tr>\n",
       "    <tr>\n",
       "      <th>7</th>\n",
       "      <td></td>\n",
       "      <td>2020-08-26 11:57:30</td>\n",
       "      <td>2.316 sec</td>\n",
       "      <td>7.0</td>\n",
       "      <td>0.672090</td>\n",
       "      <td>1.615337</td>\n",
       "      <td>0.826015</td>\n",
       "      <td>0.790245</td>\n",
       "      <td>1.859569</td>\n",
       "      <td>0.259974</td>\n",
       "    </tr>\n",
       "    <tr>\n",
       "      <th>8</th>\n",
       "      <td></td>\n",
       "      <td>2020-08-26 11:57:30</td>\n",
       "      <td>2.511 sec</td>\n",
       "      <td>8.0</td>\n",
       "      <td>0.672680</td>\n",
       "      <td>1.617714</td>\n",
       "      <td>0.828223</td>\n",
       "      <td>0.792944</td>\n",
       "      <td>1.878868</td>\n",
       "      <td>0.261343</td>\n",
       "    </tr>\n",
       "    <tr>\n",
       "      <th>9</th>\n",
       "      <td></td>\n",
       "      <td>2020-08-26 11:57:31</td>\n",
       "      <td>2.693 sec</td>\n",
       "      <td>9.0</td>\n",
       "      <td>0.672717</td>\n",
       "      <td>1.616615</td>\n",
       "      <td>0.830803</td>\n",
       "      <td>0.796605</td>\n",
       "      <td>1.885095</td>\n",
       "      <td>0.258560</td>\n",
       "    </tr>\n",
       "    <tr>\n",
       "      <th>10</th>\n",
       "      <td></td>\n",
       "      <td>2020-08-26 11:57:31</td>\n",
       "      <td>2.876 sec</td>\n",
       "      <td>10.0</td>\n",
       "      <td>0.673233</td>\n",
       "      <td>1.618674</td>\n",
       "      <td>0.831960</td>\n",
       "      <td>0.798196</td>\n",
       "      <td>1.890200</td>\n",
       "      <td>0.257532</td>\n",
       "    </tr>\n",
       "    <tr>\n",
       "      <th>11</th>\n",
       "      <td></td>\n",
       "      <td>2020-08-26 11:57:31</td>\n",
       "      <td>3.044 sec</td>\n",
       "      <td>11.0</td>\n",
       "      <td>0.673567</td>\n",
       "      <td>1.619573</td>\n",
       "      <td>0.834511</td>\n",
       "      <td>0.801389</td>\n",
       "      <td>1.895305</td>\n",
       "      <td>0.254586</td>\n",
       "    </tr>\n",
       "    <tr>\n",
       "      <th>12</th>\n",
       "      <td></td>\n",
       "      <td>2020-08-26 11:57:31</td>\n",
       "      <td>3.226 sec</td>\n",
       "      <td>12.0</td>\n",
       "      <td>0.674179</td>\n",
       "      <td>1.623490</td>\n",
       "      <td>0.836206</td>\n",
       "      <td>0.803674</td>\n",
       "      <td>1.909344</td>\n",
       "      <td>0.250466</td>\n",
       "    </tr>\n",
       "    <tr>\n",
       "      <th>13</th>\n",
       "      <td></td>\n",
       "      <td>2020-08-26 11:57:31</td>\n",
       "      <td>3.405 sec</td>\n",
       "      <td>13.0</td>\n",
       "      <td>0.674661</td>\n",
       "      <td>1.627210</td>\n",
       "      <td>0.837275</td>\n",
       "      <td>0.804811</td>\n",
       "      <td>1.906792</td>\n",
       "      <td>0.250389</td>\n",
       "    </tr>\n",
       "    <tr>\n",
       "      <th>14</th>\n",
       "      <td></td>\n",
       "      <td>2020-08-26 11:57:31</td>\n",
       "      <td>3.591 sec</td>\n",
       "      <td>14.0</td>\n",
       "      <td>0.674731</td>\n",
       "      <td>1.627748</td>\n",
       "      <td>0.838067</td>\n",
       "      <td>0.806168</td>\n",
       "      <td>1.915726</td>\n",
       "      <td>0.247416</td>\n",
       "    </tr>\n",
       "    <tr>\n",
       "      <th>15</th>\n",
       "      <td></td>\n",
       "      <td>2020-08-26 11:57:32</td>\n",
       "      <td>3.824 sec</td>\n",
       "      <td>15.0</td>\n",
       "      <td>0.674640</td>\n",
       "      <td>1.626685</td>\n",
       "      <td>0.839143</td>\n",
       "      <td>0.807234</td>\n",
       "      <td>1.914450</td>\n",
       "      <td>0.246028</td>\n",
       "    </tr>\n",
       "    <tr>\n",
       "      <th>16</th>\n",
       "      <td></td>\n",
       "      <td>2020-08-26 11:57:32</td>\n",
       "      <td>3.985 sec</td>\n",
       "      <td>16.0</td>\n",
       "      <td>0.674758</td>\n",
       "      <td>1.626823</td>\n",
       "      <td>0.841229</td>\n",
       "      <td>0.809637</td>\n",
       "      <td>1.918279</td>\n",
       "      <td>0.244269</td>\n",
       "    </tr>\n",
       "    <tr>\n",
       "      <th>17</th>\n",
       "      <td></td>\n",
       "      <td>2020-08-26 11:57:32</td>\n",
       "      <td>4.156 sec</td>\n",
       "      <td>17.0</td>\n",
       "      <td>0.674825</td>\n",
       "      <td>1.626877</td>\n",
       "      <td>0.841930</td>\n",
       "      <td>0.810382</td>\n",
       "      <td>1.922107</td>\n",
       "      <td>0.245873</td>\n",
       "    </tr>\n",
       "    <tr>\n",
       "      <th>18</th>\n",
       "      <td></td>\n",
       "      <td>2020-08-26 11:57:32</td>\n",
       "      <td>4.327 sec</td>\n",
       "      <td>18.0</td>\n",
       "      <td>0.674757</td>\n",
       "      <td>1.625571</td>\n",
       "      <td>0.842965</td>\n",
       "      <td>0.811833</td>\n",
       "      <td>1.922107</td>\n",
       "      <td>0.243584</td>\n",
       "    </tr>\n",
       "    <tr>\n",
       "      <th>19</th>\n",
       "      <td></td>\n",
       "      <td>2020-08-26 11:57:32</td>\n",
       "      <td>4.501 sec</td>\n",
       "      <td>19.0</td>\n",
       "      <td>0.674747</td>\n",
       "      <td>1.624422</td>\n",
       "      <td>0.843877</td>\n",
       "      <td>0.812790</td>\n",
       "      <td>1.923384</td>\n",
       "      <td>0.242406</td>\n",
       "    </tr>\n",
       "  </tbody>\n",
       "</table>\n",
       "</div>"
      ],
      "text/plain": [
       "                timestamp    duration  number_of_trees  training_rmse  \\\n",
       "0     2020-08-26 11:57:28   0.078 sec              0.0            NaN   \n",
       "1     2020-08-26 11:57:29   0.783 sec              1.0       0.668222   \n",
       "2     2020-08-26 11:57:29   1.121 sec              2.0       0.668414   \n",
       "3     2020-08-26 11:57:29   1.524 sec              3.0       0.669368   \n",
       "4     2020-08-26 11:57:30   1.733 sec              4.0       0.670424   \n",
       "5     2020-08-26 11:57:30   1.919 sec              5.0       0.670836   \n",
       "6     2020-08-26 11:57:30   2.123 sec              6.0       0.671732   \n",
       "7     2020-08-26 11:57:30   2.316 sec              7.0       0.672090   \n",
       "8     2020-08-26 11:57:30   2.511 sec              8.0       0.672680   \n",
       "9     2020-08-26 11:57:31   2.693 sec              9.0       0.672717   \n",
       "10    2020-08-26 11:57:31   2.876 sec             10.0       0.673233   \n",
       "11    2020-08-26 11:57:31   3.044 sec             11.0       0.673567   \n",
       "12    2020-08-26 11:57:31   3.226 sec             12.0       0.674179   \n",
       "13    2020-08-26 11:57:31   3.405 sec             13.0       0.674661   \n",
       "14    2020-08-26 11:57:31   3.591 sec             14.0       0.674731   \n",
       "15    2020-08-26 11:57:32   3.824 sec             15.0       0.674640   \n",
       "16    2020-08-26 11:57:32   3.985 sec             16.0       0.674758   \n",
       "17    2020-08-26 11:57:32   4.156 sec             17.0       0.674825   \n",
       "18    2020-08-26 11:57:32   4.327 sec             18.0       0.674757   \n",
       "19    2020-08-26 11:57:32   4.501 sec             19.0       0.674747   \n",
       "\n",
       "    training_logloss  training_auc  training_pr_auc  training_lift  \\\n",
       "0                NaN           NaN              NaN            NaN   \n",
       "1           1.604269      0.800546         0.765280       1.826717   \n",
       "2           1.599411      0.807732         0.772134       1.841940   \n",
       "3           1.602343      0.811818         0.775676       1.848081   \n",
       "4           1.607324      0.815768         0.779724       1.859748   \n",
       "5           1.605680      0.819936         0.782873       1.850766   \n",
       "6           1.614225      0.822725         0.786566       1.855832   \n",
       "7           1.615337      0.826015         0.790245       1.859569   \n",
       "8           1.617714      0.828223         0.792944       1.878868   \n",
       "9           1.616615      0.830803         0.796605       1.885095   \n",
       "10          1.618674      0.831960         0.798196       1.890200   \n",
       "11          1.619573      0.834511         0.801389       1.895305   \n",
       "12          1.623490      0.836206         0.803674       1.909344   \n",
       "13          1.627210      0.837275         0.804811       1.906792   \n",
       "14          1.627748      0.838067         0.806168       1.915726   \n",
       "15          1.626685      0.839143         0.807234       1.914450   \n",
       "16          1.626823      0.841229         0.809637       1.918279   \n",
       "17          1.626877      0.841930         0.810382       1.922107   \n",
       "18          1.625571      0.842965         0.811833       1.922107   \n",
       "19          1.624422      0.843877         0.812790       1.923384   \n",
       "\n",
       "    training_classification_error  \n",
       "0                             NaN  \n",
       "1                        0.287426  \n",
       "2                        0.280140  \n",
       "3                        0.277272  \n",
       "4                        0.274176  \n",
       "5                        0.266076  \n",
       "6                        0.263395  \n",
       "7                        0.259974  \n",
       "8                        0.261343  \n",
       "9                        0.258560  \n",
       "10                       0.257532  \n",
       "11                       0.254586  \n",
       "12                       0.250466  \n",
       "13                       0.250389  \n",
       "14                       0.247416  \n",
       "15                       0.246028  \n",
       "16                       0.244269  \n",
       "17                       0.245873  \n",
       "18                       0.243584  \n",
       "19                       0.242406  "
      ]
     },
     "metadata": {},
     "output_type": "display_data"
    },
    {
     "name": "stdout",
     "output_type": "stream",
     "text": [
      "\n",
      "See the whole table with table.as_data_frame()\n",
      "\n",
      "Variable Importances: \n"
     ]
    },
    {
     "data": {
      "text/html": [
       "<div>\n",
       "<style scoped>\n",
       "    .dataframe tbody tr th:only-of-type {\n",
       "        vertical-align: middle;\n",
       "    }\n",
       "\n",
       "    .dataframe tbody tr th {\n",
       "        vertical-align: top;\n",
       "    }\n",
       "\n",
       "    .dataframe thead th {\n",
       "        text-align: right;\n",
       "    }\n",
       "</style>\n",
       "<table border=\"1\" class=\"dataframe\">\n",
       "  <thead>\n",
       "    <tr style=\"text-align: right;\">\n",
       "      <th></th>\n",
       "      <th>variable</th>\n",
       "      <th>relative_importance</th>\n",
       "      <th>scaled_importance</th>\n",
       "      <th>percentage</th>\n",
       "    </tr>\n",
       "  </thead>\n",
       "  <tbody>\n",
       "    <tr>\n",
       "      <th>0</th>\n",
       "      <td>user_past_purchases</td>\n",
       "      <td>385720.000000</td>\n",
       "      <td>1.000000</td>\n",
       "      <td>0.487791</td>\n",
       "    </tr>\n",
       "    <tr>\n",
       "      <th>1</th>\n",
       "      <td>user_country</td>\n",
       "      <td>113977.062500</td>\n",
       "      <td>0.295492</td>\n",
       "      <td>0.144138</td>\n",
       "    </tr>\n",
       "    <tr>\n",
       "      <th>2</th>\n",
       "      <td>hour</td>\n",
       "      <td>113623.359375</td>\n",
       "      <td>0.294575</td>\n",
       "      <td>0.143691</td>\n",
       "    </tr>\n",
       "    <tr>\n",
       "      <th>3</th>\n",
       "      <td>weekday</td>\n",
       "      <td>97902.851562</td>\n",
       "      <td>0.253818</td>\n",
       "      <td>0.123810</td>\n",
       "    </tr>\n",
       "    <tr>\n",
       "      <th>4</th>\n",
       "      <td>email_version</td>\n",
       "      <td>59797.804688</td>\n",
       "      <td>0.155029</td>\n",
       "      <td>0.075622</td>\n",
       "    </tr>\n",
       "    <tr>\n",
       "      <th>5</th>\n",
       "      <td>email_text</td>\n",
       "      <td>19726.923828</td>\n",
       "      <td>0.051143</td>\n",
       "      <td>0.024947</td>\n",
       "    </tr>\n",
       "  </tbody>\n",
       "</table>\n",
       "</div>"
      ],
      "text/plain": [
       "              variable  relative_importance  scaled_importance  percentage\n",
       "0  user_past_purchases        385720.000000           1.000000    0.487791\n",
       "1         user_country        113977.062500           0.295492    0.144138\n",
       "2                 hour        113623.359375           0.294575    0.143691\n",
       "3              weekday         97902.851562           0.253818    0.123810\n",
       "4        email_version         59797.804688           0.155029    0.075622\n",
       "5           email_text         19726.923828           0.051143    0.024947"
      ]
     },
     "metadata": {},
     "output_type": "display_data"
    },
    {
     "data": {
      "text/plain": [
       "<bound method H2OBinomialModel.accuracy of >"
      ]
     },
     "execution_count": 27,
     "metadata": {},
     "output_type": "execute_result"
    }
   ],
   "source": [
    "model.accuracy"
   ]
  },
  {
   "cell_type": "code",
   "execution_count": 39,
   "metadata": {
    "ExecuteTime": {
     "end_time": "2020-08-26T19:04:14.736410Z",
     "start_time": "2020-08-26T19:04:14.728544Z"
    }
   },
   "outputs": [
    {
     "data": {
      "text/plain": [
       "[[0.01858563538008158, 0.7736394807583024]]"
      ]
     },
     "execution_count": 39,
     "metadata": {},
     "output_type": "execute_result"
    }
   ],
   "source": [
    "model.accuracy()"
   ]
  },
  {
   "cell_type": "code",
   "execution_count": 29,
   "metadata": {
    "ExecuteTime": {
     "end_time": "2020-08-26T15:59:41.881142Z",
     "start_time": "2020-08-26T15:59:41.656038Z"
    },
    "scrolled": true
   },
   "outputs": [
    {
     "data": {
      "image/png": "[encoded data removed]",
      "text/plain": [
       "<Figure size 1008x720 with 1 Axes>"
      ]
     },
     "metadata": {
      "needs_background": "light"
     },
     "output_type": "display_data"
    }
   ],
   "source": [
    "importance = model.varimp_plot()"
   ]
  },
  {
   "cell_type": "code",
   "execution_count": 35,
   "metadata": {
    "ExecuteTime": {
     "end_time": "2020-08-26T16:04:27.127385Z",
     "start_time": "2020-08-26T16:03:21.701295Z"
    }
   },
   "outputs": [
    {
     "name": "stdout",
     "output_type": "stream",
     "text": [
      "PartialDependencePlot progress: |█████████████████████████████████████████| 100%\n"
     ]
    },
    {
     "name": "stderr",
     "output_type": "stream",
     "text": [
      "/Users/matsujun/opt/anaconda3/lib/python3.7/site-packages/h2o/model/model_base.py:1365: MatplotlibDeprecationWarning: The parameter where must have the same size as x in fill_between(). This will become an error in future versions of Matplotlib.\n",
      "  axs.fill_between(x, lower, upper, where=lower < upper, alpha=0.1, interpolate=False)\n"
     ]
    },
    {
     "data": {
      "image/png": "[encoded data removed]",
      "text/plain": [
       "<Figure size 576x1080 with 6 Axes>"
      ]
     },
     "metadata": {
      "needs_background": "light"
     },
     "output_type": "display_data"
    }
   ],
   "source": [
    "# Partial dependence plot\n",
    "_ = model.partial_plot(train, cols=feature, figsize=(8, 15))"
   ]
  },
  {
   "cell_type": "markdown",
   "metadata": {},
   "source": [
    "## By how much do you think your model would improve click through rate ( defined as # of users who click on the link / total users who received the email). How would you test that?"
   ]
  },
  {
   "cell_type": "markdown",
   "metadata": {},
   "source": [
    "To test it, we can conduct A/B test to see if the built model can actually help improve the click-through-rate.\n",
    "* Randomly assign users to two groups, Control group and Experiment group.\n",
    "* In Control group, still use the old email-campaign strategy, i.e., just send emails to all users in Control group.\n",
    "* In Experiment group, use my model to predict whether the user will click the link or not. and only send emails to those users whose predictive result is positive.\n",
    "* Preform a one-tail unpaired t-test to test whether Experiement group's population proportion is higher than Control group's population proportion."
   ]
  },
  {
   "cell_type": "code",
   "execution_count": null,
   "metadata": {},
   "outputs": [],
   "source": []
  }
 ],
 "metadata": {
  "kernelspec": {
   "display_name": "Python 3",
   "language": "python",
   "name": "python3"
  },
  "language_info": {
   "codemirror_mode": {
    "name": "ipython",
    "version": 3
   },
   "file_extension": ".py",
   "mimetype": "text/x-python",
   "name": "python",
   "nbconvert_exporter": "python",
   "pygments_lexer": "ipython3",
   "version": "3.7.6"
  },
  "toc": {
   "base_numbering": 1,
   "nav_menu": {
    "height": "310px",
    "width": "284px"
   },
   "number_sections": true,
   "sideBar": true,
   "skip_h1_title": false,
   "title_cell": "Table of Contents",
   "title_sidebar": "Contents",
   "toc_cell": false,
   "toc_position": {
    "height": "calc(100% - 180px)",
    "left": "10px",
    "top": "150px",
    "width": "236px"
   },
   "toc_section_display": true,
   "toc_window_display": true
  },
  "varInspector": {
   "cols": {
    "lenName": 16,
    "lenType": 16,
    "lenVar": 40
   },
   "kernels_config": {
    "python": {
     "delete_cmd_postfix": "",
     "delete_cmd_prefix": "del ",
     "library": "var_list.py",
     "varRefreshCmd": "print(var_dic_list())"
    },
    "r": {
     "delete_cmd_postfix": ") ",
     "delete_cmd_prefix": "rm(",
     "library": "var_list.r",
     "varRefreshCmd": "cat(var_dic_list()) "
    }
   },
   "oldHeight": 306,
   "position": {
    "height": "328px",
    "left": "932px",
    "right": "20px",
    "top": "120px",
    "width": "362px"
   },
   "types_to_exclude": [
    "module",
    "function",
    "builtin_function_or_method",
    "instance",
    "_Feature"
   ],
   "varInspector_section_display": "block",
   "window_display": false
  }
 },
 "nbformat": 4,
 "nbformat_minor": 4
}
