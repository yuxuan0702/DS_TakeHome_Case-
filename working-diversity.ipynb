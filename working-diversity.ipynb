{
 "cells": [
  {
   "cell_type": "code",
   "execution_count": 112,
   "metadata": {
    "ExecuteTime": {
     "end_time": "2020-09-12T20:51:31.039423Z",
     "start_time": "2020-09-12T20:51:31.025948Z"
    }
   },
   "outputs": [],
   "source": [
    "# import packages \n",
    "import pandas as pd \n",
    "import numpy as np \n",
    "import matplotlib.pyplot as plt\n",
    "import seaborn as sns\n",
    "\n",
    "import h2o\n",
    "from h2o.frame import H2OFrame\n",
    "from h2o.estimators import H2OXGBoostEstimator\n",
    "from sklearn.preprocessing import StandardScaler\n",
    "from sklearn.metrics import r2_score\n",
    "\n",
    "plt.style.use('seaborn')\n",
    "%matplotlib inline"
   ]
  },
  {
   "cell_type": "markdown",
   "metadata": {},
   "source": [
    "---\n",
    "**Goal:**\n",
    "- In the company there are 6 levels (described below). Identify, for each employee, her corresponding level.\n",
    "- How many people each employee manages? \n",
    "- Build a model to predict the salary of each employee.\n",
    "- Describe the main factors impacting employee salaries. Do you think the company has been treating its employees fairly? Do you see any bias? What are the next steps you would suggest to the Head of HR?"
   ]
  },
  {
   "cell_type": "code",
   "execution_count": 2,
   "metadata": {
    "ExecuteTime": {
     "end_time": "2020-09-12T19:06:41.068994Z",
     "start_time": "2020-09-12T19:06:41.048788Z"
    }
   },
   "outputs": [
    {
     "data": {
      "text/html": [
       "<div>\n",
       "<style scoped>\n",
       "    .dataframe tbody tr th:only-of-type {\n",
       "        vertical-align: middle;\n",
       "    }\n",
       "\n",
       "    .dataframe tbody tr th {\n",
       "        vertical-align: top;\n",
       "    }\n",
       "\n",
       "    .dataframe thead th {\n",
       "        text-align: right;\n",
       "    }\n",
       "</style>\n",
       "<table border=\"1\" class=\"dataframe\">\n",
       "  <thead>\n",
       "    <tr style=\"text-align: right;\">\n",
       "      <th></th>\n",
       "      <th>employee_id</th>\n",
       "      <th>boss_id</th>\n",
       "      <th>dept</th>\n",
       "    </tr>\n",
       "  </thead>\n",
       "  <tbody>\n",
       "    <tr>\n",
       "      <th>0</th>\n",
       "      <td>46456</td>\n",
       "      <td>175361.0</td>\n",
       "      <td>sales</td>\n",
       "    </tr>\n",
       "    <tr>\n",
       "      <th>1</th>\n",
       "      <td>104708</td>\n",
       "      <td>29733.0</td>\n",
       "      <td>HR</td>\n",
       "    </tr>\n",
       "    <tr>\n",
       "      <th>2</th>\n",
       "      <td>120853</td>\n",
       "      <td>41991.0</td>\n",
       "      <td>sales</td>\n",
       "    </tr>\n",
       "    <tr>\n",
       "      <th>3</th>\n",
       "      <td>142630</td>\n",
       "      <td>171266.0</td>\n",
       "      <td>HR</td>\n",
       "    </tr>\n",
       "    <tr>\n",
       "      <th>4</th>\n",
       "      <td>72711</td>\n",
       "      <td>198240.0</td>\n",
       "      <td>sales</td>\n",
       "    </tr>\n",
       "  </tbody>\n",
       "</table>\n",
       "</div>"
      ],
      "text/plain": [
       "   employee_id   boss_id   dept\n",
       "0        46456  175361.0  sales\n",
       "1       104708   29733.0     HR\n",
       "2       120853   41991.0  sales\n",
       "3       142630  171266.0     HR\n",
       "4        72711  198240.0  sales"
      ]
     },
     "execution_count": 2,
     "metadata": {},
     "output_type": "execute_result"
    }
   ],
   "source": [
    "# import dataset \n",
    "company = pd.read_csv('company_hierarchy.csv')\n",
    "company.head()"
   ]
  },
  {
   "cell_type": "code",
   "execution_count": 3,
   "metadata": {
    "ExecuteTime": {
     "end_time": "2020-09-12T19:06:41.095476Z",
     "start_time": "2020-09-12T19:06:41.072342Z"
    }
   },
   "outputs": [
    {
     "data": {
      "text/html": [
       "<div>\n",
       "<style scoped>\n",
       "    .dataframe tbody tr th:only-of-type {\n",
       "        vertical-align: middle;\n",
       "    }\n",
       "\n",
       "    .dataframe tbody tr th {\n",
       "        vertical-align: top;\n",
       "    }\n",
       "\n",
       "    .dataframe thead th {\n",
       "        text-align: right;\n",
       "    }\n",
       "</style>\n",
       "<table border=\"1\" class=\"dataframe\">\n",
       "  <thead>\n",
       "    <tr style=\"text-align: right;\">\n",
       "      <th></th>\n",
       "      <th>employee_id</th>\n",
       "      <th>signing_bonus</th>\n",
       "      <th>salary</th>\n",
       "      <th>degree_level</th>\n",
       "      <th>sex</th>\n",
       "      <th>yrs_experience</th>\n",
       "    </tr>\n",
       "  </thead>\n",
       "  <tbody>\n",
       "    <tr>\n",
       "      <th>0</th>\n",
       "      <td>138719</td>\n",
       "      <td>0</td>\n",
       "      <td>273000.0</td>\n",
       "      <td>Master</td>\n",
       "      <td>M</td>\n",
       "      <td>2</td>\n",
       "    </tr>\n",
       "    <tr>\n",
       "      <th>1</th>\n",
       "      <td>3192</td>\n",
       "      <td>0</td>\n",
       "      <td>301000.0</td>\n",
       "      <td>Bachelor</td>\n",
       "      <td>F</td>\n",
       "      <td>1</td>\n",
       "    </tr>\n",
       "    <tr>\n",
       "      <th>2</th>\n",
       "      <td>114657</td>\n",
       "      <td>0</td>\n",
       "      <td>261000.0</td>\n",
       "      <td>Master</td>\n",
       "      <td>F</td>\n",
       "      <td>2</td>\n",
       "    </tr>\n",
       "  </tbody>\n",
       "</table>\n",
       "</div>"
      ],
      "text/plain": [
       "   employee_id  signing_bonus    salary degree_level sex  yrs_experience\n",
       "0       138719              0  273000.0       Master   M               2\n",
       "1         3192              0  301000.0     Bachelor   F               1\n",
       "2       114657              0  261000.0       Master   F               2"
      ]
     },
     "execution_count": 3,
     "metadata": {},
     "output_type": "execute_result"
    }
   ],
   "source": [
    "employee = pd.read_csv('employee.csv')\n",
    "employee.head(3)"
   ]
  },
  {
   "cell_type": "code",
   "execution_count": 4,
   "metadata": {
    "ExecuteTime": {
     "end_time": "2020-09-12T19:06:41.118006Z",
     "start_time": "2020-09-12T19:06:41.097645Z"
    }
   },
   "outputs": [
    {
     "data": {
      "text/html": [
       "<div>\n",
       "<style scoped>\n",
       "    .dataframe tbody tr th:only-of-type {\n",
       "        vertical-align: middle;\n",
       "    }\n",
       "\n",
       "    .dataframe tbody tr th {\n",
       "        vertical-align: top;\n",
       "    }\n",
       "\n",
       "    .dataframe thead th {\n",
       "        text-align: right;\n",
       "    }\n",
       "</style>\n",
       "<table border=\"1\" class=\"dataframe\">\n",
       "  <thead>\n",
       "    <tr style=\"text-align: right;\">\n",
       "      <th></th>\n",
       "      <th>employee_id</th>\n",
       "      <th>boss_id</th>\n",
       "      <th>dept</th>\n",
       "      <th>signing_bonus</th>\n",
       "      <th>salary</th>\n",
       "      <th>degree_level</th>\n",
       "      <th>sex</th>\n",
       "      <th>yrs_experience</th>\n",
       "    </tr>\n",
       "  </thead>\n",
       "  <tbody>\n",
       "    <tr>\n",
       "      <th>0</th>\n",
       "      <td>46456</td>\n",
       "      <td>175361.0</td>\n",
       "      <td>sales</td>\n",
       "      <td>0</td>\n",
       "      <td>213000.0</td>\n",
       "      <td>Bachelor</td>\n",
       "      <td>M</td>\n",
       "      <td>5</td>\n",
       "    </tr>\n",
       "    <tr>\n",
       "      <th>1</th>\n",
       "      <td>104708</td>\n",
       "      <td>29733.0</td>\n",
       "      <td>HR</td>\n",
       "      <td>0</td>\n",
       "      <td>79000.0</td>\n",
       "      <td>Bachelor</td>\n",
       "      <td>F</td>\n",
       "      <td>3</td>\n",
       "    </tr>\n",
       "    <tr>\n",
       "      <th>2</th>\n",
       "      <td>120853</td>\n",
       "      <td>41991.0</td>\n",
       "      <td>sales</td>\n",
       "      <td>0</td>\n",
       "      <td>199000.0</td>\n",
       "      <td>High_School</td>\n",
       "      <td>M</td>\n",
       "      <td>5</td>\n",
       "    </tr>\n",
       "    <tr>\n",
       "      <th>3</th>\n",
       "      <td>142630</td>\n",
       "      <td>171266.0</td>\n",
       "      <td>HR</td>\n",
       "      <td>0</td>\n",
       "      <td>143000.0</td>\n",
       "      <td>PhD</td>\n",
       "      <td>F</td>\n",
       "      <td>13</td>\n",
       "    </tr>\n",
       "    <tr>\n",
       "      <th>4</th>\n",
       "      <td>72711</td>\n",
       "      <td>198240.0</td>\n",
       "      <td>sales</td>\n",
       "      <td>0</td>\n",
       "      <td>235000.0</td>\n",
       "      <td>Master</td>\n",
       "      <td>M</td>\n",
       "      <td>1</td>\n",
       "    </tr>\n",
       "  </tbody>\n",
       "</table>\n",
       "</div>"
      ],
      "text/plain": [
       "   employee_id   boss_id   dept  signing_bonus    salary degree_level sex  \\\n",
       "0        46456  175361.0  sales              0  213000.0     Bachelor   M   \n",
       "1       104708   29733.0     HR              0   79000.0     Bachelor   F   \n",
       "2       120853   41991.0  sales              0  199000.0  High_School   M   \n",
       "3       142630  171266.0     HR              0  143000.0          PhD   F   \n",
       "4        72711  198240.0  sales              0  235000.0       Master   M   \n",
       "\n",
       "   yrs_experience  \n",
       "0               5  \n",
       "1               3  \n",
       "2               5  \n",
       "3              13  \n",
       "4               1  "
      ]
     },
     "execution_count": 4,
     "metadata": {},
     "output_type": "execute_result"
    }
   ],
   "source": [
    "df = pd.merge(company,employee)\n",
    "df.head()"
   ]
  },
  {
   "cell_type": "markdown",
   "metadata": {},
   "source": [
    "# In the company there are 6 levels (described below). Identify, for each employee, her corresponding level."
   ]
  },
  {
   "cell_type": "code",
   "execution_count": 5,
   "metadata": {
    "ExecuteTime": {
     "end_time": "2020-09-12T19:06:41.131244Z",
     "start_time": "2020-09-12T19:06:41.120498Z"
    }
   },
   "outputs": [],
   "source": [
    "levels = ['CEO', 'E', 'VP', 'D', 'MM', 'IC']\n",
    "df.loc[df['dept'] == 'CEO', 'level'] = 'CEO'"
   ]
  },
  {
   "cell_type": "code",
   "execution_count": 6,
   "metadata": {
    "ExecuteTime": {
     "end_time": "2020-09-12T19:06:41.157624Z",
     "start_time": "2020-09-12T19:06:41.133169Z"
    }
   },
   "outputs": [],
   "source": [
    "for i in range(len(levels) - 1):\n",
    "    boss_level = levels[i]\n",
    "    empl_level = levels[i+1]\n",
    "    boss_id = df[df['level']==boss_level]['employee_id']\n",
    "    df.loc[df['boss_id'].isin(boss_id),'level'] = empl_level"
   ]
  },
  {
   "cell_type": "code",
   "execution_count": 7,
   "metadata": {
    "ExecuteTime": {
     "end_time": "2020-09-12T19:06:41.169232Z",
     "start_time": "2020-09-12T19:06:41.162068Z"
    }
   },
   "outputs": [
    {
     "data": {
      "text/plain": [
       "IC     9000\n",
       "MM      800\n",
       "D       160\n",
       "VP       35\n",
       "E         4\n",
       "CEO       1\n",
       "Name: level, dtype: int64"
      ]
     },
     "execution_count": 7,
     "metadata": {},
     "output_type": "execute_result"
    }
   ],
   "source": [
    "df['level'].value_counts()"
   ]
  },
  {
   "cell_type": "markdown",
   "metadata": {},
   "source": [
    "# How many people each employee manages?"
   ]
  },
  {
   "cell_type": "code",
   "execution_count": 8,
   "metadata": {
    "ExecuteTime": {
     "end_time": "2020-09-12T19:07:02.629793Z",
     "start_time": "2020-09-12T19:06:41.173512Z"
    }
   },
   "outputs": [],
   "source": [
    "# find the managed employees for each employee\n",
    "df['counts'] = 0\n",
    "\n",
    "for level in ['IC', 'MM', 'D', 'VP', 'E']:\n",
    "    boss_ids = df[df['level'] == level]['boss_id']\n",
    "    employee_ids = df[df['level'] == level]['employee_id']\n",
    "    for b_id, e_id in zip(boss_ids, employee_ids):\n",
    "        e_counts = int(1 + df.loc[df['employee_id'] == e_id, 'counts'])\n",
    "        b_counts = int(df.loc[df['employee_id'] == b_id, 'counts'])\n",
    "        df.loc[df['employee_id'] == b_id, 'counts'] = e_counts + b_counts"
   ]
  },
  {
   "cell_type": "code",
   "execution_count": 9,
   "metadata": {
    "ExecuteTime": {
     "end_time": "2020-09-12T19:07:02.645963Z",
     "start_time": "2020-09-12T19:07:02.632254Z"
    }
   },
   "outputs": [
    {
     "data": {
      "text/html": [
       "<div>\n",
       "<style scoped>\n",
       "    .dataframe tbody tr th:only-of-type {\n",
       "        vertical-align: middle;\n",
       "    }\n",
       "\n",
       "    .dataframe tbody tr th {\n",
       "        vertical-align: top;\n",
       "    }\n",
       "\n",
       "    .dataframe thead th {\n",
       "        text-align: right;\n",
       "    }\n",
       "</style>\n",
       "<table border=\"1\" class=\"dataframe\">\n",
       "  <thead>\n",
       "    <tr style=\"text-align: right;\">\n",
       "      <th></th>\n",
       "      <th>employee_id</th>\n",
       "      <th>level</th>\n",
       "      <th>counts</th>\n",
       "    </tr>\n",
       "  </thead>\n",
       "  <tbody>\n",
       "    <tr>\n",
       "      <th>0</th>\n",
       "      <td>46456</td>\n",
       "      <td>IC</td>\n",
       "      <td>0</td>\n",
       "    </tr>\n",
       "    <tr>\n",
       "      <th>1</th>\n",
       "      <td>104708</td>\n",
       "      <td>IC</td>\n",
       "      <td>0</td>\n",
       "    </tr>\n",
       "    <tr>\n",
       "      <th>2</th>\n",
       "      <td>120853</td>\n",
       "      <td>IC</td>\n",
       "      <td>0</td>\n",
       "    </tr>\n",
       "    <tr>\n",
       "      <th>3</th>\n",
       "      <td>142630</td>\n",
       "      <td>MM</td>\n",
       "      <td>16</td>\n",
       "    </tr>\n",
       "    <tr>\n",
       "      <th>4</th>\n",
       "      <td>72711</td>\n",
       "      <td>IC</td>\n",
       "      <td>0</td>\n",
       "    </tr>\n",
       "    <tr>\n",
       "      <th>...</th>\n",
       "      <td>...</td>\n",
       "      <td>...</td>\n",
       "      <td>...</td>\n",
       "    </tr>\n",
       "    <tr>\n",
       "      <th>9995</th>\n",
       "      <td>45022</td>\n",
       "      <td>IC</td>\n",
       "      <td>0</td>\n",
       "    </tr>\n",
       "    <tr>\n",
       "      <th>9996</th>\n",
       "      <td>173414</td>\n",
       "      <td>IC</td>\n",
       "      <td>0</td>\n",
       "    </tr>\n",
       "    <tr>\n",
       "      <th>9997</th>\n",
       "      <td>194688</td>\n",
       "      <td>IC</td>\n",
       "      <td>0</td>\n",
       "    </tr>\n",
       "    <tr>\n",
       "      <th>9998</th>\n",
       "      <td>11698</td>\n",
       "      <td>IC</td>\n",
       "      <td>0</td>\n",
       "    </tr>\n",
       "    <tr>\n",
       "      <th>9999</th>\n",
       "      <td>144338</td>\n",
       "      <td>IC</td>\n",
       "      <td>0</td>\n",
       "    </tr>\n",
       "  </tbody>\n",
       "</table>\n",
       "<p>10000 rows × 3 columns</p>\n",
       "</div>"
      ],
      "text/plain": [
       "      employee_id level  counts\n",
       "0           46456    IC       0\n",
       "1          104708    IC       0\n",
       "2          120853    IC       0\n",
       "3          142630    MM      16\n",
       "4           72711    IC       0\n",
       "...           ...   ...     ...\n",
       "9995        45022    IC       0\n",
       "9996       173414    IC       0\n",
       "9997       194688    IC       0\n",
       "9998        11698    IC       0\n",
       "9999       144338    IC       0\n",
       "\n",
       "[10000 rows x 3 columns]"
      ]
     },
     "execution_count": 9,
     "metadata": {},
     "output_type": "execute_result"
    }
   ],
   "source": [
    "df[['employee_id','level','counts']]"
   ]
  },
  {
   "cell_type": "markdown",
   "metadata": {},
   "source": [
    "# Build a model to predict the salary of each employee."
   ]
  },
  {
   "cell_type": "markdown",
   "metadata": {},
   "source": [
    "`Target`: Salary\n",
    "\n",
    "`Variables`:\n",
    "\n",
    "**Category:** dept,degree_level,sex,level,signing_bonus\n",
    "\n",
    "**Numeric:** yrs_experience,counts"
   ]
  },
  {
   "cell_type": "markdown",
   "metadata": {},
   "source": [
    "## EDA"
   ]
  },
  {
   "cell_type": "code",
   "execution_count": 10,
   "metadata": {
    "ExecuteTime": {
     "end_time": "2020-09-12T19:07:02.671707Z",
     "start_time": "2020-09-12T19:07:02.648482Z"
    }
   },
   "outputs": [
    {
     "data": {
      "text/html": [
       "<div>\n",
       "<style scoped>\n",
       "    .dataframe tbody tr th:only-of-type {\n",
       "        vertical-align: middle;\n",
       "    }\n",
       "\n",
       "    .dataframe tbody tr th {\n",
       "        vertical-align: top;\n",
       "    }\n",
       "\n",
       "    .dataframe thead th {\n",
       "        text-align: right;\n",
       "    }\n",
       "</style>\n",
       "<table border=\"1\" class=\"dataframe\">\n",
       "  <thead>\n",
       "    <tr style=\"text-align: right;\">\n",
       "      <th>level</th>\n",
       "      <th>CEO</th>\n",
       "      <th>D</th>\n",
       "      <th>E</th>\n",
       "      <th>IC</th>\n",
       "      <th>MM</th>\n",
       "      <th>VP</th>\n",
       "    </tr>\n",
       "    <tr>\n",
       "      <th>sex</th>\n",
       "      <th></th>\n",
       "      <th></th>\n",
       "      <th></th>\n",
       "      <th></th>\n",
       "      <th></th>\n",
       "      <th></th>\n",
       "    </tr>\n",
       "  </thead>\n",
       "  <tbody>\n",
       "    <tr>\n",
       "      <th>F</th>\n",
       "      <td>0</td>\n",
       "      <td>47</td>\n",
       "      <td>1</td>\n",
       "      <td>3240</td>\n",
       "      <td>264</td>\n",
       "      <td>9</td>\n",
       "    </tr>\n",
       "    <tr>\n",
       "      <th>M</th>\n",
       "      <td>1</td>\n",
       "      <td>113</td>\n",
       "      <td>3</td>\n",
       "      <td>5760</td>\n",
       "      <td>536</td>\n",
       "      <td>26</td>\n",
       "    </tr>\n",
       "  </tbody>\n",
       "</table>\n",
       "</div>"
      ],
      "text/plain": [
       "level  CEO    D  E    IC   MM  VP\n",
       "sex                              \n",
       "F        0   47  1  3240  264   9\n",
       "M        1  113  3  5760  536  26"
      ]
     },
     "execution_count": 10,
     "metadata": {},
     "output_type": "execute_result"
    }
   ],
   "source": [
    "pd.crosstab(index = df.sex,columns = df.level)"
   ]
  },
  {
   "cell_type": "markdown",
   "metadata": {},
   "source": [
    "From the Frequencies Table, there is a huge difference between employment in Sex in different level of employment"
   ]
  },
  {
   "cell_type": "code",
   "execution_count": 11,
   "metadata": {
    "ExecuteTime": {
     "end_time": "2020-09-12T19:07:02.896273Z",
     "start_time": "2020-09-12T19:07:02.674084Z"
    }
   },
   "outputs": [
    {
     "data": {
      "image/png": "[encoded data removed]",
      "text/plain": [
       "<Figure size 432x288 with 1 Axes>"
      ]
     },
     "metadata": {
      "needs_background": "light"
     },
     "output_type": "display_data"
    }
   ],
   "source": [
    "sns.boxplot(data=df, x='degree_level', y='salary')\n",
    "plt.title('Salary vs Degree_Level')\n",
    "plt.show()"
   ]
  },
  {
   "cell_type": "code",
   "execution_count": 14,
   "metadata": {
    "ExecuteTime": {
     "end_time": "2020-09-12T19:08:10.723967Z",
     "start_time": "2020-09-12T19:08:10.062233Z"
    },
    "scrolled": false
   },
   "outputs": [
    {
     "data": {
      "image/png": "[encoded data removed]",
      "text/plain": [
       "<Figure size 1296x720 with 4 Axes>"
      ]
     },
     "metadata": {
      "needs_background": "light"
     },
     "output_type": "display_data"
    }
   ],
   "source": [
    "# box plot dept and salary\n",
    "fig, ax = plt.subplots(nrows=2, ncols=2, figsize=(18, 10))\n",
    "sns.boxplot(data=df, x='dept', y='salary', ax=ax[0, 0])\n",
    "ax[0, 0].set_title('Salary vs Dept')\n",
    "\n",
    "sns.boxplot(data=df, x='level', y='salary', ax=ax[0, 1])\n",
    "ax[0, 1].set_title('Salary vs Level')\n",
    "\n",
    "sns.boxplot(data=df, x='signing_bonus', y='salary', ax=ax[1, 0])\n",
    "ax[1, 0].set_title('Salary vs signing_bonus')\n",
    "\n",
    "sns.boxplot(data=df, x='sex', y='salary', ax=ax[1, 1])\n",
    "ax[1, 1].set_title('Salary vs sex')\n",
    "\n",
    "plt.tight_layout()\n",
    "plt.show()"
   ]
  },
  {
   "cell_type": "markdown",
   "metadata": {},
   "source": [
    "From boxplot, `Department`, `Employment Level`, `Signing Bonus` and `Sex` have impact on the `Salary`\n",
    "\n",
    "But `degree_level` seems no difference"
   ]
  },
  {
   "cell_type": "code",
   "execution_count": 36,
   "metadata": {
    "ExecuteTime": {
     "end_time": "2020-09-12T20:04:33.813093Z",
     "start_time": "2020-09-12T20:04:32.915220Z"
    }
   },
   "outputs": [
    {
     "data": {
      "image/png": "[encoded data removed]",
      "text/plain": [
       "<Figure size 864x720 with 5 Axes>"
      ]
     },
     "metadata": {
      "needs_background": "light"
     },
     "output_type": "display_data"
    }
   ],
   "source": [
    "# correlation heatmap between three numerical dataset \n",
    "fig, ax = plt.subplots(nrows=2, ncols=2, figsize=(12, 10))\n",
    "sns.scatterplot(data = df, x ='yrs_experience',y = 'salary',ax = ax[0,0])\n",
    "ax[0,0].set_title('Yrs experience vs salary')\n",
    "\n",
    "sns.scatterplot(data = df, x ='counts',y = 'salary',ax = ax[0,1])\n",
    "ax[0,1].set_title('counts vs salary')\n",
    "\n",
    "sns.scatterplot(data = df, x ='counts',y = 'yrs_experience',ax = ax[1,0])\n",
    "ax[1,0].set_title('counts vs yrs_experience')\n",
    "\n",
    "sns.heatmap(df[['signing_bonus', 'salary', 'counts', 'yrs_experience']].corr(),\n",
    "            cmap='coolwarm',\n",
    "            square=True,\n",
    "            annot=True,ax = ax[1,1])\n",
    "ax[1,1].set_title('Correlation Heatmap')\n",
    "\n",
    "plt.tight_layout()\n",
    "plt.show()"
   ]
  },
  {
   "cell_type": "markdown",
   "metadata": {},
   "source": [
    "There is some degree that `yrs_experience` is associated with `salary`."
   ]
  },
  {
   "cell_type": "markdown",
   "metadata": {},
   "source": [
    "## Model Building "
   ]
  },
  {
   "cell_type": "code",
   "execution_count": 105,
   "metadata": {
    "ExecuteTime": {
     "end_time": "2020-09-12T20:49:34.619531Z",
     "start_time": "2020-09-12T20:49:34.594149Z"
    }
   },
   "outputs": [
    {
     "data": {
      "text/html": [
       "<div>\n",
       "<style scoped>\n",
       "    .dataframe tbody tr th:only-of-type {\n",
       "        vertical-align: middle;\n",
       "    }\n",
       "\n",
       "    .dataframe tbody tr th {\n",
       "        vertical-align: top;\n",
       "    }\n",
       "\n",
       "    .dataframe thead th {\n",
       "        text-align: right;\n",
       "    }\n",
       "</style>\n",
       "<table border=\"1\" class=\"dataframe\">\n",
       "  <thead>\n",
       "    <tr style=\"text-align: right;\">\n",
       "      <th></th>\n",
       "      <th>salary</th>\n",
       "      <th>yrs_experience</th>\n",
       "      <th>counts</th>\n",
       "      <th>dept</th>\n",
       "      <th>signing_bonus</th>\n",
       "      <th>degree_level</th>\n",
       "      <th>sex</th>\n",
       "      <th>level</th>\n",
       "    </tr>\n",
       "  </thead>\n",
       "  <tbody>\n",
       "    <tr>\n",
       "      <th>0</th>\n",
       "      <td>0.268499</td>\n",
       "      <td>0.361992</td>\n",
       "      <td>-0.04259</td>\n",
       "      <td>sales</td>\n",
       "      <td>0</td>\n",
       "      <td>Bachelor</td>\n",
       "      <td>M</td>\n",
       "      <td>IC</td>\n",
       "    </tr>\n",
       "    <tr>\n",
       "      <th>1</th>\n",
       "      <td>-1.237637</td>\n",
       "      <td>-0.281664</td>\n",
       "      <td>-0.04259</td>\n",
       "      <td>HR</td>\n",
       "      <td>0</td>\n",
       "      <td>Bachelor</td>\n",
       "      <td>F</td>\n",
       "      <td>IC</td>\n",
       "    </tr>\n",
       "    <tr>\n",
       "      <th>2</th>\n",
       "      <td>0.111142</td>\n",
       "      <td>0.361992</td>\n",
       "      <td>-0.04259</td>\n",
       "      <td>sales</td>\n",
       "      <td>0</td>\n",
       "      <td>High_School</td>\n",
       "      <td>M</td>\n",
       "      <td>IC</td>\n",
       "    </tr>\n",
       "  </tbody>\n",
       "</table>\n",
       "</div>"
      ],
      "text/plain": [
       "     salary  yrs_experience   counts   dept  signing_bonus degree_level sex  \\\n",
       "0  0.268499        0.361992 -0.04259  sales              0     Bachelor   M   \n",
       "1 -1.237637       -0.281664 -0.04259     HR              0     Bachelor   F   \n",
       "2  0.111142        0.361992 -0.04259  sales              0  High_School   M   \n",
       "\n",
       "  level  \n",
       "0    IC  \n",
       "1    IC  \n",
       "2    IC  "
      ]
     },
     "execution_count": 105,
     "metadata": {},
     "output_type": "execute_result"
    }
   ],
   "source": [
    "# normalize data\n",
    "ss = StandardScaler()\n",
    "normal_num = pd.DataFrame(ss.fit_transform(\n",
    "    df[['salary', 'yrs_experience', 'counts']]),\n",
    "                          columns=['salary', 'yrs_experience', 'counts'])\n",
    "df = pd.merge(normal_num,\n",
    "              df[['dept', 'signing_bonus', 'degree_level', 'sex', 'level']],\n",
    "              left_index=True,\n",
    "              right_index=True)\n",
    "df.head(3)"
   ]
  },
  {
   "cell_type": "code",
   "execution_count": 106,
   "metadata": {
    "ExecuteTime": {
     "end_time": "2020-09-12T20:49:39.663749Z",
     "start_time": "2020-09-12T20:49:39.612893Z"
    },
    "scrolled": false
   },
   "outputs": [
    {
     "name": "stdout",
     "output_type": "stream",
     "text": [
      "Checking whether there is an H2O instance running at http://localhost:54321 . connected.\n"
     ]
    },
    {
     "data": {
      "text/html": [
       "<div style=\"overflow:auto\"><table style=\"width:50%\"><tr><td>H2O_cluster_uptime:</td>\n",
       "<td>1 hour 35 mins</td></tr>\n",
       "<tr><td>H2O_cluster_timezone:</td>\n",
       "<td>America/New_York</td></tr>\n",
       "<tr><td>H2O_data_parsing_timezone:</td>\n",
       "<td>UTC</td></tr>\n",
       "<tr><td>H2O_cluster_version:</td>\n",
       "<td>3.30.1.1</td></tr>\n",
       "<tr><td>H2O_cluster_version_age:</td>\n",
       "<td>1 month and 2 days </td></tr>\n",
       "<tr><td>H2O_cluster_name:</td>\n",
       "<td>H2O_from_python_matsujun_xzpbe1</td></tr>\n",
       "<tr><td>H2O_cluster_total_nodes:</td>\n",
       "<td>1</td></tr>\n",
       "<tr><td>H2O_cluster_free_memory:</td>\n",
       "<td>1.998 Gb</td></tr>\n",
       "<tr><td>H2O_cluster_total_cores:</td>\n",
       "<td>4</td></tr>\n",
       "<tr><td>H2O_cluster_allowed_cores:</td>\n",
       "<td>4</td></tr>\n",
       "<tr><td>H2O_cluster_status:</td>\n",
       "<td>locked, healthy</td></tr>\n",
       "<tr><td>H2O_connection_url:</td>\n",
       "<td>http://localhost:54321</td></tr>\n",
       "<tr><td>H2O_connection_proxy:</td>\n",
       "<td>{\"http\": null, \"https\": null}</td></tr>\n",
       "<tr><td>H2O_internal_security:</td>\n",
       "<td>False</td></tr>\n",
       "<tr><td>H2O_API_Extensions:</td>\n",
       "<td>Amazon S3, XGBoost, Algos, AutoML, Core V3, TargetEncoder, Core V4</td></tr>\n",
       "<tr><td>Python_version:</td>\n",
       "<td>3.7.6 final</td></tr></table></div>"
      ],
      "text/plain": [
       "--------------------------  ------------------------------------------------------------------\n",
       "H2O_cluster_uptime:         1 hour 35 mins\n",
       "H2O_cluster_timezone:       America/New_York\n",
       "H2O_data_parsing_timezone:  UTC\n",
       "H2O_cluster_version:        3.30.1.1\n",
       "H2O_cluster_version_age:    1 month and 2 days\n",
       "H2O_cluster_name:           H2O_from_python_matsujun_xzpbe1\n",
       "H2O_cluster_total_nodes:    1\n",
       "H2O_cluster_free_memory:    1.998 Gb\n",
       "H2O_cluster_total_cores:    4\n",
       "H2O_cluster_allowed_cores:  4\n",
       "H2O_cluster_status:         locked, healthy\n",
       "H2O_connection_url:         http://localhost:54321\n",
       "H2O_connection_proxy:       {\"http\": null, \"https\": null}\n",
       "H2O_internal_security:      False\n",
       "H2O_API_Extensions:         Amazon S3, XGBoost, Algos, AutoML, Core V3, TargetEncoder, Core V4\n",
       "Python_version:             3.7.6 final\n",
       "--------------------------  ------------------------------------------------------------------"
      ]
     },
     "metadata": {},
     "output_type": "display_data"
    }
   ],
   "source": [
    "h2o.init()"
   ]
  },
  {
   "cell_type": "code",
   "execution_count": 107,
   "metadata": {
    "ExecuteTime": {
     "end_time": "2020-09-12T20:49:47.041495Z",
     "start_time": "2020-09-12T20:49:45.391259Z"
    }
   },
   "outputs": [
    {
     "name": "stdout",
     "output_type": "stream",
     "text": [
      "Parse progress: |█████████████████████████████████████████████████████████| 100%\n"
     ]
    },
    {
     "data": {
      "text/html": [
       "<table>\n",
       "<thead>\n",
       "<tr><th>       </th><th>dept       </th><th>signing_bonus  </th><th>salary                 </th><th>degree_level  </th><th>sex  </th><th>yrs_experience         </th><th>level  </th><th>counts               </th></tr>\n",
       "</thead>\n",
       "<tbody>\n",
       "<tr><td>type   </td><td>enum       </td><td>enum           </td><td>real                   </td><td>enum          </td><td>enum </td><td>real                   </td><td>enum   </td><td>real                 </td></tr>\n",
       "<tr><td>mins   </td><td>           </td><td>               </td><td>-1.451194178242179     </td><td>              </td><td>     </td><td>-0.9253187432898452    </td><td>       </td><td>-0.04258978614219266 </td></tr>\n",
       "<tr><td>mean   </td><td>           </td><td>               </td><td>-2.0626946331536722e-17</td><td>              </td><td>     </td><td>-2.9449641510137514e-17</td><td>       </td><td>7.287024445228746e-18</td></tr>\n",
       "<tr><td>maxs   </td><td>           </td><td>               </td><td>5.742294519731163      </td><td>              </td><td>     </td><td>9.694992375437508      </td><td>       </td><td>87.30517073315558    </td></tr>\n",
       "<tr><td>sigma  </td><td>           </td><td>               </td><td>1.0000500037503106     </td><td>              </td><td>     </td><td>1.0000500037503108     </td><td>       </td><td>1.0000500037503084   </td></tr>\n",
       "<tr><td>zeros  </td><td>           </td><td>               </td><td>0                      </td><td>              </td><td>     </td><td>0                      </td><td>       </td><td>0                    </td></tr>\n",
       "<tr><td>missing</td><td>0          </td><td>0              </td><td>0                      </td><td>0             </td><td>0    </td><td>0                      </td><td>0      </td><td>0                    </td></tr>\n",
       "<tr><td>0      </td><td>sales      </td><td>0              </td><td>0.26849921361707313    </td><td>Bachelor      </td><td>M    </td><td>0.3619916953437735     </td><td>IC     </td><td>-0.04258978614219266 </td></tr>\n",
       "<tr><td>1      </td><td>HR         </td><td>0              </td><td>-1.2376374825210954    </td><td>Bachelor      </td><td>F    </td><td>-0.28166352397303573   </td><td>IC     </td><td>-0.04258978614219266 </td></tr>\n",
       "<tr><td>2      </td><td>sales      </td><td>0              </td><td>0.11114164834890625    </td><td>High_School   </td><td>M    </td><td>0.3619916953437735     </td><td>IC     </td><td>-0.04258978614219266 </td></tr>\n",
       "<tr><td>3      </td><td>HR         </td><td>0              </td><td>-0.5182886127237611    </td><td>PhD           </td><td>F    </td><td>2.936612572611011      </td><td>MM     </td><td>0.0971806077280708   </td></tr>\n",
       "<tr><td>4      </td><td>sales      </td><td>0              </td><td>0.5157753876099067     </td><td>Master        </td><td>M    </td><td>-0.9253187432898452    </td><td>IC     </td><td>-0.04258978614219266 </td></tr>\n",
       "<tr><td>5      </td><td>sales      </td><td>0              </td><td>0.0774221700771562     </td><td>High_School   </td><td>M    </td><td>-0.28166352397303573   </td><td>IC     </td><td>-0.04258978614219266 </td></tr>\n",
       "<tr><td>6      </td><td>HR         </td><td>0              </td><td>-1.0128409607094284    </td><td>PhD           </td><td>M    </td><td>-0.28166352397303573   </td><td>IC     </td><td>-0.04258978614219266 </td></tr>\n",
       "<tr><td>7      </td><td>HR         </td><td>1              </td><td>-1.248877308611679     </td><td>PhD           </td><td>M    </td><td>0.3619916953437735     </td><td>IC     </td><td>-0.04258978614219266 </td></tr>\n",
       "<tr><td>8      </td><td>engineering</td><td>1              </td><td>2.1343103446539087     </td><td>Master        </td><td>M    </td><td>0.6838193050021781     </td><td>IC     </td><td>-0.04258978614219266 </td></tr>\n",
       "<tr><td>9      </td><td>sales      </td><td>0              </td><td>0.6731329528780736     </td><td>Master        </td><td>F    </td><td>0.6838193050021781     </td><td>IC     </td><td>-0.04258978614219266 </td></tr>\n",
       "</tbody>\n",
       "</table>"
      ]
     },
     "metadata": {},
     "output_type": "display_data"
    }
   ],
   "source": [
    "# dataframe preparation\n",
    "h2o_df = H2OFrame(df[[\n",
    "    'dept', 'signing_bonus', 'salary', 'degree_level', 'sex', 'yrs_experience',\n",
    "    'level', 'counts'\n",
    "]])\n",
    "h2o_df['signing_bonus'] = h2o_df['signing_bonus'].asfactor()\n",
    "h2o_df.summary()"
   ]
  },
  {
   "cell_type": "code",
   "execution_count": 108,
   "metadata": {
    "ExecuteTime": {
     "end_time": "2020-09-12T20:49:55.440998Z",
     "start_time": "2020-09-12T20:49:54.577642Z"
    }
   },
   "outputs": [],
   "source": [
    "# Split into 80% training and 20% test dataset\n",
    "response = 'salary'\n",
    "predictor = [\n",
    "    'dept', 'signing_bonus', 'degree_level', 'sex', 'yrs_experience', 'level',\n",
    "    'counts'\n",
    "]\n",
    "train, test = h2o_df.split_frame(ratios=[0.8], seed=42)"
   ]
  },
  {
   "cell_type": "code",
   "execution_count": 109,
   "metadata": {
    "ExecuteTime": {
     "end_time": "2020-09-12T20:49:58.828053Z",
     "start_time": "2020-09-12T20:49:56.955296Z"
    }
   },
   "outputs": [
    {
     "name": "stdout",
     "output_type": "stream",
     "text": [
      "xgboost Model Build progress: |███████████████████████████████████████████| 100%\n"
     ]
    }
   ],
   "source": [
    "# fitting regression\n",
    "model = H2OXGBoostEstimator(booster='dart',\n",
    "                                  normalize_type=\"forest\",\n",
    "                                  seed=1234)\n",
    "model.train(x=predictor,\n",
    "            y=response,\n",
    "            training_frame=train,\n",
    "            validation_frame=test)"
   ]
  },
  {
   "cell_type": "code",
   "execution_count": 110,
   "metadata": {
    "ExecuteTime": {
     "end_time": "2020-09-12T20:50:00.649741Z",
     "start_time": "2020-09-12T20:50:00.547271Z"
    },
    "scrolled": false
   },
   "outputs": [
    {
     "name": "stdout",
     "output_type": "stream",
     "text": [
      "\n",
      "ModelMetricsRegression: xgboost\n",
      "** Reported on test data. **\n",
      "\n",
      "MSE: 0.7015030485610957\n",
      "RMSE: 0.8375577881920123\n",
      "MAE: 0.6501002356922725\n",
      "RMSLE: NaN\n",
      "Mean Residual Deviance: 0.7015030485610957\n"
     ]
    },
    {
     "data": {
      "text/plain": []
     },
     "execution_count": 110,
     "metadata": {},
     "output_type": "execute_result"
    }
   ],
   "source": [
    "# model \n",
    "model.model_performance(test_data=test,train = train)"
   ]
  },
  {
   "cell_type": "code",
   "execution_count": 120,
   "metadata": {
    "ExecuteTime": {
     "end_time": "2020-09-12T20:53:23.230484Z",
     "start_time": "2020-09-12T20:53:22.960059Z"
    }
   },
   "outputs": [
    {
     "name": "stdout",
     "output_type": "stream",
     "text": [
      "xgboost prediction progress: |████████████████████████████████████████████| 100%\n"
     ]
    },
    {
     "ename": "ValueError",
     "evalue": "cannot copy sequence with size 1980 to array axis with dimension 1",
     "output_type": "error",
     "traceback": [
      "\u001b[0;31m---------------------------------------------------------------------------\u001b[0m",
      "\u001b[0;31mValueError\u001b[0m                                Traceback (most recent call last)",
      "\u001b[0;32m<ipython-input-120-cd5e1fedb9f5>\u001b[0m in \u001b[0;36m<module>\u001b[0;34m\u001b[0m\n\u001b[0;32m----> 1\u001b[0;31m \u001b[0mr2_score\u001b[0m\u001b[0;34m(\u001b[0m\u001b[0mtest\u001b[0m\u001b[0;34m[\u001b[0m\u001b[0mresponse\u001b[0m\u001b[0;34m]\u001b[0m\u001b[0;34m,\u001b[0m\u001b[0mmodel\u001b[0m\u001b[0;34m.\u001b[0m\u001b[0mpredict\u001b[0m\u001b[0;34m(\u001b[0m\u001b[0mtest\u001b[0m\u001b[0;34m[\u001b[0m\u001b[0mpredictor\u001b[0m\u001b[0;34m]\u001b[0m\u001b[0;34m)\u001b[0m\u001b[0;34m)\u001b[0m\u001b[0;34m\u001b[0m\u001b[0;34m\u001b[0m\u001b[0m\n\u001b[0m",
      "\u001b[0;32m~/opt/anaconda3/lib/python3.7/site-packages/sklearn/utils/validation.py\u001b[0m in \u001b[0;36minner_f\u001b[0;34m(*args, **kwargs)\u001b[0m\n\u001b[1;32m     71\u001b[0m                           FutureWarning)\n\u001b[1;32m     72\u001b[0m         \u001b[0mkwargs\u001b[0m\u001b[0;34m.\u001b[0m\u001b[0mupdate\u001b[0m\u001b[0;34m(\u001b[0m\u001b[0;34m{\u001b[0m\u001b[0mk\u001b[0m\u001b[0;34m:\u001b[0m \u001b[0marg\u001b[0m \u001b[0;32mfor\u001b[0m \u001b[0mk\u001b[0m\u001b[0;34m,\u001b[0m \u001b[0marg\u001b[0m \u001b[0;32min\u001b[0m \u001b[0mzip\u001b[0m\u001b[0;34m(\u001b[0m\u001b[0msig\u001b[0m\u001b[0;34m.\u001b[0m\u001b[0mparameters\u001b[0m\u001b[0;34m,\u001b[0m \u001b[0margs\u001b[0m\u001b[0;34m)\u001b[0m\u001b[0;34m}\u001b[0m\u001b[0;34m)\u001b[0m\u001b[0;34m\u001b[0m\u001b[0;34m\u001b[0m\u001b[0m\n\u001b[0;32m---> 73\u001b[0;31m         \u001b[0;32mreturn\u001b[0m \u001b[0mf\u001b[0m\u001b[0;34m(\u001b[0m\u001b[0;34m**\u001b[0m\u001b[0mkwargs\u001b[0m\u001b[0;34m)\u001b[0m\u001b[0;34m\u001b[0m\u001b[0;34m\u001b[0m\u001b[0m\n\u001b[0m\u001b[1;32m     74\u001b[0m     \u001b[0;32mreturn\u001b[0m \u001b[0minner_f\u001b[0m\u001b[0;34m\u001b[0m\u001b[0;34m\u001b[0m\u001b[0m\n\u001b[1;32m     75\u001b[0m \u001b[0;34m\u001b[0m\u001b[0m\n",
      "\u001b[0;32m~/opt/anaconda3/lib/python3.7/site-packages/sklearn/metrics/_regression.py\u001b[0m in \u001b[0;36mr2_score\u001b[0;34m(y_true, y_pred, sample_weight, multioutput)\u001b[0m\n\u001b[1;32m    582\u001b[0m     \"\"\"\n\u001b[1;32m    583\u001b[0m     y_type, y_true, y_pred, multioutput = _check_reg_targets(\n\u001b[0;32m--> 584\u001b[0;31m         y_true, y_pred, multioutput)\n\u001b[0m\u001b[1;32m    585\u001b[0m     \u001b[0mcheck_consistent_length\u001b[0m\u001b[0;34m(\u001b[0m\u001b[0my_true\u001b[0m\u001b[0;34m,\u001b[0m \u001b[0my_pred\u001b[0m\u001b[0;34m,\u001b[0m \u001b[0msample_weight\u001b[0m\u001b[0;34m)\u001b[0m\u001b[0;34m\u001b[0m\u001b[0;34m\u001b[0m\u001b[0m\n\u001b[1;32m    586\u001b[0m \u001b[0;34m\u001b[0m\u001b[0m\n",
      "\u001b[0;32m~/opt/anaconda3/lib/python3.7/site-packages/sklearn/metrics/_regression.py\u001b[0m in \u001b[0;36m_check_reg_targets\u001b[0;34m(y_true, y_pred, multioutput, dtype)\u001b[0m\n\u001b[1;32m     83\u001b[0m     \"\"\"\n\u001b[1;32m     84\u001b[0m     \u001b[0mcheck_consistent_length\u001b[0m\u001b[0;34m(\u001b[0m\u001b[0my_true\u001b[0m\u001b[0;34m,\u001b[0m \u001b[0my_pred\u001b[0m\u001b[0;34m)\u001b[0m\u001b[0;34m\u001b[0m\u001b[0;34m\u001b[0m\u001b[0m\n\u001b[0;32m---> 85\u001b[0;31m     \u001b[0my_true\u001b[0m \u001b[0;34m=\u001b[0m \u001b[0mcheck_array\u001b[0m\u001b[0;34m(\u001b[0m\u001b[0my_true\u001b[0m\u001b[0;34m,\u001b[0m \u001b[0mensure_2d\u001b[0m\u001b[0;34m=\u001b[0m\u001b[0;32mFalse\u001b[0m\u001b[0;34m,\u001b[0m \u001b[0mdtype\u001b[0m\u001b[0;34m=\u001b[0m\u001b[0mdtype\u001b[0m\u001b[0;34m)\u001b[0m\u001b[0;34m\u001b[0m\u001b[0;34m\u001b[0m\u001b[0m\n\u001b[0m\u001b[1;32m     86\u001b[0m     \u001b[0my_pred\u001b[0m \u001b[0;34m=\u001b[0m \u001b[0mcheck_array\u001b[0m\u001b[0;34m(\u001b[0m\u001b[0my_pred\u001b[0m\u001b[0;34m,\u001b[0m \u001b[0mensure_2d\u001b[0m\u001b[0;34m=\u001b[0m\u001b[0;32mFalse\u001b[0m\u001b[0;34m,\u001b[0m \u001b[0mdtype\u001b[0m\u001b[0;34m=\u001b[0m\u001b[0mdtype\u001b[0m\u001b[0;34m)\u001b[0m\u001b[0;34m\u001b[0m\u001b[0;34m\u001b[0m\u001b[0m\n\u001b[1;32m     87\u001b[0m \u001b[0;34m\u001b[0m\u001b[0m\n",
      "\u001b[0;32m~/opt/anaconda3/lib/python3.7/site-packages/sklearn/utils/validation.py\u001b[0m in \u001b[0;36minner_f\u001b[0;34m(*args, **kwargs)\u001b[0m\n\u001b[1;32m     71\u001b[0m                           FutureWarning)\n\u001b[1;32m     72\u001b[0m         \u001b[0mkwargs\u001b[0m\u001b[0;34m.\u001b[0m\u001b[0mupdate\u001b[0m\u001b[0;34m(\u001b[0m\u001b[0;34m{\u001b[0m\u001b[0mk\u001b[0m\u001b[0;34m:\u001b[0m \u001b[0marg\u001b[0m \u001b[0;32mfor\u001b[0m \u001b[0mk\u001b[0m\u001b[0;34m,\u001b[0m \u001b[0marg\u001b[0m \u001b[0;32min\u001b[0m \u001b[0mzip\u001b[0m\u001b[0;34m(\u001b[0m\u001b[0msig\u001b[0m\u001b[0;34m.\u001b[0m\u001b[0mparameters\u001b[0m\u001b[0;34m,\u001b[0m \u001b[0margs\u001b[0m\u001b[0;34m)\u001b[0m\u001b[0;34m}\u001b[0m\u001b[0;34m)\u001b[0m\u001b[0;34m\u001b[0m\u001b[0;34m\u001b[0m\u001b[0m\n\u001b[0;32m---> 73\u001b[0;31m         \u001b[0;32mreturn\u001b[0m \u001b[0mf\u001b[0m\u001b[0;34m(\u001b[0m\u001b[0;34m**\u001b[0m\u001b[0mkwargs\u001b[0m\u001b[0;34m)\u001b[0m\u001b[0;34m\u001b[0m\u001b[0;34m\u001b[0m\u001b[0m\n\u001b[0m\u001b[1;32m     74\u001b[0m     \u001b[0;32mreturn\u001b[0m \u001b[0minner_f\u001b[0m\u001b[0;34m\u001b[0m\u001b[0;34m\u001b[0m\u001b[0m\n\u001b[1;32m     75\u001b[0m \u001b[0;34m\u001b[0m\u001b[0m\n",
      "\u001b[0;32m~/opt/anaconda3/lib/python3.7/site-packages/sklearn/utils/validation.py\u001b[0m in \u001b[0;36mcheck_array\u001b[0;34m(array, accept_sparse, accept_large_sparse, dtype, order, copy, force_all_finite, ensure_2d, allow_nd, ensure_min_samples, ensure_min_features, estimator)\u001b[0m\n\u001b[1;32m    597\u001b[0m                     \u001b[0marray\u001b[0m \u001b[0;34m=\u001b[0m \u001b[0marray\u001b[0m\u001b[0;34m.\u001b[0m\u001b[0mastype\u001b[0m\u001b[0;34m(\u001b[0m\u001b[0mdtype\u001b[0m\u001b[0;34m,\u001b[0m \u001b[0mcasting\u001b[0m\u001b[0;34m=\u001b[0m\u001b[0;34m\"unsafe\"\u001b[0m\u001b[0;34m,\u001b[0m \u001b[0mcopy\u001b[0m\u001b[0;34m=\u001b[0m\u001b[0;32mFalse\u001b[0m\u001b[0;34m)\u001b[0m\u001b[0;34m\u001b[0m\u001b[0;34m\u001b[0m\u001b[0m\n\u001b[1;32m    598\u001b[0m                 \u001b[0;32melse\u001b[0m\u001b[0;34m:\u001b[0m\u001b[0;34m\u001b[0m\u001b[0;34m\u001b[0m\u001b[0m\n\u001b[0;32m--> 599\u001b[0;31m                     \u001b[0marray\u001b[0m \u001b[0;34m=\u001b[0m \u001b[0mnp\u001b[0m\u001b[0;34m.\u001b[0m\u001b[0masarray\u001b[0m\u001b[0;34m(\u001b[0m\u001b[0marray\u001b[0m\u001b[0;34m,\u001b[0m \u001b[0morder\u001b[0m\u001b[0;34m=\u001b[0m\u001b[0morder\u001b[0m\u001b[0;34m,\u001b[0m \u001b[0mdtype\u001b[0m\u001b[0;34m=\u001b[0m\u001b[0mdtype\u001b[0m\u001b[0;34m)\u001b[0m\u001b[0;34m\u001b[0m\u001b[0;34m\u001b[0m\u001b[0m\n\u001b[0m\u001b[1;32m    600\u001b[0m             \u001b[0;32mexcept\u001b[0m \u001b[0mComplexWarning\u001b[0m\u001b[0;34m:\u001b[0m\u001b[0;34m\u001b[0m\u001b[0;34m\u001b[0m\u001b[0m\n\u001b[1;32m    601\u001b[0m                 raise ValueError(\"Complex data not supported\\n\"\n",
      "\u001b[0;32m~/opt/anaconda3/lib/python3.7/site-packages/numpy/core/_asarray.py\u001b[0m in \u001b[0;36masarray\u001b[0;34m(a, dtype, order)\u001b[0m\n\u001b[1;32m     83\u001b[0m \u001b[0;34m\u001b[0m\u001b[0m\n\u001b[1;32m     84\u001b[0m     \"\"\"\n\u001b[0;32m---> 85\u001b[0;31m     \u001b[0;32mreturn\u001b[0m \u001b[0marray\u001b[0m\u001b[0;34m(\u001b[0m\u001b[0ma\u001b[0m\u001b[0;34m,\u001b[0m \u001b[0mdtype\u001b[0m\u001b[0;34m,\u001b[0m \u001b[0mcopy\u001b[0m\u001b[0;34m=\u001b[0m\u001b[0;32mFalse\u001b[0m\u001b[0;34m,\u001b[0m \u001b[0morder\u001b[0m\u001b[0;34m=\u001b[0m\u001b[0morder\u001b[0m\u001b[0;34m)\u001b[0m\u001b[0;34m\u001b[0m\u001b[0;34m\u001b[0m\u001b[0m\n\u001b[0m\u001b[1;32m     86\u001b[0m \u001b[0;34m\u001b[0m\u001b[0m\n\u001b[1;32m     87\u001b[0m \u001b[0;34m\u001b[0m\u001b[0m\n",
      "\u001b[0;31mValueError\u001b[0m: cannot copy sequence with size 1980 to array axis with dimension 1"
     ]
    }
   ],
   "source": [
    "r2_score(test[response],model.predict(test[predictor]))"
   ]
  },
  {
   "cell_type": "code",
   "execution_count": 121,
   "metadata": {
    "ExecuteTime": {
     "end_time": "2020-09-12T20:53:39.859021Z",
     "start_time": "2020-09-12T20:53:39.750634Z"
    },
    "scrolled": false
   },
   "outputs": [
    {
     "name": "stdout",
     "output_type": "stream",
     "text": [
      "Model Details\n",
      "=============\n",
      "H2OXGBoostEstimator :  XGBoost\n",
      "Model Key:  XGBoost_model_python_1599938073267_7\n",
      "\n",
      "\n",
      "Model Summary: \n"
     ]
    },
    {
     "data": {
      "text/html": [
       "<div>\n",
       "<style scoped>\n",
       "    .dataframe tbody tr th:only-of-type {\n",
       "        vertical-align: middle;\n",
       "    }\n",
       "\n",
       "    .dataframe tbody tr th {\n",
       "        vertical-align: top;\n",
       "    }\n",
       "\n",
       "    .dataframe thead th {\n",
       "        text-align: right;\n",
       "    }\n",
       "</style>\n",
       "<table border=\"1\" class=\"dataframe\">\n",
       "  <thead>\n",
       "    <tr style=\"text-align: right;\">\n",
       "      <th></th>\n",
       "      <th></th>\n",
       "      <th>number_of_trees</th>\n",
       "    </tr>\n",
       "  </thead>\n",
       "  <tbody>\n",
       "    <tr>\n",
       "      <th>0</th>\n",
       "      <td></td>\n",
       "      <td>50.0</td>\n",
       "    </tr>\n",
       "  </tbody>\n",
       "</table>\n",
       "</div>"
      ],
      "text/plain": [
       "     number_of_trees\n",
       "0               50.0"
      ]
     },
     "metadata": {},
     "output_type": "display_data"
    },
    {
     "name": "stdout",
     "output_type": "stream",
     "text": [
      "\n",
      "\n",
      "ModelMetricsRegression: xgboost\n",
      "** Reported on train data. **\n",
      "\n",
      "MSE: 0.5797543541198317\n",
      "RMSE: 0.7614160190853826\n",
      "MAE: 0.5888739020618822\n",
      "RMSLE: NaN\n",
      "Mean Residual Deviance: 0.5797543541198317\n",
      "\n",
      "ModelMetricsRegression: xgboost\n",
      "** Reported on validation data. **\n",
      "\n",
      "MSE: 0.7015030485610957\n",
      "RMSE: 0.8375577881920123\n",
      "MAE: 0.6501002356922725\n",
      "RMSLE: NaN\n",
      "Mean Residual Deviance: 0.7015030485610957\n",
      "\n",
      "Scoring History: \n"
     ]
    },
    {
     "data": {
      "text/html": [
       "<div>\n",
       "<style scoped>\n",
       "    .dataframe tbody tr th:only-of-type {\n",
       "        vertical-align: middle;\n",
       "    }\n",
       "\n",
       "    .dataframe tbody tr th {\n",
       "        vertical-align: top;\n",
       "    }\n",
       "\n",
       "    .dataframe thead th {\n",
       "        text-align: right;\n",
       "    }\n",
       "</style>\n",
       "<table border=\"1\" class=\"dataframe\">\n",
       "  <thead>\n",
       "    <tr style=\"text-align: right;\">\n",
       "      <th></th>\n",
       "      <th></th>\n",
       "      <th>timestamp</th>\n",
       "      <th>duration</th>\n",
       "      <th>number_of_trees</th>\n",
       "      <th>training_rmse</th>\n",
       "      <th>training_mae</th>\n",
       "      <th>training_deviance</th>\n",
       "      <th>validation_rmse</th>\n",
       "      <th>validation_mae</th>\n",
       "      <th>validation_deviance</th>\n",
       "    </tr>\n",
       "  </thead>\n",
       "  <tbody>\n",
       "    <tr>\n",
       "      <th>0</th>\n",
       "      <td></td>\n",
       "      <td>2020-09-12 16:49:57</td>\n",
       "      <td>0.043 sec</td>\n",
       "      <td>0.0</td>\n",
       "      <td>1.118984</td>\n",
       "      <td>0.951638</td>\n",
       "      <td>1.252124</td>\n",
       "      <td>1.114179</td>\n",
       "      <td>0.945812</td>\n",
       "      <td>1.241396</td>\n",
       "    </tr>\n",
       "    <tr>\n",
       "      <th>1</th>\n",
       "      <td></td>\n",
       "      <td>2020-09-12 16:49:57</td>\n",
       "      <td>0.081 sec</td>\n",
       "      <td>1.0</td>\n",
       "      <td>0.970116</td>\n",
       "      <td>0.835767</td>\n",
       "      <td>0.941125</td>\n",
       "      <td>0.975951</td>\n",
       "      <td>0.837597</td>\n",
       "      <td>0.952481</td>\n",
       "    </tr>\n",
       "    <tr>\n",
       "      <th>2</th>\n",
       "      <td></td>\n",
       "      <td>2020-09-12 16:49:57</td>\n",
       "      <td>0.102 sec</td>\n",
       "      <td>2.0</td>\n",
       "      <td>0.887276</td>\n",
       "      <td>0.759366</td>\n",
       "      <td>0.787258</td>\n",
       "      <td>0.900573</td>\n",
       "      <td>0.765855</td>\n",
       "      <td>0.811031</td>\n",
       "    </tr>\n",
       "    <tr>\n",
       "      <th>3</th>\n",
       "      <td></td>\n",
       "      <td>2020-09-12 16:49:57</td>\n",
       "      <td>0.122 sec</td>\n",
       "      <td>3.0</td>\n",
       "      <td>0.842855</td>\n",
       "      <td>0.708729</td>\n",
       "      <td>0.710405</td>\n",
       "      <td>0.860819</td>\n",
       "      <td>0.718807</td>\n",
       "      <td>0.741010</td>\n",
       "    </tr>\n",
       "    <tr>\n",
       "      <th>4</th>\n",
       "      <td></td>\n",
       "      <td>2020-09-12 16:49:57</td>\n",
       "      <td>0.143 sec</td>\n",
       "      <td>4.0</td>\n",
       "      <td>0.819837</td>\n",
       "      <td>0.675922</td>\n",
       "      <td>0.672133</td>\n",
       "      <td>0.840922</td>\n",
       "      <td>0.688224</td>\n",
       "      <td>0.707149</td>\n",
       "    </tr>\n",
       "    <tr>\n",
       "      <th>5</th>\n",
       "      <td></td>\n",
       "      <td>2020-09-12 16:49:57</td>\n",
       "      <td>0.164 sec</td>\n",
       "      <td>5.0</td>\n",
       "      <td>0.807723</td>\n",
       "      <td>0.655096</td>\n",
       "      <td>0.652416</td>\n",
       "      <td>0.831321</td>\n",
       "      <td>0.669268</td>\n",
       "      <td>0.691095</td>\n",
       "    </tr>\n",
       "    <tr>\n",
       "      <th>6</th>\n",
       "      <td></td>\n",
       "      <td>2020-09-12 16:49:57</td>\n",
       "      <td>0.186 sec</td>\n",
       "      <td>6.0</td>\n",
       "      <td>0.801289</td>\n",
       "      <td>0.642093</td>\n",
       "      <td>0.642065</td>\n",
       "      <td>0.826728</td>\n",
       "      <td>0.658059</td>\n",
       "      <td>0.683480</td>\n",
       "    </tr>\n",
       "    <tr>\n",
       "      <th>7</th>\n",
       "      <td></td>\n",
       "      <td>2020-09-12 16:49:57</td>\n",
       "      <td>0.208 sec</td>\n",
       "      <td>7.0</td>\n",
       "      <td>0.797661</td>\n",
       "      <td>0.634069</td>\n",
       "      <td>0.636263</td>\n",
       "      <td>0.824550</td>\n",
       "      <td>0.651517</td>\n",
       "      <td>0.679883</td>\n",
       "    </tr>\n",
       "    <tr>\n",
       "      <th>8</th>\n",
       "      <td></td>\n",
       "      <td>2020-09-12 16:49:57</td>\n",
       "      <td>0.232 sec</td>\n",
       "      <td>8.0</td>\n",
       "      <td>0.795756</td>\n",
       "      <td>0.629259</td>\n",
       "      <td>0.633227</td>\n",
       "      <td>0.823171</td>\n",
       "      <td>0.647422</td>\n",
       "      <td>0.677611</td>\n",
       "    </tr>\n",
       "    <tr>\n",
       "      <th>9</th>\n",
       "      <td></td>\n",
       "      <td>2020-09-12 16:49:57</td>\n",
       "      <td>0.254 sec</td>\n",
       "      <td>9.0</td>\n",
       "      <td>0.794144</td>\n",
       "      <td>0.626168</td>\n",
       "      <td>0.630664</td>\n",
       "      <td>0.823091</td>\n",
       "      <td>0.645303</td>\n",
       "      <td>0.677478</td>\n",
       "    </tr>\n",
       "    <tr>\n",
       "      <th>10</th>\n",
       "      <td></td>\n",
       "      <td>2020-09-12 16:49:57</td>\n",
       "      <td>0.278 sec</td>\n",
       "      <td>10.0</td>\n",
       "      <td>0.793509</td>\n",
       "      <td>0.624435</td>\n",
       "      <td>0.629656</td>\n",
       "      <td>0.822796</td>\n",
       "      <td>0.643675</td>\n",
       "      <td>0.676994</td>\n",
       "    </tr>\n",
       "    <tr>\n",
       "      <th>11</th>\n",
       "      <td></td>\n",
       "      <td>2020-09-12 16:49:57</td>\n",
       "      <td>0.302 sec</td>\n",
       "      <td>11.0</td>\n",
       "      <td>0.792754</td>\n",
       "      <td>0.622993</td>\n",
       "      <td>0.628458</td>\n",
       "      <td>0.822875</td>\n",
       "      <td>0.642863</td>\n",
       "      <td>0.677124</td>\n",
       "    </tr>\n",
       "    <tr>\n",
       "      <th>12</th>\n",
       "      <td></td>\n",
       "      <td>2020-09-12 16:49:57</td>\n",
       "      <td>0.324 sec</td>\n",
       "      <td>12.0</td>\n",
       "      <td>0.791928</td>\n",
       "      <td>0.621874</td>\n",
       "      <td>0.627150</td>\n",
       "      <td>0.823845</td>\n",
       "      <td>0.642864</td>\n",
       "      <td>0.678721</td>\n",
       "    </tr>\n",
       "    <tr>\n",
       "      <th>13</th>\n",
       "      <td></td>\n",
       "      <td>2020-09-12 16:49:57</td>\n",
       "      <td>0.349 sec</td>\n",
       "      <td>13.0</td>\n",
       "      <td>0.791663</td>\n",
       "      <td>0.621283</td>\n",
       "      <td>0.626731</td>\n",
       "      <td>0.824050</td>\n",
       "      <td>0.642612</td>\n",
       "      <td>0.679059</td>\n",
       "    </tr>\n",
       "    <tr>\n",
       "      <th>14</th>\n",
       "      <td></td>\n",
       "      <td>2020-09-12 16:49:57</td>\n",
       "      <td>0.377 sec</td>\n",
       "      <td>14.0</td>\n",
       "      <td>0.790120</td>\n",
       "      <td>0.619758</td>\n",
       "      <td>0.624290</td>\n",
       "      <td>0.824507</td>\n",
       "      <td>0.642492</td>\n",
       "      <td>0.679811</td>\n",
       "    </tr>\n",
       "    <tr>\n",
       "      <th>15</th>\n",
       "      <td></td>\n",
       "      <td>2020-09-12 16:49:57</td>\n",
       "      <td>0.401 sec</td>\n",
       "      <td>15.0</td>\n",
       "      <td>0.789390</td>\n",
       "      <td>0.618550</td>\n",
       "      <td>0.623137</td>\n",
       "      <td>0.824824</td>\n",
       "      <td>0.642701</td>\n",
       "      <td>0.680334</td>\n",
       "    </tr>\n",
       "    <tr>\n",
       "      <th>16</th>\n",
       "      <td></td>\n",
       "      <td>2020-09-12 16:49:57</td>\n",
       "      <td>0.426 sec</td>\n",
       "      <td>16.0</td>\n",
       "      <td>0.788514</td>\n",
       "      <td>0.617647</td>\n",
       "      <td>0.621754</td>\n",
       "      <td>0.825601</td>\n",
       "      <td>0.643217</td>\n",
       "      <td>0.681617</td>\n",
       "    </tr>\n",
       "    <tr>\n",
       "      <th>17</th>\n",
       "      <td></td>\n",
       "      <td>2020-09-12 16:49:57</td>\n",
       "      <td>0.454 sec</td>\n",
       "      <td>17.0</td>\n",
       "      <td>0.786249</td>\n",
       "      <td>0.615699</td>\n",
       "      <td>0.618188</td>\n",
       "      <td>0.826248</td>\n",
       "      <td>0.643354</td>\n",
       "      <td>0.682686</td>\n",
       "    </tr>\n",
       "    <tr>\n",
       "      <th>18</th>\n",
       "      <td></td>\n",
       "      <td>2020-09-12 16:49:57</td>\n",
       "      <td>0.481 sec</td>\n",
       "      <td>18.0</td>\n",
       "      <td>0.784069</td>\n",
       "      <td>0.613713</td>\n",
       "      <td>0.614765</td>\n",
       "      <td>0.826798</td>\n",
       "      <td>0.643366</td>\n",
       "      <td>0.683595</td>\n",
       "    </tr>\n",
       "    <tr>\n",
       "      <th>19</th>\n",
       "      <td></td>\n",
       "      <td>2020-09-12 16:49:57</td>\n",
       "      <td>0.508 sec</td>\n",
       "      <td>19.0</td>\n",
       "      <td>0.783505</td>\n",
       "      <td>0.613046</td>\n",
       "      <td>0.613880</td>\n",
       "      <td>0.827281</td>\n",
       "      <td>0.643619</td>\n",
       "      <td>0.684394</td>\n",
       "    </tr>\n",
       "  </tbody>\n",
       "</table>\n",
       "</div>"
      ],
      "text/plain": [
       "                timestamp    duration  number_of_trees  training_rmse  \\\n",
       "0     2020-09-12 16:49:57   0.043 sec              0.0       1.118984   \n",
       "1     2020-09-12 16:49:57   0.081 sec              1.0       0.970116   \n",
       "2     2020-09-12 16:49:57   0.102 sec              2.0       0.887276   \n",
       "3     2020-09-12 16:49:57   0.122 sec              3.0       0.842855   \n",
       "4     2020-09-12 16:49:57   0.143 sec              4.0       0.819837   \n",
       "5     2020-09-12 16:49:57   0.164 sec              5.0       0.807723   \n",
       "6     2020-09-12 16:49:57   0.186 sec              6.0       0.801289   \n",
       "7     2020-09-12 16:49:57   0.208 sec              7.0       0.797661   \n",
       "8     2020-09-12 16:49:57   0.232 sec              8.0       0.795756   \n",
       "9     2020-09-12 16:49:57   0.254 sec              9.0       0.794144   \n",
       "10    2020-09-12 16:49:57   0.278 sec             10.0       0.793509   \n",
       "11    2020-09-12 16:49:57   0.302 sec             11.0       0.792754   \n",
       "12    2020-09-12 16:49:57   0.324 sec             12.0       0.791928   \n",
       "13    2020-09-12 16:49:57   0.349 sec             13.0       0.791663   \n",
       "14    2020-09-12 16:49:57   0.377 sec             14.0       0.790120   \n",
       "15    2020-09-12 16:49:57   0.401 sec             15.0       0.789390   \n",
       "16    2020-09-12 16:49:57   0.426 sec             16.0       0.788514   \n",
       "17    2020-09-12 16:49:57   0.454 sec             17.0       0.786249   \n",
       "18    2020-09-12 16:49:57   0.481 sec             18.0       0.784069   \n",
       "19    2020-09-12 16:49:57   0.508 sec             19.0       0.783505   \n",
       "\n",
       "    training_mae  training_deviance  validation_rmse  validation_mae  \\\n",
       "0       0.951638           1.252124         1.114179        0.945812   \n",
       "1       0.835767           0.941125         0.975951        0.837597   \n",
       "2       0.759366           0.787258         0.900573        0.765855   \n",
       "3       0.708729           0.710405         0.860819        0.718807   \n",
       "4       0.675922           0.672133         0.840922        0.688224   \n",
       "5       0.655096           0.652416         0.831321        0.669268   \n",
       "6       0.642093           0.642065         0.826728        0.658059   \n",
       "7       0.634069           0.636263         0.824550        0.651517   \n",
       "8       0.629259           0.633227         0.823171        0.647422   \n",
       "9       0.626168           0.630664         0.823091        0.645303   \n",
       "10      0.624435           0.629656         0.822796        0.643675   \n",
       "11      0.622993           0.628458         0.822875        0.642863   \n",
       "12      0.621874           0.627150         0.823845        0.642864   \n",
       "13      0.621283           0.626731         0.824050        0.642612   \n",
       "14      0.619758           0.624290         0.824507        0.642492   \n",
       "15      0.618550           0.623137         0.824824        0.642701   \n",
       "16      0.617647           0.621754         0.825601        0.643217   \n",
       "17      0.615699           0.618188         0.826248        0.643354   \n",
       "18      0.613713           0.614765         0.826798        0.643366   \n",
       "19      0.613046           0.613880         0.827281        0.643619   \n",
       "\n",
       "    validation_deviance  \n",
       "0              1.241396  \n",
       "1              0.952481  \n",
       "2              0.811031  \n",
       "3              0.741010  \n",
       "4              0.707149  \n",
       "5              0.691095  \n",
       "6              0.683480  \n",
       "7              0.679883  \n",
       "8              0.677611  \n",
       "9              0.677478  \n",
       "10             0.676994  \n",
       "11             0.677124  \n",
       "12             0.678721  \n",
       "13             0.679059  \n",
       "14             0.679811  \n",
       "15             0.680334  \n",
       "16             0.681617  \n",
       "17             0.682686  \n",
       "18             0.683595  \n",
       "19             0.684394  "
      ]
     },
     "metadata": {},
     "output_type": "display_data"
    },
    {
     "name": "stdout",
     "output_type": "stream",
     "text": [
      "\n",
      "See the whole table with table.as_data_frame()\n",
      "\n",
      "Variable Importances: \n"
     ]
    },
    {
     "data": {
      "text/html": [
       "<div>\n",
       "<style scoped>\n",
       "    .dataframe tbody tr th:only-of-type {\n",
       "        vertical-align: middle;\n",
       "    }\n",
       "\n",
       "    .dataframe tbody tr th {\n",
       "        vertical-align: top;\n",
       "    }\n",
       "\n",
       "    .dataframe thead th {\n",
       "        text-align: right;\n",
       "    }\n",
       "</style>\n",
       "<table border=\"1\" class=\"dataframe\">\n",
       "  <thead>\n",
       "    <tr style=\"text-align: right;\">\n",
       "      <th></th>\n",
       "      <th>variable</th>\n",
       "      <th>relative_importance</th>\n",
       "      <th>scaled_importance</th>\n",
       "      <th>percentage</th>\n",
       "    </tr>\n",
       "  </thead>\n",
       "  <tbody>\n",
       "    <tr>\n",
       "      <th>0</th>\n",
       "      <td>dept.HR</td>\n",
       "      <td>4498.521484</td>\n",
       "      <td>1.000000</td>\n",
       "      <td>0.688966</td>\n",
       "    </tr>\n",
       "    <tr>\n",
       "      <th>1</th>\n",
       "      <td>dept.engineering</td>\n",
       "      <td>892.601624</td>\n",
       "      <td>0.198421</td>\n",
       "      <td>0.136705</td>\n",
       "    </tr>\n",
       "    <tr>\n",
       "      <th>2</th>\n",
       "      <td>counts</td>\n",
       "      <td>420.556519</td>\n",
       "      <td>0.093488</td>\n",
       "      <td>0.064410</td>\n",
       "    </tr>\n",
       "    <tr>\n",
       "      <th>3</th>\n",
       "      <td>yrs_experience</td>\n",
       "      <td>293.241669</td>\n",
       "      <td>0.065186</td>\n",
       "      <td>0.044911</td>\n",
       "    </tr>\n",
       "    <tr>\n",
       "      <th>4</th>\n",
       "      <td>sex.F</td>\n",
       "      <td>69.249313</td>\n",
       "      <td>0.015394</td>\n",
       "      <td>0.010606</td>\n",
       "    </tr>\n",
       "    <tr>\n",
       "      <th>5</th>\n",
       "      <td>signing_bonus.0</td>\n",
       "      <td>64.829773</td>\n",
       "      <td>0.014411</td>\n",
       "      <td>0.009929</td>\n",
       "    </tr>\n",
       "    <tr>\n",
       "      <th>6</th>\n",
       "      <td>dept.marketing</td>\n",
       "      <td>44.873898</td>\n",
       "      <td>0.009975</td>\n",
       "      <td>0.006873</td>\n",
       "    </tr>\n",
       "    <tr>\n",
       "      <th>7</th>\n",
       "      <td>degree_level.PhD</td>\n",
       "      <td>43.609772</td>\n",
       "      <td>0.009694</td>\n",
       "      <td>0.006679</td>\n",
       "    </tr>\n",
       "    <tr>\n",
       "      <th>8</th>\n",
       "      <td>degree_level.Master</td>\n",
       "      <td>40.399490</td>\n",
       "      <td>0.008981</td>\n",
       "      <td>0.006187</td>\n",
       "    </tr>\n",
       "    <tr>\n",
       "      <th>9</th>\n",
       "      <td>dept.sales</td>\n",
       "      <td>34.645016</td>\n",
       "      <td>0.007701</td>\n",
       "      <td>0.005306</td>\n",
       "    </tr>\n",
       "    <tr>\n",
       "      <th>10</th>\n",
       "      <td>degree_level.Bachelor</td>\n",
       "      <td>28.923594</td>\n",
       "      <td>0.006430</td>\n",
       "      <td>0.004430</td>\n",
       "    </tr>\n",
       "    <tr>\n",
       "      <th>11</th>\n",
       "      <td>degree_level.High_School</td>\n",
       "      <td>26.593288</td>\n",
       "      <td>0.005912</td>\n",
       "      <td>0.004073</td>\n",
       "    </tr>\n",
       "    <tr>\n",
       "      <th>12</th>\n",
       "      <td>level.E</td>\n",
       "      <td>25.999693</td>\n",
       "      <td>0.005780</td>\n",
       "      <td>0.003982</td>\n",
       "    </tr>\n",
       "    <tr>\n",
       "      <th>13</th>\n",
       "      <td>level.VP</td>\n",
       "      <td>16.688622</td>\n",
       "      <td>0.003710</td>\n",
       "      <td>0.002556</td>\n",
       "    </tr>\n",
       "    <tr>\n",
       "      <th>14</th>\n",
       "      <td>level.IC</td>\n",
       "      <td>12.401713</td>\n",
       "      <td>0.002757</td>\n",
       "      <td>0.001899</td>\n",
       "    </tr>\n",
       "    <tr>\n",
       "      <th>15</th>\n",
       "      <td>level.MM</td>\n",
       "      <td>10.581143</td>\n",
       "      <td>0.002352</td>\n",
       "      <td>0.001621</td>\n",
       "    </tr>\n",
       "    <tr>\n",
       "      <th>16</th>\n",
       "      <td>level.D</td>\n",
       "      <td>5.625594</td>\n",
       "      <td>0.001251</td>\n",
       "      <td>0.000862</td>\n",
       "    </tr>\n",
       "    <tr>\n",
       "      <th>17</th>\n",
       "      <td>level.CEO</td>\n",
       "      <td>0.036072</td>\n",
       "      <td>0.000008</td>\n",
       "      <td>0.000006</td>\n",
       "    </tr>\n",
       "  </tbody>\n",
       "</table>\n",
       "</div>"
      ],
      "text/plain": [
       "                    variable  relative_importance  scaled_importance  \\\n",
       "0                    dept.HR          4498.521484           1.000000   \n",
       "1           dept.engineering           892.601624           0.198421   \n",
       "2                     counts           420.556519           0.093488   \n",
       "3             yrs_experience           293.241669           0.065186   \n",
       "4                      sex.F            69.249313           0.015394   \n",
       "5            signing_bonus.0            64.829773           0.014411   \n",
       "6             dept.marketing            44.873898           0.009975   \n",
       "7           degree_level.PhD            43.609772           0.009694   \n",
       "8        degree_level.Master            40.399490           0.008981   \n",
       "9                 dept.sales            34.645016           0.007701   \n",
       "10     degree_level.Bachelor            28.923594           0.006430   \n",
       "11  degree_level.High_School            26.593288           0.005912   \n",
       "12                   level.E            25.999693           0.005780   \n",
       "13                  level.VP            16.688622           0.003710   \n",
       "14                  level.IC            12.401713           0.002757   \n",
       "15                  level.MM            10.581143           0.002352   \n",
       "16                   level.D             5.625594           0.001251   \n",
       "17                 level.CEO             0.036072           0.000008   \n",
       "\n",
       "    percentage  \n",
       "0     0.688966  \n",
       "1     0.136705  \n",
       "2     0.064410  \n",
       "3     0.044911  \n",
       "4     0.010606  \n",
       "5     0.009929  \n",
       "6     0.006873  \n",
       "7     0.006679  \n",
       "8     0.006187  \n",
       "9     0.005306  \n",
       "10    0.004430  \n",
       "11    0.004073  \n",
       "12    0.003982  \n",
       "13    0.002556  \n",
       "14    0.001899  \n",
       "15    0.001621  \n",
       "16    0.000862  \n",
       "17    0.000006  "
      ]
     },
     "metadata": {},
     "output_type": "display_data"
    },
    {
     "data": {
      "text/plain": []
     },
     "execution_count": 121,
     "metadata": {},
     "output_type": "execute_result"
    }
   ],
   "source": [
    "model"
   ]
  },
  {
   "cell_type": "markdown",
   "metadata": {},
   "source": [
    "# Describe the main factors impacting employee salaries. Do you think the company has been treating its employees fairly? Do you see any bias? What are the next steps you would suggest to the Head of HR?"
   ]
  },
  {
   "cell_type": "markdown",
   "metadata": {},
   "source": [
    "根据xgboost的结果：\n",
    "dept,counts和yrs_experience，level比较重要"
   ]
  },
  {
   "cell_type": "markdown",
   "metadata": {},
   "source": [
    "这个公司工资分布是有偏差的：\n",
    "- 部门的不同，层级以及管理人数都与工资相关。\n",
    "- 建议管理层调低管理层高工资"
   ]
  },
  {
   "cell_type": "code",
   "execution_count": null,
   "metadata": {},
   "outputs": [],
   "source": []
  }
 ],
 "metadata": {
  "kernelspec": {
   "display_name": "Python 3",
   "language": "python",
   "name": "python3"
  },
  "language_info": {
   "codemirror_mode": {
    "name": "ipython",
    "version": 3
   },
   "file_extension": ".py",
   "mimetype": "text/x-python",
   "name": "python",
   "nbconvert_exporter": "python",
   "pygments_lexer": "ipython3",
   "version": "3.7.6"
  },
  "toc": {
   "base_numbering": 1,
   "nav_menu": {},
   "number_sections": true,
   "sideBar": true,
   "skip_h1_title": false,
   "title_cell": "Table of Contents",
   "title_sidebar": "Contents",
   "toc_cell": false,
   "toc_position": {},
   "toc_section_display": true,
   "toc_window_display": false
  },
  "varInspector": {
   "cols": {
    "lenName": 16,
    "lenType": 16,
    "lenVar": 40
   },
   "kernels_config": {
    "python": {
     "delete_cmd_postfix": "",
     "delete_cmd_prefix": "del ",
     "library": "var_list.py",
     "varRefreshCmd": "print(var_dic_list())"
    },
    "r": {
     "delete_cmd_postfix": ") ",
     "delete_cmd_prefix": "rm(",
     "library": "var_list.r",
     "varRefreshCmd": "cat(var_dic_list()) "
    }
   },
   "types_to_exclude": [
    "module",
    "function",
    "builtin_function_or_method",
    "instance",
    "_Feature"
   ],
   "window_display": false
  }
 },
 "nbformat": 4,
 "nbformat_minor": 4
}
