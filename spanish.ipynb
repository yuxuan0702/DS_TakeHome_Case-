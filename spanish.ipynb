{
  "nbformat": 4,
  "nbformat_minor": 0,
  "metadata": {
    "colab": {
      "name": "spanish",
      "provenance": [],
      "mount_file_id": "1vp8RDBkajYab2YKX4E-M5sEO2sbrUvSM",
      "authorship_tag": "ABX9TyP107J31MAdJwPaQMWxXXGs",
      "include_colab_link": true
    },
    "kernelspec": {
      "name": "python3",
      "display_name": "Python 3"
    }
  },
  "cells": [
    {
      "cell_type": "markdown",
      "metadata": {
        "id": "view-in-github",
        "colab_type": "text"
      },
      "source": [
        "<a href=\"https://colab.research.google.com/github/yuxuan0702/DS_TakeHome_Case-/blob/master/spanish.ipynb\" target=\"_parent\"><img src=\"https://colab.research.google.com/assets/colab-badge.svg\" alt=\"Open In Colab\"/></a>"
      ]
    },
    {
      "cell_type": "code",
      "metadata": {
        "id": "HSmmsN7_YIrH",
        "colab_type": "code",
        "colab": {
          "base_uri": "https://localhost:8080/",
          "height": 71
        },
        "outputId": "f0bb79c1-8edc-45dd-9f5b-865214c60177"
      },
      "source": [
        "# import packages \n",
        "import pandas as pd\n",
        "import numpy as np\n",
        "import matplotlib.pyplot as plt\n",
        "import seaborn as sns\n",
        "\n",
        "plt.style.use('bmh')\n",
        "%matplotlib inline"
      ],
      "execution_count": null,
      "outputs": [
        {
          "output_type": "stream",
          "text": [
            "/usr/local/lib/python3.6/dist-packages/statsmodels/tools/_testing.py:19: FutureWarning: pandas.util.testing is deprecated. Use the functions in the public API at pandas.testing instead.\n",
            "  import pandas.util.testing as tm\n"
          ],
          "name": "stderr"
        }
      ]
    },
    {
      "cell_type": "code",
      "metadata": {
        "id": "YbV6aJk_YR-V",
        "colab_type": "code",
        "colab": {
          "base_uri": "https://localhost:8080/",
          "height": 235
        },
        "outputId": "025c79f5-9c5c-4af1-b0d4-898448fff300"
      },
      "source": [
        "# import test dataset \n",
        "test = pd.read_csv('/content/drive/My Drive/Collection of DS take home challenges/data collection-Product dataset数据挑战数据集/AB TESTING Spanish Translation with solution/Translation_Test.zip (Unzipped Files)/test_table.csv',parse_dates=['date'],index_col=[0])\n",
        "test.head()"
      ],
      "execution_count": null,
      "outputs": [
        {
          "output_type": "execute_result",
          "data": {
            "text/html": [
              "<div>\n",
              "<style scoped>\n",
              "    .dataframe tbody tr th:only-of-type {\n",
              "        vertical-align: middle;\n",
              "    }\n",
              "\n",
              "    .dataframe tbody tr th {\n",
              "        vertical-align: top;\n",
              "    }\n",
              "\n",
              "    .dataframe thead th {\n",
              "        text-align: right;\n",
              "    }\n",
              "</style>\n",
              "<table border=\"1\" class=\"dataframe\">\n",
              "  <thead>\n",
              "    <tr style=\"text-align: right;\">\n",
              "      <th></th>\n",
              "      <th>date</th>\n",
              "      <th>source</th>\n",
              "      <th>device</th>\n",
              "      <th>browser_language</th>\n",
              "      <th>ads_channel</th>\n",
              "      <th>browser</th>\n",
              "      <th>conversion</th>\n",
              "      <th>test</th>\n",
              "    </tr>\n",
              "    <tr>\n",
              "      <th>user_id</th>\n",
              "      <th></th>\n",
              "      <th></th>\n",
              "      <th></th>\n",
              "      <th></th>\n",
              "      <th></th>\n",
              "      <th></th>\n",
              "      <th></th>\n",
              "      <th></th>\n",
              "    </tr>\n",
              "  </thead>\n",
              "  <tbody>\n",
              "    <tr>\n",
              "      <th>315281</th>\n",
              "      <td>2015-12-03</td>\n",
              "      <td>Direct</td>\n",
              "      <td>Web</td>\n",
              "      <td>ES</td>\n",
              "      <td>NaN</td>\n",
              "      <td>IE</td>\n",
              "      <td>1</td>\n",
              "      <td>0</td>\n",
              "    </tr>\n",
              "    <tr>\n",
              "      <th>497851</th>\n",
              "      <td>2015-12-04</td>\n",
              "      <td>Ads</td>\n",
              "      <td>Web</td>\n",
              "      <td>ES</td>\n",
              "      <td>Google</td>\n",
              "      <td>IE</td>\n",
              "      <td>0</td>\n",
              "      <td>1</td>\n",
              "    </tr>\n",
              "    <tr>\n",
              "      <th>848402</th>\n",
              "      <td>2015-12-04</td>\n",
              "      <td>Ads</td>\n",
              "      <td>Web</td>\n",
              "      <td>ES</td>\n",
              "      <td>Facebook</td>\n",
              "      <td>Chrome</td>\n",
              "      <td>0</td>\n",
              "      <td>0</td>\n",
              "    </tr>\n",
              "    <tr>\n",
              "      <th>290051</th>\n",
              "      <td>2015-12-03</td>\n",
              "      <td>Ads</td>\n",
              "      <td>Mobile</td>\n",
              "      <td>Other</td>\n",
              "      <td>Facebook</td>\n",
              "      <td>Android_App</td>\n",
              "      <td>0</td>\n",
              "      <td>1</td>\n",
              "    </tr>\n",
              "    <tr>\n",
              "      <th>548435</th>\n",
              "      <td>2015-11-30</td>\n",
              "      <td>Ads</td>\n",
              "      <td>Web</td>\n",
              "      <td>ES</td>\n",
              "      <td>Google</td>\n",
              "      <td>FireFox</td>\n",
              "      <td>0</td>\n",
              "      <td>1</td>\n",
              "    </tr>\n",
              "  </tbody>\n",
              "</table>\n",
              "</div>"
            ],
            "text/plain": [
              "              date  source  device  ...      browser conversion test\n",
              "user_id                             ...                             \n",
              "315281  2015-12-03  Direct     Web  ...           IE          1    0\n",
              "497851  2015-12-04     Ads     Web  ...           IE          0    1\n",
              "848402  2015-12-04     Ads     Web  ...       Chrome          0    0\n",
              "290051  2015-12-03     Ads  Mobile  ...  Android_App          0    1\n",
              "548435  2015-11-30     Ads     Web  ...      FireFox          0    1\n",
              "\n",
              "[5 rows x 8 columns]"
            ]
          },
          "metadata": {
            "tags": []
          },
          "execution_count": 2
        }
      ]
    },
    {
      "cell_type": "code",
      "metadata": {
        "id": "-Qusde5VYuw8",
        "colab_type": "code",
        "colab": {
          "base_uri": "https://localhost:8080/",
          "height": 272
        },
        "outputId": "1317f87e-ef51-4c7c-d2d1-a159609652ac"
      },
      "source": [
        "test.info()"
      ],
      "execution_count": null,
      "outputs": [
        {
          "output_type": "stream",
          "text": [
            "<class 'pandas.core.frame.DataFrame'>\n",
            "Int64Index: 453321 entries, 315281 to 241662\n",
            "Data columns (total 8 columns):\n",
            " #   Column            Non-Null Count   Dtype         \n",
            "---  ------            --------------   -----         \n",
            " 0   date              453321 non-null  datetime64[ns]\n",
            " 1   source            453321 non-null  object        \n",
            " 2   device            453321 non-null  object        \n",
            " 3   browser_language  453321 non-null  object        \n",
            " 4   ads_channel       181877 non-null  object        \n",
            " 5   browser           453321 non-null  object        \n",
            " 6   conversion        453321 non-null  int64         \n",
            " 7   test              453321 non-null  int64         \n",
            "dtypes: datetime64[ns](1), int64(2), object(5)\n",
            "memory usage: 31.1+ MB\n"
          ],
          "name": "stdout"
        }
      ]
    },
    {
      "cell_type": "code",
      "metadata": {
        "id": "svy8ANhMa58s",
        "colab_type": "code",
        "colab": {
          "base_uri": "https://localhost:8080/",
          "height": 235
        },
        "outputId": "ce0f6310-7bb2-4baf-923a-a0502b2c88a8"
      },
      "source": [
        "# import user dataset \n",
        "user = pd.read_csv('/content/drive/My Drive/Collection of DS take home challenges/data collection-Product dataset数据挑战数据集/AB TESTING Spanish Translation with solution/Translation_Test.zip (Unzipped Files)/user_table.csv',index_col=[0])\n",
        "user.head()"
      ],
      "execution_count": null,
      "outputs": [
        {
          "output_type": "execute_result",
          "data": {
            "text/html": [
              "<div>\n",
              "<style scoped>\n",
              "    .dataframe tbody tr th:only-of-type {\n",
              "        vertical-align: middle;\n",
              "    }\n",
              "\n",
              "    .dataframe tbody tr th {\n",
              "        vertical-align: top;\n",
              "    }\n",
              "\n",
              "    .dataframe thead th {\n",
              "        text-align: right;\n",
              "    }\n",
              "</style>\n",
              "<table border=\"1\" class=\"dataframe\">\n",
              "  <thead>\n",
              "    <tr style=\"text-align: right;\">\n",
              "      <th></th>\n",
              "      <th>sex</th>\n",
              "      <th>age</th>\n",
              "      <th>country</th>\n",
              "    </tr>\n",
              "    <tr>\n",
              "      <th>user_id</th>\n",
              "      <th></th>\n",
              "      <th></th>\n",
              "      <th></th>\n",
              "    </tr>\n",
              "  </thead>\n",
              "  <tbody>\n",
              "    <tr>\n",
              "      <th>765821</th>\n",
              "      <td>M</td>\n",
              "      <td>20</td>\n",
              "      <td>Mexico</td>\n",
              "    </tr>\n",
              "    <tr>\n",
              "      <th>343561</th>\n",
              "      <td>F</td>\n",
              "      <td>27</td>\n",
              "      <td>Nicaragua</td>\n",
              "    </tr>\n",
              "    <tr>\n",
              "      <th>118744</th>\n",
              "      <td>M</td>\n",
              "      <td>23</td>\n",
              "      <td>Colombia</td>\n",
              "    </tr>\n",
              "    <tr>\n",
              "      <th>987753</th>\n",
              "      <td>F</td>\n",
              "      <td>27</td>\n",
              "      <td>Venezuela</td>\n",
              "    </tr>\n",
              "    <tr>\n",
              "      <th>554597</th>\n",
              "      <td>F</td>\n",
              "      <td>20</td>\n",
              "      <td>Spain</td>\n",
              "    </tr>\n",
              "  </tbody>\n",
              "</table>\n",
              "</div>"
            ],
            "text/plain": [
              "        sex  age    country\n",
              "user_id                    \n",
              "765821    M   20     Mexico\n",
              "343561    F   27  Nicaragua\n",
              "118744    M   23   Colombia\n",
              "987753    F   27  Venezuela\n",
              "554597    F   20      Spain"
            ]
          },
          "metadata": {
            "tags": []
          },
          "execution_count": 4
        }
      ]
    },
    {
      "cell_type": "code",
      "metadata": {
        "id": "0YaHDJZ5bY85",
        "colab_type": "code",
        "colab": {
          "base_uri": "https://localhost:8080/",
          "height": 450
        },
        "outputId": "7d9df788-5882-4280-e99d-75bbc25249c5"
      },
      "source": [
        "# merge test and user based on user_id\n",
        "df = pd.merge(test,user,how = 'left',left_index = True, right_index = True)\n",
        "df"
      ],
      "execution_count": null,
      "outputs": [
        {
          "output_type": "execute_result",
          "data": {
            "text/html": [
              "<div>\n",
              "<style scoped>\n",
              "    .dataframe tbody tr th:only-of-type {\n",
              "        vertical-align: middle;\n",
              "    }\n",
              "\n",
              "    .dataframe tbody tr th {\n",
              "        vertical-align: top;\n",
              "    }\n",
              "\n",
              "    .dataframe thead th {\n",
              "        text-align: right;\n",
              "    }\n",
              "</style>\n",
              "<table border=\"1\" class=\"dataframe\">\n",
              "  <thead>\n",
              "    <tr style=\"text-align: right;\">\n",
              "      <th></th>\n",
              "      <th>date</th>\n",
              "      <th>source</th>\n",
              "      <th>device</th>\n",
              "      <th>browser_language</th>\n",
              "      <th>ads_channel</th>\n",
              "      <th>browser</th>\n",
              "      <th>conversion</th>\n",
              "      <th>test</th>\n",
              "      <th>sex</th>\n",
              "      <th>age</th>\n",
              "      <th>country</th>\n",
              "    </tr>\n",
              "    <tr>\n",
              "      <th>user_id</th>\n",
              "      <th></th>\n",
              "      <th></th>\n",
              "      <th></th>\n",
              "      <th></th>\n",
              "      <th></th>\n",
              "      <th></th>\n",
              "      <th></th>\n",
              "      <th></th>\n",
              "      <th></th>\n",
              "      <th></th>\n",
              "      <th></th>\n",
              "    </tr>\n",
              "  </thead>\n",
              "  <tbody>\n",
              "    <tr>\n",
              "      <th>315281</th>\n",
              "      <td>2015-12-03</td>\n",
              "      <td>Direct</td>\n",
              "      <td>Web</td>\n",
              "      <td>ES</td>\n",
              "      <td>NaN</td>\n",
              "      <td>IE</td>\n",
              "      <td>1</td>\n",
              "      <td>0</td>\n",
              "      <td>M</td>\n",
              "      <td>32.0</td>\n",
              "      <td>Spain</td>\n",
              "    </tr>\n",
              "    <tr>\n",
              "      <th>497851</th>\n",
              "      <td>2015-12-04</td>\n",
              "      <td>Ads</td>\n",
              "      <td>Web</td>\n",
              "      <td>ES</td>\n",
              "      <td>Google</td>\n",
              "      <td>IE</td>\n",
              "      <td>0</td>\n",
              "      <td>1</td>\n",
              "      <td>M</td>\n",
              "      <td>21.0</td>\n",
              "      <td>Mexico</td>\n",
              "    </tr>\n",
              "    <tr>\n",
              "      <th>848402</th>\n",
              "      <td>2015-12-04</td>\n",
              "      <td>Ads</td>\n",
              "      <td>Web</td>\n",
              "      <td>ES</td>\n",
              "      <td>Facebook</td>\n",
              "      <td>Chrome</td>\n",
              "      <td>0</td>\n",
              "      <td>0</td>\n",
              "      <td>M</td>\n",
              "      <td>34.0</td>\n",
              "      <td>Spain</td>\n",
              "    </tr>\n",
              "    <tr>\n",
              "      <th>290051</th>\n",
              "      <td>2015-12-03</td>\n",
              "      <td>Ads</td>\n",
              "      <td>Mobile</td>\n",
              "      <td>Other</td>\n",
              "      <td>Facebook</td>\n",
              "      <td>Android_App</td>\n",
              "      <td>0</td>\n",
              "      <td>1</td>\n",
              "      <td>F</td>\n",
              "      <td>22.0</td>\n",
              "      <td>Mexico</td>\n",
              "    </tr>\n",
              "    <tr>\n",
              "      <th>548435</th>\n",
              "      <td>2015-11-30</td>\n",
              "      <td>Ads</td>\n",
              "      <td>Web</td>\n",
              "      <td>ES</td>\n",
              "      <td>Google</td>\n",
              "      <td>FireFox</td>\n",
              "      <td>0</td>\n",
              "      <td>1</td>\n",
              "      <td>M</td>\n",
              "      <td>19.0</td>\n",
              "      <td>Mexico</td>\n",
              "    </tr>\n",
              "    <tr>\n",
              "      <th>...</th>\n",
              "      <td>...</td>\n",
              "      <td>...</td>\n",
              "      <td>...</td>\n",
              "      <td>...</td>\n",
              "      <td>...</td>\n",
              "      <td>...</td>\n",
              "      <td>...</td>\n",
              "      <td>...</td>\n",
              "      <td>...</td>\n",
              "      <td>...</td>\n",
              "      <td>...</td>\n",
              "    </tr>\n",
              "    <tr>\n",
              "      <th>425010</th>\n",
              "      <td>2015-12-04</td>\n",
              "      <td>SEO</td>\n",
              "      <td>Web</td>\n",
              "      <td>ES</td>\n",
              "      <td>NaN</td>\n",
              "      <td>FireFox</td>\n",
              "      <td>0</td>\n",
              "      <td>0</td>\n",
              "      <td>M</td>\n",
              "      <td>50.0</td>\n",
              "      <td>Mexico</td>\n",
              "    </tr>\n",
              "    <tr>\n",
              "      <th>826793</th>\n",
              "      <td>2015-12-01</td>\n",
              "      <td>SEO</td>\n",
              "      <td>Mobile</td>\n",
              "      <td>ES</td>\n",
              "      <td>NaN</td>\n",
              "      <td>Android_App</td>\n",
              "      <td>0</td>\n",
              "      <td>1</td>\n",
              "      <td>F</td>\n",
              "      <td>20.0</td>\n",
              "      <td>Colombia</td>\n",
              "    </tr>\n",
              "    <tr>\n",
              "      <th>514870</th>\n",
              "      <td>2015-12-02</td>\n",
              "      <td>Ads</td>\n",
              "      <td>Mobile</td>\n",
              "      <td>ES</td>\n",
              "      <td>Bing</td>\n",
              "      <td>Android_App</td>\n",
              "      <td>0</td>\n",
              "      <td>0</td>\n",
              "      <td>M</td>\n",
              "      <td>25.0</td>\n",
              "      <td>Spain</td>\n",
              "    </tr>\n",
              "    <tr>\n",
              "      <th>785224</th>\n",
              "      <td>2015-12-04</td>\n",
              "      <td>SEO</td>\n",
              "      <td>Mobile</td>\n",
              "      <td>ES</td>\n",
              "      <td>NaN</td>\n",
              "      <td>Android_App</td>\n",
              "      <td>0</td>\n",
              "      <td>1</td>\n",
              "      <td>M</td>\n",
              "      <td>21.0</td>\n",
              "      <td>Colombia</td>\n",
              "    </tr>\n",
              "    <tr>\n",
              "      <th>241662</th>\n",
              "      <td>2015-12-04</td>\n",
              "      <td>Ads</td>\n",
              "      <td>Web</td>\n",
              "      <td>ES</td>\n",
              "      <td>Facebook</td>\n",
              "      <td>Chrome</td>\n",
              "      <td>0</td>\n",
              "      <td>1</td>\n",
              "      <td>M</td>\n",
              "      <td>27.0</td>\n",
              "      <td>Mexico</td>\n",
              "    </tr>\n",
              "  </tbody>\n",
              "</table>\n",
              "<p>453321 rows × 11 columns</p>\n",
              "</div>"
            ],
            "text/plain": [
              "              date  source  device browser_language  ... test sex   age   country\n",
              "user_id                                              ...                         \n",
              "315281  2015-12-03  Direct     Web               ES  ...    0   M  32.0     Spain\n",
              "497851  2015-12-04     Ads     Web               ES  ...    1   M  21.0    Mexico\n",
              "848402  2015-12-04     Ads     Web               ES  ...    0   M  34.0     Spain\n",
              "290051  2015-12-03     Ads  Mobile            Other  ...    1   F  22.0    Mexico\n",
              "548435  2015-11-30     Ads     Web               ES  ...    1   M  19.0    Mexico\n",
              "...            ...     ...     ...              ...  ...  ...  ..   ...       ...\n",
              "425010  2015-12-04     SEO     Web               ES  ...    0   M  50.0    Mexico\n",
              "826793  2015-12-01     SEO  Mobile               ES  ...    1   F  20.0  Colombia\n",
              "514870  2015-12-02     Ads  Mobile               ES  ...    0   M  25.0     Spain\n",
              "785224  2015-12-04     SEO  Mobile               ES  ...    1   M  21.0  Colombia\n",
              "241662  2015-12-04     Ads     Web               ES  ...    1   M  27.0    Mexico\n",
              "\n",
              "[453321 rows x 11 columns]"
            ]
          },
          "metadata": {
            "tags": []
          },
          "execution_count": 5
        }
      ]
    },
    {
      "cell_type": "code",
      "metadata": {
        "id": "0Q8Bqx9Zc0BW",
        "colab_type": "code",
        "colab": {
          "base_uri": "https://localhost:8080/",
          "height": 323
        },
        "outputId": "e8980c30-3dec-4c7e-c85d-524701b5cbec"
      },
      "source": [
        "df.info()"
      ],
      "execution_count": null,
      "outputs": [
        {
          "output_type": "stream",
          "text": [
            "<class 'pandas.core.frame.DataFrame'>\n",
            "Int64Index: 453321 entries, 315281 to 241662\n",
            "Data columns (total 11 columns):\n",
            " #   Column            Non-Null Count   Dtype         \n",
            "---  ------            --------------   -----         \n",
            " 0   date              453321 non-null  datetime64[ns]\n",
            " 1   source            453321 non-null  object        \n",
            " 2   device            453321 non-null  object        \n",
            " 3   browser_language  453321 non-null  object        \n",
            " 4   ads_channel       181877 non-null  object        \n",
            " 5   browser           453321 non-null  object        \n",
            " 6   conversion        453321 non-null  int64         \n",
            " 7   test              453321 non-null  int64         \n",
            " 8   sex               452867 non-null  object        \n",
            " 9   age               452867 non-null  float64       \n",
            " 10  country           452867 non-null  object        \n",
            "dtypes: datetime64[ns](1), float64(1), int64(2), object(7)\n",
            "memory usage: 61.5+ MB\n"
          ],
          "name": "stdout"
        }
      ]
    },
    {
      "cell_type": "markdown",
      "metadata": {
        "id": "F3gBmJp-pUAl",
        "colab_type": "text"
      },
      "source": [
        "# EDA"
      ]
    },
    {
      "cell_type": "code",
      "metadata": {
        "id": "kNBLfupAIDWI",
        "colab_type": "code",
        "colab": {
          "base_uri": "https://localhost:8080/",
          "height": 142
        },
        "outputId": "92db787b-db4a-4814-f7db-3e9489d14d39"
      },
      "source": [
        "# The average conversion rate across test \n",
        "df.groupby('test')['conversion'].agg(['mean','std'])"
      ],
      "execution_count": null,
      "outputs": [
        {
          "output_type": "execute_result",
          "data": {
            "text/html": [
              "<div>\n",
              "<style scoped>\n",
              "    .dataframe tbody tr th:only-of-type {\n",
              "        vertical-align: middle;\n",
              "    }\n",
              "\n",
              "    .dataframe tbody tr th {\n",
              "        vertical-align: top;\n",
              "    }\n",
              "\n",
              "    .dataframe thead th {\n",
              "        text-align: right;\n",
              "    }\n",
              "</style>\n",
              "<table border=\"1\" class=\"dataframe\">\n",
              "  <thead>\n",
              "    <tr style=\"text-align: right;\">\n",
              "      <th></th>\n",
              "      <th>mean</th>\n",
              "      <th>std</th>\n",
              "    </tr>\n",
              "    <tr>\n",
              "      <th>test</th>\n",
              "      <th></th>\n",
              "      <th></th>\n",
              "    </tr>\n",
              "  </thead>\n",
              "  <tbody>\n",
              "    <tr>\n",
              "      <th>0</th>\n",
              "      <td>0.055179</td>\n",
              "      <td>0.228329</td>\n",
              "    </tr>\n",
              "    <tr>\n",
              "      <th>1</th>\n",
              "      <td>0.043425</td>\n",
              "      <td>0.203812</td>\n",
              "    </tr>\n",
              "  </tbody>\n",
              "</table>\n",
              "</div>"
            ],
            "text/plain": [
              "          mean       std\n",
              "test                    \n",
              "0     0.055179  0.228329\n",
              "1     0.043425  0.203812"
            ]
          },
          "metadata": {
            "tags": []
          },
          "execution_count": 22
        }
      ]
    },
    {
      "cell_type": "code",
      "metadata": {
        "id": "kpCNv8mqt9b4",
        "colab_type": "code",
        "colab": {
          "base_uri": "https://localhost:8080/",
          "height": 340
        },
        "outputId": "2d85b907-8c8b-49c9-a492-ad1dadd6b3fb"
      },
      "source": [
        "df[df['test']==0].groupby('country')['conversion'].mean().sort_values(ascending = False)"
      ],
      "execution_count": null,
      "outputs": [
        {
          "output_type": "execute_result",
          "data": {
            "text/plain": [
              "country\n",
              "Spain          0.079719\n",
              "El Salvador    0.053554\n",
              "Nicaragua      0.052647\n",
              "Costa Rica     0.052256\n",
              "Colombia       0.052089\n",
              "Honduras       0.050906\n",
              "Guatemala      0.050643\n",
              "Venezuela      0.050344\n",
              "Peru           0.049914\n",
              "Mexico         0.049495\n",
              "Bolivia        0.049369\n",
              "Ecuador        0.049154\n",
              "Paraguay       0.048493\n",
              "Chile          0.048107\n",
              "Panama         0.046796\n",
              "Argentina      0.015071\n",
              "Uruguay        0.012048\n",
              "Name: conversion, dtype: float64"
            ]
          },
          "metadata": {
            "tags": []
          },
          "execution_count": 52
        }
      ]
    },
    {
      "cell_type": "code",
      "metadata": {
        "id": "-ySqGcohspH6",
        "colab_type": "code",
        "colab": {
          "base_uri": "https://localhost:8080/",
          "height": 323
        },
        "outputId": "718094e5-e405-454d-a07d-d63f2080e1e5"
      },
      "source": [
        "df[df['test']==1].groupby('country')['conversion'].mean().sort_values(ascending = False)"
      ],
      "execution_count": null,
      "outputs": [
        {
          "output_type": "execute_result",
          "data": {
            "text/plain": [
              "country\n",
              "Costa Rica     0.054738\n",
              "Nicaragua      0.054177\n",
              "Chile          0.051295\n",
              "Mexico         0.051186\n",
              "Peru           0.050604\n",
              "Colombia       0.050571\n",
              "Panama         0.049370\n",
              "Paraguay       0.049229\n",
              "Ecuador        0.048988\n",
              "Venezuela      0.048978\n",
              "Guatemala      0.048647\n",
              "El Salvador    0.047947\n",
              "Bolivia        0.047901\n",
              "Honduras       0.047540\n",
              "Argentina      0.013725\n",
              "Uruguay        0.012907\n",
              "Name: conversion, dtype: float64"
            ]
          },
          "metadata": {
            "tags": []
          },
          "execution_count": 51
        }
      ]
    },
    {
      "cell_type": "code",
      "metadata": {
        "id": "mwEw1mlhd4gj",
        "colab_type": "code",
        "colab": {
          "base_uri": "https://localhost:8080/",
          "height": 279
        },
        "outputId": "a8f0baa2-83dd-4d16-a477-5b18ab54d30b"
      },
      "source": [
        "# most country involved in the test\n",
        "df.country.value_counts().plot(kind = 'barh',color = 'steelblue')\n",
        "plt.title('Countries invovled in the A/B test')\n",
        "plt.show()"
      ],
      "execution_count": null,
      "outputs": [
        {
          "output_type": "display_data",
          "data": {
            "image/png": "[encoded data removed]",
            "text/plain": [
              "<Figure size 432x288 with 1 Axes>"
            ]
          },
          "metadata": {
            "tags": [],
            "needs_background": "light"
          }
        }
      ]
    },
    {
      "cell_type": "code",
      "metadata": {
        "id": "7LqWHdK9de4I",
        "colab_type": "code",
        "colab": {
          "base_uri": "https://localhost:8080/",
          "height": 297
        },
        "outputId": "37497deb-4235-4bc0-9bbc-4d5df8ac1aa9"
      },
      "source": [
        "# Age Distribution in test and conveersion \n",
        "plt.figure(figsize=(8,4))\n",
        "plt.subplot(1,2,1)\n",
        "sns.kdeplot(df[df['test']==1]['age'],shade= True,label  = 'tested')\n",
        "sns.kdeplot(df[df['test']==0]['age'],shade= True,label = 'not tested')\n",
        "plt.title('Test in age')\n",
        "\n",
        "plt.subplot(1,2,2)\n",
        "sns.kdeplot(df[df['conversion']==1]['age'],shade= True,label  = 'converted')\n",
        "sns.kdeplot(df[df['conversion']==0]['age'],shade= True,label = 'not converted')\n",
        "plt.title('Conversion in age')\n",
        "\n",
        "plt.legend()\n",
        "plt.tight_layout()\n",
        "plt.show()"
      ],
      "execution_count": null,
      "outputs": [
        {
          "output_type": "display_data",
          "data": {
            "image/png": "[encoded data removed]",
            "text/plain": [
              "<Figure size 576x288 with 2 Axes>"
            ]
          },
          "metadata": {
            "tags": [],
            "needs_background": "light"
          }
        }
      ]
    },
    {
      "cell_type": "code",
      "metadata": {
        "id": "WRxUOO2LIN54",
        "colab_type": "code",
        "colab": {
          "base_uri": "https://localhost:8080/",
          "height": 297
        },
        "outputId": "f3230768-28f5-4e7f-9def-07db2dce3f2b"
      },
      "source": [
        "# customer source, Ads Channel and Browers count \n",
        "plt.figure(figsize = (12,4))\n",
        "plt.subplot(1,3,1)\n",
        "sns.countplot(df.source)\n",
        "plt.ylabel('')\n",
        "plt.title('Source Count')\n",
        "\n",
        "plt.subplot(1,3,2)\n",
        "sns.countplot(df.ads_channel)\n",
        "plt.title('Ads Count')\n",
        "plt.ylabel('')\n",
        "\n",
        "plt.subplot(1,3,3)\n",
        "sns.countplot(y = df.browser)\n",
        "plt.title('Browser Count')\n",
        "plt.ylabel('')\n",
        "\n",
        "plt.tight_layout()\n",
        "plt.show()"
      ],
      "execution_count": null,
      "outputs": [
        {
          "output_type": "display_data",
          "data": {
            "image/png": "[encoded data removed]",
            "text/plain": [
              "<Figure size 864x288 with 3 Axes>"
            ]
          },
          "metadata": {
            "tags": [],
            "needs_background": "light"
          }
        }
      ]
    },
    {
      "cell_type": "code",
      "metadata": {
        "id": "DQzdnm65rUGQ",
        "colab_type": "code",
        "colab": {
          "base_uri": "https://localhost:8080/",
          "height": 415
        },
        "outputId": "667fd206-3373-416a-f0e3-0ddc4ff7cf24"
      },
      "source": [
        "df[df['test']==0].groupby('source')['conversion'].mean().plot(kind = 'barh')\n",
        "df[df['test']==0].groupby('ads_channel')['conversion'].mean()\n",
        "df[df['test']==0].groupby('browser')['conversion'].mean()"
      ],
      "execution_count": null,
      "outputs": [
        {
          "output_type": "execute_result",
          "data": {
            "text/plain": [
              "browser\n",
              "Android_App    0.056026\n",
              "Chrome         0.054605\n",
              "FireFox        0.057041\n",
              "IE             0.054603\n",
              "Iphone_App     0.054588\n",
              "Opera          0.057134\n",
              "Safari         0.052830\n",
              "Name: conversion, dtype: float64"
            ]
          },
          "metadata": {
            "tags": []
          },
          "execution_count": 46
        },
        {
          "output_type": "display_data",
          "data": {
            "image/png": "[encoded data removed]",
            "text/plain": [
              "<Figure size 432x288 with 1 Axes>"
            ]
          },
          "metadata": {
            "tags": [],
            "needs_background": "light"
          }
        }
      ]
    }
  ]
}