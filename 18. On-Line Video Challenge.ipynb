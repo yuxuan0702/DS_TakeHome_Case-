{
 "cells": [
  {
   "cell_type": "code",
   "execution_count": 1,
   "metadata": {
    "ExecuteTime": {
     "end_time": "2020-09-22T18:21:58.095018Z",
     "start_time": "2020-09-22T18:21:55.636401Z"
    }
   },
   "outputs": [],
   "source": [
    "import warnings\n",
    "warnings.simplefilter('ignore')\n",
    "\n",
    "import numpy as np\n",
    "import pandas as pd\n",
    "import seaborn as sns\n",
    "import matplotlib.pyplot as plt\n",
    "\n",
    "from jupyterthemes import jtplot\n",
    "jtplot.style()\n",
    "%matplotlib inline"
   ]
  },
  {
   "cell_type": "markdown",
   "metadata": {},
   "source": [
    "# Load Dataset"
   ]
  },
  {
   "cell_type": "code",
   "execution_count": 2,
   "metadata": {
    "ExecuteTime": {
     "end_time": "2020-09-22T18:21:58.303813Z",
     "start_time": "2020-09-22T18:21:58.099470Z"
    }
   },
   "outputs": [
    {
     "ename": "FileNotFoundError",
     "evalue": "[Errno 2] File video_count.csv does not exist: 'video_count.csv'",
     "output_type": "error",
     "traceback": [
      "\u001b[0;31m---------------------------------------------------------------------------\u001b[0m",
      "\u001b[0;31mFileNotFoundError\u001b[0m                         Traceback (most recent call last)",
      "\u001b[0;32m<ipython-input-2-057a1dabdcd4>\u001b[0m in \u001b[0;36m<module>\u001b[0;34m\u001b[0m\n\u001b[0;32m----> 1\u001b[0;31m \u001b[0mcount\u001b[0m \u001b[0;34m=\u001b[0m \u001b[0mpd\u001b[0m\u001b[0;34m.\u001b[0m\u001b[0mread_csv\u001b[0m\u001b[0;34m(\u001b[0m\u001b[0;34m'video_count.csv'\u001b[0m\u001b[0;34m,\u001b[0m \u001b[0mparse_dates\u001b[0m\u001b[0;34m=\u001b[0m\u001b[0;34m[\u001b[0m\u001b[0;34m'date'\u001b[0m\u001b[0;34m]\u001b[0m\u001b[0;34m)\u001b[0m\u001b[0;34m\u001b[0m\u001b[0;34m\u001b[0m\u001b[0m\n\u001b[0m\u001b[1;32m      2\u001b[0m \u001b[0mcount\u001b[0m\u001b[0;34m.\u001b[0m\u001b[0mhead\u001b[0m\u001b[0;34m(\u001b[0m\u001b[0;34m)\u001b[0m\u001b[0;34m\u001b[0m\u001b[0;34m\u001b[0m\u001b[0m\n",
      "\u001b[0;32m~/opt/anaconda3/lib/python3.7/site-packages/pandas/io/parsers.py\u001b[0m in \u001b[0;36mparser_f\u001b[0;34m(filepath_or_buffer, sep, delimiter, header, names, index_col, usecols, squeeze, prefix, mangle_dupe_cols, dtype, engine, converters, true_values, false_values, skipinitialspace, skiprows, skipfooter, nrows, na_values, keep_default_na, na_filter, verbose, skip_blank_lines, parse_dates, infer_datetime_format, keep_date_col, date_parser, dayfirst, cache_dates, iterator, chunksize, compression, thousands, decimal, lineterminator, quotechar, quoting, doublequote, escapechar, comment, encoding, dialect, error_bad_lines, warn_bad_lines, delim_whitespace, low_memory, memory_map, float_precision)\u001b[0m\n\u001b[1;32m    674\u001b[0m         )\n\u001b[1;32m    675\u001b[0m \u001b[0;34m\u001b[0m\u001b[0m\n\u001b[0;32m--> 676\u001b[0;31m         \u001b[0;32mreturn\u001b[0m \u001b[0m_read\u001b[0m\u001b[0;34m(\u001b[0m\u001b[0mfilepath_or_buffer\u001b[0m\u001b[0;34m,\u001b[0m \u001b[0mkwds\u001b[0m\u001b[0;34m)\u001b[0m\u001b[0;34m\u001b[0m\u001b[0;34m\u001b[0m\u001b[0m\n\u001b[0m\u001b[1;32m    677\u001b[0m \u001b[0;34m\u001b[0m\u001b[0m\n\u001b[1;32m    678\u001b[0m     \u001b[0mparser_f\u001b[0m\u001b[0;34m.\u001b[0m\u001b[0m__name__\u001b[0m \u001b[0;34m=\u001b[0m \u001b[0mname\u001b[0m\u001b[0;34m\u001b[0m\u001b[0;34m\u001b[0m\u001b[0m\n",
      "\u001b[0;32m~/opt/anaconda3/lib/python3.7/site-packages/pandas/io/parsers.py\u001b[0m in \u001b[0;36m_read\u001b[0;34m(filepath_or_buffer, kwds)\u001b[0m\n\u001b[1;32m    446\u001b[0m \u001b[0;34m\u001b[0m\u001b[0m\n\u001b[1;32m    447\u001b[0m     \u001b[0;31m# Create the parser.\u001b[0m\u001b[0;34m\u001b[0m\u001b[0;34m\u001b[0m\u001b[0;34m\u001b[0m\u001b[0m\n\u001b[0;32m--> 448\u001b[0;31m     \u001b[0mparser\u001b[0m \u001b[0;34m=\u001b[0m \u001b[0mTextFileReader\u001b[0m\u001b[0;34m(\u001b[0m\u001b[0mfp_or_buf\u001b[0m\u001b[0;34m,\u001b[0m \u001b[0;34m**\u001b[0m\u001b[0mkwds\u001b[0m\u001b[0;34m)\u001b[0m\u001b[0;34m\u001b[0m\u001b[0;34m\u001b[0m\u001b[0m\n\u001b[0m\u001b[1;32m    449\u001b[0m \u001b[0;34m\u001b[0m\u001b[0m\n\u001b[1;32m    450\u001b[0m     \u001b[0;32mif\u001b[0m \u001b[0mchunksize\u001b[0m \u001b[0;32mor\u001b[0m \u001b[0miterator\u001b[0m\u001b[0;34m:\u001b[0m\u001b[0;34m\u001b[0m\u001b[0;34m\u001b[0m\u001b[0m\n",
      "\u001b[0;32m~/opt/anaconda3/lib/python3.7/site-packages/pandas/io/parsers.py\u001b[0m in \u001b[0;36m__init__\u001b[0;34m(self, f, engine, **kwds)\u001b[0m\n\u001b[1;32m    878\u001b[0m             \u001b[0mself\u001b[0m\u001b[0;34m.\u001b[0m\u001b[0moptions\u001b[0m\u001b[0;34m[\u001b[0m\u001b[0;34m\"has_index_names\"\u001b[0m\u001b[0;34m]\u001b[0m \u001b[0;34m=\u001b[0m \u001b[0mkwds\u001b[0m\u001b[0;34m[\u001b[0m\u001b[0;34m\"has_index_names\"\u001b[0m\u001b[0;34m]\u001b[0m\u001b[0;34m\u001b[0m\u001b[0;34m\u001b[0m\u001b[0m\n\u001b[1;32m    879\u001b[0m \u001b[0;34m\u001b[0m\u001b[0m\n\u001b[0;32m--> 880\u001b[0;31m         \u001b[0mself\u001b[0m\u001b[0;34m.\u001b[0m\u001b[0m_make_engine\u001b[0m\u001b[0;34m(\u001b[0m\u001b[0mself\u001b[0m\u001b[0;34m.\u001b[0m\u001b[0mengine\u001b[0m\u001b[0;34m)\u001b[0m\u001b[0;34m\u001b[0m\u001b[0;34m\u001b[0m\u001b[0m\n\u001b[0m\u001b[1;32m    881\u001b[0m \u001b[0;34m\u001b[0m\u001b[0m\n\u001b[1;32m    882\u001b[0m     \u001b[0;32mdef\u001b[0m \u001b[0mclose\u001b[0m\u001b[0;34m(\u001b[0m\u001b[0mself\u001b[0m\u001b[0;34m)\u001b[0m\u001b[0;34m:\u001b[0m\u001b[0;34m\u001b[0m\u001b[0;34m\u001b[0m\u001b[0m\n",
      "\u001b[0;32m~/opt/anaconda3/lib/python3.7/site-packages/pandas/io/parsers.py\u001b[0m in \u001b[0;36m_make_engine\u001b[0;34m(self, engine)\u001b[0m\n\u001b[1;32m   1112\u001b[0m     \u001b[0;32mdef\u001b[0m \u001b[0m_make_engine\u001b[0m\u001b[0;34m(\u001b[0m\u001b[0mself\u001b[0m\u001b[0;34m,\u001b[0m \u001b[0mengine\u001b[0m\u001b[0;34m=\u001b[0m\u001b[0;34m\"c\"\u001b[0m\u001b[0;34m)\u001b[0m\u001b[0;34m:\u001b[0m\u001b[0;34m\u001b[0m\u001b[0;34m\u001b[0m\u001b[0m\n\u001b[1;32m   1113\u001b[0m         \u001b[0;32mif\u001b[0m \u001b[0mengine\u001b[0m \u001b[0;34m==\u001b[0m \u001b[0;34m\"c\"\u001b[0m\u001b[0;34m:\u001b[0m\u001b[0;34m\u001b[0m\u001b[0;34m\u001b[0m\u001b[0m\n\u001b[0;32m-> 1114\u001b[0;31m             \u001b[0mself\u001b[0m\u001b[0;34m.\u001b[0m\u001b[0m_engine\u001b[0m \u001b[0;34m=\u001b[0m \u001b[0mCParserWrapper\u001b[0m\u001b[0;34m(\u001b[0m\u001b[0mself\u001b[0m\u001b[0;34m.\u001b[0m\u001b[0mf\u001b[0m\u001b[0;34m,\u001b[0m \u001b[0;34m**\u001b[0m\u001b[0mself\u001b[0m\u001b[0;34m.\u001b[0m\u001b[0moptions\u001b[0m\u001b[0;34m)\u001b[0m\u001b[0;34m\u001b[0m\u001b[0;34m\u001b[0m\u001b[0m\n\u001b[0m\u001b[1;32m   1115\u001b[0m         \u001b[0;32melse\u001b[0m\u001b[0;34m:\u001b[0m\u001b[0;34m\u001b[0m\u001b[0;34m\u001b[0m\u001b[0m\n\u001b[1;32m   1116\u001b[0m             \u001b[0;32mif\u001b[0m \u001b[0mengine\u001b[0m \u001b[0;34m==\u001b[0m \u001b[0;34m\"python\"\u001b[0m\u001b[0;34m:\u001b[0m\u001b[0;34m\u001b[0m\u001b[0;34m\u001b[0m\u001b[0m\n",
      "\u001b[0;32m~/opt/anaconda3/lib/python3.7/site-packages/pandas/io/parsers.py\u001b[0m in \u001b[0;36m__init__\u001b[0;34m(self, src, **kwds)\u001b[0m\n\u001b[1;32m   1889\u001b[0m         \u001b[0mkwds\u001b[0m\u001b[0;34m[\u001b[0m\u001b[0;34m\"usecols\"\u001b[0m\u001b[0;34m]\u001b[0m \u001b[0;34m=\u001b[0m \u001b[0mself\u001b[0m\u001b[0;34m.\u001b[0m\u001b[0musecols\u001b[0m\u001b[0;34m\u001b[0m\u001b[0;34m\u001b[0m\u001b[0m\n\u001b[1;32m   1890\u001b[0m \u001b[0;34m\u001b[0m\u001b[0m\n\u001b[0;32m-> 1891\u001b[0;31m         \u001b[0mself\u001b[0m\u001b[0;34m.\u001b[0m\u001b[0m_reader\u001b[0m \u001b[0;34m=\u001b[0m \u001b[0mparsers\u001b[0m\u001b[0;34m.\u001b[0m\u001b[0mTextReader\u001b[0m\u001b[0;34m(\u001b[0m\u001b[0msrc\u001b[0m\u001b[0;34m,\u001b[0m \u001b[0;34m**\u001b[0m\u001b[0mkwds\u001b[0m\u001b[0;34m)\u001b[0m\u001b[0;34m\u001b[0m\u001b[0;34m\u001b[0m\u001b[0m\n\u001b[0m\u001b[1;32m   1892\u001b[0m         \u001b[0mself\u001b[0m\u001b[0;34m.\u001b[0m\u001b[0munnamed_cols\u001b[0m \u001b[0;34m=\u001b[0m \u001b[0mself\u001b[0m\u001b[0;34m.\u001b[0m\u001b[0m_reader\u001b[0m\u001b[0;34m.\u001b[0m\u001b[0munnamed_cols\u001b[0m\u001b[0;34m\u001b[0m\u001b[0;34m\u001b[0m\u001b[0m\n\u001b[1;32m   1893\u001b[0m \u001b[0;34m\u001b[0m\u001b[0m\n",
      "\u001b[0;32mpandas/_libs/parsers.pyx\u001b[0m in \u001b[0;36mpandas._libs.parsers.TextReader.__cinit__\u001b[0;34m()\u001b[0m\n",
      "\u001b[0;32mpandas/_libs/parsers.pyx\u001b[0m in \u001b[0;36mpandas._libs.parsers.TextReader._setup_parser_source\u001b[0;34m()\u001b[0m\n",
      "\u001b[0;31mFileNotFoundError\u001b[0m: [Errno 2] File video_count.csv does not exist: 'video_count.csv'"
     ]
    }
   ],
   "source": [
    "count = pd.read_csv('video_count.csv', parse_dates=['date'])\n",
    "count.head()"
   ]
  },
  {
   "cell_type": "code",
   "execution_count": null,
   "metadata": {
    "ExecuteTime": {
     "end_time": "2020-09-22T18:21:58.316237Z",
     "start_time": "2020-09-22T18:21:55.630Z"
    },
    "scrolled": true
   },
   "outputs": [],
   "source": [
    "count.info()"
   ]
  },
  {
   "cell_type": "code",
   "execution_count": null,
   "metadata": {
    "ExecuteTime": {
     "end_time": "2020-09-22T18:21:58.318528Z",
     "start_time": "2020-09-22T18:21:55.634Z"
    }
   },
   "outputs": [],
   "source": [
    "feature = pd.read_csv('video_features.csv',parse_dates=['video_upload_date'])\n",
    "feature.head()"
   ]
  },
  {
   "cell_type": "code",
   "execution_count": null,
   "metadata": {
    "ExecuteTime": {
     "end_time": "2020-09-22T18:21:58.320347Z",
     "start_time": "2020-09-22T18:21:55.638Z"
    }
   },
   "outputs": [],
   "source": [
    "feature.info()"
   ]
  },
  {
   "cell_type": "code",
   "execution_count": null,
   "metadata": {
    "ExecuteTime": {
     "end_time": "2020-09-22T18:21:58.322616Z",
     "start_time": "2020-09-22T18:21:55.643Z"
    }
   },
   "outputs": [],
   "source": [
    "# merge data\n",
    "data = pd.merge(left=count, right=feature, on='video_id', how='left')\n",
    "data = data.rename(columns={'video_length': 'length', \n",
    "                            'video_language': 'language', \n",
    "                            'video_upload_date': 'upload_date', \n",
    "                            'video_quality': 'quality'})\n",
    "data.head()"
   ]
  },
  {
   "cell_type": "markdown",
   "metadata": {},
   "source": [
    "# Data Processing and Analysis"
   ]
  },
  {
   "cell_type": "code",
   "execution_count": null,
   "metadata": {
    "ExecuteTime": {
     "end_time": "2020-09-22T18:21:58.324722Z",
     "start_time": "2020-09-22T18:21:55.648Z"
    }
   },
   "outputs": [],
   "source": [
    "# extract time interval information\n",
    "data['interval'] = (data['date'] - data['upload_date']).apply(lambda x: x.days)\n",
    "\n",
    "# extract video play day of week\n",
    "data['dayofweek'] = data['date'].apply(lambda x: x.dayofweek)\n",
    "\n",
    "data.head()"
   ]
  },
  {
   "cell_type": "code",
   "execution_count": null,
   "metadata": {
    "ExecuteTime": {
     "end_time": "2020-09-22T18:21:58.328201Z",
     "start_time": "2020-09-22T18:21:55.652Z"
    }
   },
   "outputs": [],
   "source": [
    "# visualization of count\n",
    "warnings.filterwarnings('ignore')\n",
    "hist_kws={'histtype': 'bar', 'edgecolor':'black', 'alpha': 0.2}\n",
    "\n",
    "fig, ax = plt.subplots(figsize=(8, 4))\n",
    "sns.distplot(data['count'], ax=ax, hist_kws=hist_kws)\n",
    "plt.tight_layout()\n",
    "plt.show()"
   ]
  },
  {
   "cell_type": "code",
   "execution_count": null,
   "metadata": {
    "ExecuteTime": {
     "end_time": "2020-09-22T18:21:58.330498Z",
     "start_time": "2020-09-22T18:21:55.657Z"
    }
   },
   "outputs": [],
   "source": [
    "# visualization of length\n",
    "fig, ax = plt.subplots(figsize=(8, 5))\n",
    "sns.distplot(data['length'], ax=ax, hist_kws=hist_kws)\n",
    "plt.tight_layout()\n",
    "plt.show()"
   ]
  },
  {
   "cell_type": "code",
   "execution_count": null,
   "metadata": {
    "ExecuteTime": {
     "end_time": "2020-09-22T18:21:58.332999Z",
     "start_time": "2020-09-22T18:21:55.660Z"
    }
   },
   "outputs": [],
   "source": [
    "# visualization of length\n",
    "sns.jointplot(x='length', y='count', data=data, kind='scatter', size=6)\n",
    "plt.tight_layout()\n",
    "plt.show()"
   ]
  },
  {
   "cell_type": "code",
   "execution_count": null,
   "metadata": {
    "ExecuteTime": {
     "end_time": "2020-09-22T18:21:58.335900Z",
     "start_time": "2020-09-22T18:21:55.664Z"
    }
   },
   "outputs": [],
   "source": [
    "# visualization of language\n",
    "fig, ax = plt.subplots(nrows=1, ncols=2, figsize=(18, 6))\n",
    "sns.countplot(x='language', data=data, ax=ax[0])\n",
    "ax[0].set_title('Count Plot of language', fontsize=16)\n",
    "\n",
    "sns.barplot(x='language', y='count', data=data, ax=ax[1])\n",
    "ax[1].set_title('Count vs. language', fontsize=16)\n",
    "plt.tight_layout()\n",
    "plt.show()"
   ]
  },
  {
   "cell_type": "code",
   "execution_count": null,
   "metadata": {
    "ExecuteTime": {
     "end_time": "2020-09-22T18:21:58.338262Z",
     "start_time": "2020-09-22T18:21:55.667Z"
    }
   },
   "outputs": [],
   "source": [
    "# visualization of quality\n",
    "fig, ax = plt.subplots(nrows=1, ncols=2, figsize=(18, 6))\n",
    "sns.countplot(x='quality', data=data, ax=ax[0])\n",
    "ax[0].set_title('Count Plot of quality', fontsize=16)\n",
    "\n",
    "sns.barplot(x='quality', y='count', data=data, ax=ax[1])\n",
    "ax[1].set_title('Count vs. quality', fontsize=16)\n",
    "plt.tight_layout()\n",
    "plt.show()"
   ]
  },
  {
   "cell_type": "code",
   "execution_count": null,
   "metadata": {
    "ExecuteTime": {
     "end_time": "2020-09-22T18:21:58.340162Z",
     "start_time": "2020-09-22T18:21:55.670Z"
    }
   },
   "outputs": [],
   "source": [
    "# visualization of interval\n",
    "fig, ax = plt.subplots(nrows=1, ncols=2, figsize=(18, 6))\n",
    "sns.countplot(x='interval', data=data, ax=ax[0])\n",
    "ax[0].set_title('Count Plot of interval', fontsize=16)\n",
    "\n",
    "sns.barplot(x='interval', y='count', data=data, ax=ax[1])\n",
    "ax[1].set_title('Count vs. interval', fontsize=16)\n",
    "plt.tight_layout()\n",
    "plt.show()"
   ]
  },
  {
   "cell_type": "code",
   "execution_count": null,
   "metadata": {
    "ExecuteTime": {
     "end_time": "2020-09-22T18:21:58.344392Z",
     "start_time": "2020-09-22T18:21:55.673Z"
    }
   },
   "outputs": [],
   "source": [
    "# visualization of dayofweek\n",
    "fig, ax = plt.subplots(nrows=1, ncols=2, figsize=(18, 6))\n",
    "sns.countplot(x='dayofweek', data=data, ax=ax[0])\n",
    "ax[0].set_title('Count Plot of dayofweek', fontsize=16)\n",
    "\n",
    "sns.barplot(x='dayofweek', y='count', data=data, ax=ax[1])\n",
    "ax[1].set_title('Count vs. dayofweek', fontsize=16)\n",
    "plt.tight_layout()\n",
    "plt.show()"
   ]
  },
  {
   "cell_type": "markdown",
   "metadata": {},
   "source": [
    "# Questions"
   ]
  },
  {
   "cell_type": "code",
   "execution_count": null,
   "metadata": {
    "ExecuteTime": {
     "end_time": "2020-09-22T18:21:58.355139Z",
     "start_time": "2020-09-22T18:21:55.677Z"
    }
   },
   "outputs": [],
   "source": [
    "data.head()"
   ]
  },
  {
   "cell_type": "markdown",
   "metadata": {},
   "source": [
    "### Question 1"
   ]
  },
  {
   "cell_type": "code",
   "execution_count": null,
   "metadata": {
    "ExecuteTime": {
     "end_time": "2020-09-22T18:21:58.359044Z",
     "start_time": "2020-09-22T18:21:55.681Z"
    }
   },
   "outputs": [],
   "source": [
    "def parse_data(df):\n",
    "    \"\"\" function to calculate the statistics for \"\"\"\n",
    "    counts = df.sort_values(by='date')['count'].values\n",
    "    change = (counts[1:] - counts[:-1]) / counts[:-1]\n",
    "    \n",
    "    index = ['ct_mean', 'ct_std', 'ct_min', 'ct_25%', 'ct_50%', 'ct_75%', 'ct_max', \n",
    "             'cg_mean', 'cg_std', 'cg_min', 'cg_25%', 'cg_50%', 'cg_75%', 'cg_max']\n",
    "    \n",
    "    ct_vals = pd.Series(counts).describe()\n",
    "    cg_vals = pd.Series(change).describe()\n",
    "    \n",
    "    ct_values = [ct_vals['mean'], ct_vals['std'], ct_vals['min'], ct_vals['25%'], \n",
    "                 ct_vals['50%'], ct_vals['75%'], ct_vals['max']]\n",
    "    cg_values = [cg_vals['mean'], cg_vals['std'], cg_vals['min'], cg_vals['25%'], \n",
    "                 cg_vals['50%'], cg_vals['75%'], cg_vals['max']]\n",
    "    \n",
    "    return pd.Series(ct_values + cg_values, index=index)\n",
    "\n",
    "data_stats = data.groupby('video_id').apply(parse_data)\n",
    "data_stats.head()"
   ]
  },
  {
   "cell_type": "code",
   "execution_count": null,
   "metadata": {
    "ExecuteTime": {
     "end_time": "2020-09-22T18:21:58.362800Z",
     "start_time": "2020-09-22T18:21:55.684Z"
    }
   },
   "outputs": [],
   "source": [
    "# Popularity\n",
    "fig, ax = plt.subplots(figsize=(8, 4))\n",
    "sns.distplot(data_stats['ct_mean'], ax=ax, hist_kws=hist_kws)\n",
    "plt.tight_layout()\n",
    "plt.show()"
   ]
  },
  {
   "cell_type": "markdown",
   "metadata": {},
   "source": [
    "1. For `Stable and Popular` videos, based on above figure, we can manually set some threshold, for example, set `ct_mean` cutoff threshold to be $1,500,000$, we can define the popular `Stable and Popular` videos"
   ]
  },
  {
   "cell_type": "code",
   "execution_count": null,
   "metadata": {
    "ExecuteTime": {
     "end_time": "2020-09-22T18:21:58.366315Z",
     "start_time": "2020-09-22T18:21:55.688Z"
    }
   },
   "outputs": [],
   "source": [
    "popular_video = data_stats[data_stats['ct_mean'] > 1500000]\n",
    "popular_video.head()"
   ]
  },
  {
   "cell_type": "markdown",
   "metadata": {},
   "source": [
    "2. For `Hot` videos, we can use the video's daily change rate."
   ]
  },
  {
   "cell_type": "code",
   "execution_count": null,
   "metadata": {
    "ExecuteTime": {
     "end_time": "2020-09-22T18:21:58.370010Z",
     "start_time": "2020-09-22T18:21:55.690Z"
    }
   },
   "outputs": [],
   "source": [
    "# Popularity\n",
    "fig, ax = plt.subplots(figsize=(8, 4))\n",
    "sns.distplot(data_stats['cg_mean'], ax=ax, hist_kws=hist_kws)\n",
    "plt.tight_layout()\n",
    "plt.show()"
   ]
  },
  {
   "cell_type": "markdown",
   "metadata": {},
   "source": [
    "From above figure, it's clear that if we set the cutoff threshold for change rate, we can separate a group of videos that the mean daily change rate is above $20\\%$, which can be defined a `Hot` videos."
   ]
  },
  {
   "cell_type": "code",
   "execution_count": null,
   "metadata": {
    "ExecuteTime": {
     "end_time": "2020-09-22T18:21:58.372188Z",
     "start_time": "2020-09-22T18:21:55.694Z"
    }
   },
   "outputs": [],
   "source": [
    "hot_video = data_stats[data_stats['cg_mean'] > 0.2]\n",
    "hot_video.head()"
   ]
  },
  {
   "cell_type": "markdown",
   "metadata": {},
   "source": [
    "3. For `Everything else`, the rest videos are selected."
   ]
  },
  {
   "cell_type": "markdown",
   "metadata": {},
   "source": [
    "### Question 2"
   ]
  },
  {
   "cell_type": "code",
   "execution_count": null,
   "metadata": {
    "ExecuteTime": {
     "end_time": "2020-09-22T18:21:58.378719Z",
     "start_time": "2020-09-22T18:21:55.697Z"
    }
   },
   "outputs": [],
   "source": [
    "data['hot'] = False\n",
    "data.loc[data['video_id'].isin(hot_video.index), 'hot'] = True\n",
    "data.head()"
   ]
  },
  {
   "cell_type": "code",
   "execution_count": null,
   "metadata": {
    "ExecuteTime": {
     "end_time": "2020-09-22T18:21:58.394759Z",
     "start_time": "2020-09-22T18:21:55.700Z"
    }
   },
   "outputs": [],
   "source": [
    "# visualization of length\n",
    "fig, ax = plt.subplots(figsize=(8, 5))\n",
    "sns.distplot(data[data['hot']==True]['length'], label='Hot', ax=ax, hist_kws=hist_kws)\n",
    "sns.distplot(data[data['hot']==False]['length'], label='Not Hot', ax=ax, hist_kws=hist_kws)\n",
    "ax.legend(fontsize=12)\n",
    "plt.tight_layout()\n",
    "plt.show()"
   ]
  },
  {
   "cell_type": "code",
   "execution_count": null,
   "metadata": {
    "ExecuteTime": {
     "end_time": "2020-09-22T18:21:58.405330Z",
     "start_time": "2020-09-22T18:21:55.702Z"
    }
   },
   "outputs": [],
   "source": [
    "# visualization of language\n",
    "fig, ax = plt.subplots(nrows=1, ncols=2, figsize=(18, 6))\n",
    "tmp = data.groupby('hot')['language'].apply(lambda x: x.value_counts(normalize=True)).unstack()\n",
    "tmp.plot(kind='bar', ax=ax[0])\n",
    "\n",
    "sns.barplot(x='language', y='count', data=data, hue='hot', ax=ax[1])\n",
    "ax[1].set_title('Count vs. language', fontsize=16)\n",
    "plt.tight_layout()\n",
    "plt.show()"
   ]
  },
  {
   "cell_type": "code",
   "execution_count": null,
   "metadata": {
    "ExecuteTime": {
     "end_time": "2020-09-22T18:21:58.407791Z",
     "start_time": "2020-09-22T18:21:55.705Z"
    }
   },
   "outputs": [],
   "source": [
    "# visualization of quality\n",
    "fig, ax = plt.subplots(nrows=1, ncols=2, figsize=(18, 6))\n",
    "tmp = data.groupby('hot')['quality'].apply(lambda x: x.value_counts(normalize=True)).unstack()\n",
    "tmp.plot(kind='bar', ax=ax[0])\n",
    "\n",
    "sns.barplot(x='quality', y='count', hue='hot', data=data, ax=ax[1])\n",
    "ax[1].set_title('Count vs. quality', fontsize=16)\n",
    "plt.tight_layout()\n",
    "plt.show()"
   ]
  },
  {
   "cell_type": "code",
   "execution_count": null,
   "metadata": {
    "ExecuteTime": {
     "end_time": "2020-09-22T18:21:58.411209Z",
     "start_time": "2020-09-22T18:21:55.707Z"
    }
   },
   "outputs": [],
   "source": [
    "# visualization of interval\n",
    "fig, ax = plt.subplots(nrows=1, ncols=2, figsize=(18, 6))\n",
    "sns.countplot(x='interval', hue='hot', data=data, ax=ax[0])\n",
    "ax[0].set_title('Count Plot of interval', fontsize=16)\n",
    "\n",
    "sns.barplot(x='interval', y='count', hue='hot', data=data, ax=ax[1])\n",
    "ax[1].set_title('Count vs. interval', fontsize=16)\n",
    "plt.tight_layout()\n",
    "plt.show()"
   ]
  },
  {
   "cell_type": "code",
   "execution_count": null,
   "metadata": {
    "ExecuteTime": {
     "end_time": "2020-09-22T18:21:58.413288Z",
     "start_time": "2020-09-22T18:21:55.710Z"
    }
   },
   "outputs": [],
   "source": [
    "# visualization of dayofweek\n",
    "fig, ax = plt.subplots(nrows=1, ncols=2, figsize=(18, 6))\n",
    "tmp = data.groupby('hot')['dayofweek'].apply(lambda x: x.value_counts(normalize=True)).unstack()\n",
    "tmp.plot(kind='bar', ax=ax[0])\n",
    "\n",
    "sns.barplot(x='dayofweek', y='count', hue='hot', data=data, ax=ax[1])\n",
    "ax[1].set_title('Count vs. dayofweek', fontsize=16)\n",
    "plt.tight_layout()\n",
    "plt.show()"
   ]
  },
  {
   "cell_type": "markdown",
   "metadata": {},
   "source": [
    "### Question 3"
   ]
  },
  {
   "cell_type": "markdown",
   "metadata": {},
   "source": [
    "[Reference](https://github.com/stasi009/TakeHomeDataChallenges/blob/master/18.OnlineVideo/online_videos.ipynb)\n",
    "\n",
    "* we can build a model to predict whether the video will be Hot (trending up) or not. The videos which are predicted to be Hot will be shown on the Home page and attract users to click.\n",
    "* study the reason why videos uploaded on Sunday/Monday are much more likely to be Hot than videos uploaded on Thursday.\n",
    "    - if the reason is like my guess, is because Sunday/Monday allow the video have longer \"offline propagation time\"\n",
    "    - then the problem is why \"online propagation\" doesn't work well?\n",
    "    - Is it because our website doesn't have a \"Share...\" buttion?\n",
    "    - or is it because we didn't include the most popular social network in our \"Share with\" list?\n",
    "* study the reason why English videos are more likely to be Hot.\n",
    "    - is is because the translation issue?\n",
    "    - or maybe we didn't include local social network (such as weibo in China) in our 'Share with' list."
   ]
  },
  {
   "cell_type": "code",
   "execution_count": null,
   "metadata": {},
   "outputs": [],
   "source": []
  }
 ],
 "metadata": {
  "kernelspec": {
   "display_name": "Python 3",
   "language": "python",
   "name": "python3"
  },
  "language_info": {
   "codemirror_mode": {
    "name": "ipython",
    "version": 3
   },
   "file_extension": ".py",
   "mimetype": "text/x-python",
   "name": "python",
   "nbconvert_exporter": "python",
   "pygments_lexer": "ipython3",
   "version": "3.7.6"
  },
  "toc": {
   "base_numbering": 1,
   "nav_menu": {},
   "number_sections": true,
   "sideBar": true,
   "skip_h1_title": false,
   "title_cell": "Table of Contents",
   "title_sidebar": "Contents",
   "toc_cell": false,
   "toc_position": {},
   "toc_section_display": true,
   "toc_window_display": true
  },
  "varInspector": {
   "cols": {
    "lenName": 16,
    "lenType": 16,
    "lenVar": 40
   },
   "kernels_config": {
    "python": {
     "delete_cmd_postfix": "",
     "delete_cmd_prefix": "del ",
     "library": "var_list.py",
     "varRefreshCmd": "print(var_dic_list())"
    },
    "r": {
     "delete_cmd_postfix": ") ",
     "delete_cmd_prefix": "rm(",
     "library": "var_list.r",
     "varRefreshCmd": "cat(var_dic_list()) "
    }
   },
   "types_to_exclude": [
    "module",
    "function",
    "builtin_function_or_method",
    "instance",
    "_Feature"
   ],
   "window_display": false
  }
 },
 "nbformat": 4,
 "nbformat_minor": 2
}
