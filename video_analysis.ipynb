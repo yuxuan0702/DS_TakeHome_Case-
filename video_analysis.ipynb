{
 "cells": [
  {
   "cell_type": "code",
   "execution_count": 1,
   "metadata": {
    "ExecuteTime": {
     "end_time": "2020-09-22T15:34:35.221233Z",
     "start_time": "2020-09-22T15:34:32.911087Z"
    }
   },
   "outputs": [],
   "source": [
    "import pandas as pd \n",
    "import numpy as np \n",
    "import matplotlib.pyplot as plt \n",
    "import seaborn as sns \n",
    "\n",
    "\n",
    "from jupyterthemes import jtplot\n",
    "jtplot.style()\n",
    "%matplotlib inline"
   ]
  },
  {
   "cell_type": "markdown",
   "metadata": {},
   "source": [
    "# Goal\n",
    "- Classify each video into one the 3 categories below and e􏰇􏰈xplain you approach:\n",
    "\"Hot\" - means trending up. These videos are candidate to be shown.\n",
    "\"Stable and Popular\" - video view counts are flat, but very high. These videos are candidates to be shown too.\n",
    "\"Everything else\" - these videos won't be shown.\n",
    "- What are the main characteristics of the \"hot videos\"?\n",
    "- After having identified the characteristics of the hot videos, how would you use this information from a product standpoint?"
   ]
  },
  {
   "cell_type": "code",
   "execution_count": 2,
   "metadata": {
    "ExecuteTime": {
     "end_time": "2020-09-22T15:34:38.610704Z",
     "start_time": "2020-09-22T15:34:38.606453Z"
    }
   },
   "outputs": [],
   "source": [
    "# return unique value in each dataframe and columns \n",
    "def return_unique(dataframe, col):\n",
    "    print(col, 'has', len(dataframe[col].unique()), 'value')"
   ]
  },
  {
   "cell_type": "code",
   "execution_count": 3,
   "metadata": {
    "ExecuteTime": {
     "end_time": "2020-09-22T15:34:39.709964Z",
     "start_time": "2020-09-22T15:34:39.647003Z"
    }
   },
   "outputs": [
    {
     "data": {
      "text/html": [
       "<div>\n",
       "<style scoped>\n",
       "    .dataframe tbody tr th:only-of-type {\n",
       "        vertical-align: middle;\n",
       "    }\n",
       "\n",
       "    .dataframe tbody tr th {\n",
       "        vertical-align: top;\n",
       "    }\n",
       "\n",
       "    .dataframe thead th {\n",
       "        text-align: right;\n",
       "    }\n",
       "</style>\n",
       "<table border=\"1\" class=\"dataframe\">\n",
       "  <thead>\n",
       "    <tr style=\"text-align: right;\">\n",
       "      <th></th>\n",
       "      <th>video_id</th>\n",
       "      <th>count</th>\n",
       "      <th>date</th>\n",
       "    </tr>\n",
       "  </thead>\n",
       "  <tbody>\n",
       "    <tr>\n",
       "      <th>0</th>\n",
       "      <td>2303</td>\n",
       "      <td>22</td>\n",
       "      <td>2015-01-07</td>\n",
       "    </tr>\n",
       "    <tr>\n",
       "      <th>1</th>\n",
       "      <td>1193</td>\n",
       "      <td>54854</td>\n",
       "      <td>2015-01-12</td>\n",
       "    </tr>\n",
       "    <tr>\n",
       "      <th>2</th>\n",
       "      <td>1219</td>\n",
       "      <td>1788779</td>\n",
       "      <td>2015-01-03</td>\n",
       "    </tr>\n",
       "    <tr>\n",
       "      <th>3</th>\n",
       "      <td>1472</td>\n",
       "      <td>234</td>\n",
       "      <td>2015-01-04</td>\n",
       "    </tr>\n",
       "    <tr>\n",
       "      <th>4</th>\n",
       "      <td>2947</td>\n",
       "      <td>14407</td>\n",
       "      <td>2015-01-08</td>\n",
       "    </tr>\n",
       "  </tbody>\n",
       "</table>\n",
       "</div>"
      ],
      "text/plain": [
       "   video_id    count       date\n",
       "0      2303       22 2015-01-07\n",
       "1      1193    54854 2015-01-12\n",
       "2      1219  1788779 2015-01-03\n",
       "3      1472      234 2015-01-04\n",
       "4      2947    14407 2015-01-08"
      ]
     },
     "execution_count": 3,
     "metadata": {},
     "output_type": "execute_result"
    }
   ],
   "source": [
    "count = pd.read_csv('video_count.csv',parse_dates=['date'])\n",
    "count.head()"
   ]
  },
  {
   "cell_type": "code",
   "execution_count": 4,
   "metadata": {
    "ExecuteTime": {
     "end_time": "2020-09-22T15:34:42.032045Z",
     "start_time": "2020-09-22T15:34:42.025442Z"
    }
   },
   "outputs": [
    {
     "name": "stdout",
     "output_type": "stream",
     "text": [
      "video_id has 2785 value\n",
      "date has 15 value\n"
     ]
    }
   ],
   "source": [
    "return_unique(count,'video_id')\n",
    "return_unique(count,'date')"
   ]
  },
  {
   "cell_type": "code",
   "execution_count": 5,
   "metadata": {
    "ExecuteTime": {
     "end_time": "2020-09-22T15:34:42.733455Z",
     "start_time": "2020-09-22T15:34:42.711150Z"
    }
   },
   "outputs": [
    {
     "data": {
      "text/html": [
       "<div>\n",
       "<style scoped>\n",
       "    .dataframe tbody tr th:only-of-type {\n",
       "        vertical-align: middle;\n",
       "    }\n",
       "\n",
       "    .dataframe tbody tr th {\n",
       "        vertical-align: top;\n",
       "    }\n",
       "\n",
       "    .dataframe thead th {\n",
       "        text-align: right;\n",
       "    }\n",
       "</style>\n",
       "<table border=\"1\" class=\"dataframe\">\n",
       "  <thead>\n",
       "    <tr style=\"text-align: right;\">\n",
       "      <th></th>\n",
       "      <th>video_id</th>\n",
       "      <th>video_length</th>\n",
       "      <th>video_language</th>\n",
       "      <th>video_upload_date</th>\n",
       "      <th>video_quality</th>\n",
       "    </tr>\n",
       "  </thead>\n",
       "  <tbody>\n",
       "    <tr>\n",
       "      <th>0</th>\n",
       "      <td>2374</td>\n",
       "      <td>1760</td>\n",
       "      <td>Cn</td>\n",
       "      <td>2014-12-06</td>\n",
       "      <td>480p</td>\n",
       "    </tr>\n",
       "    <tr>\n",
       "      <th>1</th>\n",
       "      <td>1897</td>\n",
       "      <td>489</td>\n",
       "      <td>Cn</td>\n",
       "      <td>2014-12-10</td>\n",
       "      <td>720p</td>\n",
       "    </tr>\n",
       "    <tr>\n",
       "      <th>2</th>\n",
       "      <td>2386</td>\n",
       "      <td>1273</td>\n",
       "      <td>Es</td>\n",
       "      <td>2014-12-05</td>\n",
       "      <td>480p</td>\n",
       "    </tr>\n",
       "    <tr>\n",
       "      <th>3</th>\n",
       "      <td>2912</td>\n",
       "      <td>986</td>\n",
       "      <td>Es</td>\n",
       "      <td>2014-12-10</td>\n",
       "      <td>240p</td>\n",
       "    </tr>\n",
       "    <tr>\n",
       "      <th>4</th>\n",
       "      <td>2432</td>\n",
       "      <td>1050</td>\n",
       "      <td>Other</td>\n",
       "      <td>2014-12-10</td>\n",
       "      <td>480p</td>\n",
       "    </tr>\n",
       "  </tbody>\n",
       "</table>\n",
       "</div>"
      ],
      "text/plain": [
       "   video_id  video_length video_language video_upload_date video_quality\n",
       "0      2374          1760             Cn        2014-12-06          480p\n",
       "1      1897           489             Cn        2014-12-10          720p\n",
       "2      2386          1273             Es        2014-12-05          480p\n",
       "3      2912           986             Es        2014-12-10          240p\n",
       "4      2432          1050          Other        2014-12-10          480p"
      ]
     },
     "execution_count": 5,
     "metadata": {},
     "output_type": "execute_result"
    }
   ],
   "source": [
    "feature = pd.read_csv('video_features.csv',parse_dates=['video_upload_date'])\n",
    "feature.head()"
   ]
  },
  {
   "cell_type": "code",
   "execution_count": 6,
   "metadata": {
    "ExecuteTime": {
     "end_time": "2020-09-22T15:34:45.118583Z",
     "start_time": "2020-09-22T15:34:45.111754Z"
    }
   },
   "outputs": [
    {
     "name": "stdout",
     "output_type": "stream",
     "text": [
      "video_id has 2785 value\n",
      "video_language has 6 value\n",
      "video_quality has 5 value\n",
      "video_upload_date has 23 value\n"
     ]
    }
   ],
   "source": [
    "return_unique(feature,'video_id')\n",
    "return_unique(feature,'video_language')\n",
    "return_unique(feature,'video_quality')\n",
    "return_unique(feature,'video_upload_date')"
   ]
  },
  {
   "cell_type": "code",
   "execution_count": 7,
   "metadata": {
    "ExecuteTime": {
     "end_time": "2020-09-22T15:34:47.308463Z",
     "start_time": "2020-09-22T15:34:47.300557Z"
    }
   },
   "outputs": [
    {
     "name": "stdout",
     "output_type": "stream",
     "text": [
      "<class 'pandas.core.frame.DataFrame'>\n",
      "RangeIndex: 41775 entries, 0 to 41774\n",
      "Data columns (total 3 columns):\n",
      " #   Column    Non-Null Count  Dtype         \n",
      "---  ------    --------------  -----         \n",
      " 0   video_id  41775 non-null  int64         \n",
      " 1   count     41775 non-null  int64         \n",
      " 2   date      41775 non-null  datetime64[ns]\n",
      "dtypes: datetime64[ns](1), int64(2)\n",
      "memory usage: 979.2 KB\n"
     ]
    }
   ],
   "source": [
    "count.info()"
   ]
  },
  {
   "cell_type": "code",
   "execution_count": 8,
   "metadata": {
    "ExecuteTime": {
     "end_time": "2020-09-22T15:34:49.307865Z",
     "start_time": "2020-09-22T15:34:49.299704Z"
    }
   },
   "outputs": [
    {
     "name": "stdout",
     "output_type": "stream",
     "text": [
      "<class 'pandas.core.frame.DataFrame'>\n",
      "RangeIndex: 2785 entries, 0 to 2784\n",
      "Data columns (total 5 columns):\n",
      " #   Column             Non-Null Count  Dtype         \n",
      "---  ------             --------------  -----         \n",
      " 0   video_id           2785 non-null   int64         \n",
      " 1   video_length       2785 non-null   int64         \n",
      " 2   video_language     2785 non-null   object        \n",
      " 3   video_upload_date  2785 non-null   datetime64[ns]\n",
      " 4   video_quality      2785 non-null   object        \n",
      "dtypes: datetime64[ns](1), int64(2), object(2)\n",
      "memory usage: 108.9+ KB\n"
     ]
    }
   ],
   "source": [
    "feature.info()"
   ]
  },
  {
   "cell_type": "code",
   "execution_count": 9,
   "metadata": {
    "ExecuteTime": {
     "end_time": "2020-09-22T15:34:51.160886Z",
     "start_time": "2020-09-22T15:34:51.135435Z"
    }
   },
   "outputs": [
    {
     "data": {
      "text/html": [
       "<div>\n",
       "<style scoped>\n",
       "    .dataframe tbody tr th:only-of-type {\n",
       "        vertical-align: middle;\n",
       "    }\n",
       "\n",
       "    .dataframe tbody tr th {\n",
       "        vertical-align: top;\n",
       "    }\n",
       "\n",
       "    .dataframe thead th {\n",
       "        text-align: right;\n",
       "    }\n",
       "</style>\n",
       "<table border=\"1\" class=\"dataframe\">\n",
       "  <thead>\n",
       "    <tr style=\"text-align: right;\">\n",
       "      <th></th>\n",
       "      <th>video_id</th>\n",
       "      <th>video_length</th>\n",
       "      <th>video_language</th>\n",
       "      <th>video_upload_date</th>\n",
       "      <th>video_quality</th>\n",
       "      <th>count</th>\n",
       "      <th>watch_date</th>\n",
       "    </tr>\n",
       "  </thead>\n",
       "  <tbody>\n",
       "    <tr>\n",
       "      <th>0</th>\n",
       "      <td>2374</td>\n",
       "      <td>1760</td>\n",
       "      <td>Cn</td>\n",
       "      <td>2014-12-06</td>\n",
       "      <td>480p</td>\n",
       "      <td>233510</td>\n",
       "      <td>2015-01-05</td>\n",
       "    </tr>\n",
       "    <tr>\n",
       "      <th>1</th>\n",
       "      <td>2374</td>\n",
       "      <td>1760</td>\n",
       "      <td>Cn</td>\n",
       "      <td>2014-12-06</td>\n",
       "      <td>480p</td>\n",
       "      <td>115542</td>\n",
       "      <td>2015-01-11</td>\n",
       "    </tr>\n",
       "    <tr>\n",
       "      <th>2</th>\n",
       "      <td>2374</td>\n",
       "      <td>1760</td>\n",
       "      <td>Cn</td>\n",
       "      <td>2014-12-06</td>\n",
       "      <td>480p</td>\n",
       "      <td>64475</td>\n",
       "      <td>2015-01-15</td>\n",
       "    </tr>\n",
       "    <tr>\n",
       "      <th>3</th>\n",
       "      <td>2374</td>\n",
       "      <td>1760</td>\n",
       "      <td>Cn</td>\n",
       "      <td>2014-12-06</td>\n",
       "      <td>480p</td>\n",
       "      <td>128935</td>\n",
       "      <td>2015-01-09</td>\n",
       "    </tr>\n",
       "    <tr>\n",
       "      <th>4</th>\n",
       "      <td>2374</td>\n",
       "      <td>1760</td>\n",
       "      <td>Cn</td>\n",
       "      <td>2014-12-06</td>\n",
       "      <td>480p</td>\n",
       "      <td>84993</td>\n",
       "      <td>2015-01-14</td>\n",
       "    </tr>\n",
       "  </tbody>\n",
       "</table>\n",
       "</div>"
      ],
      "text/plain": [
       "   video_id  video_length video_language video_upload_date video_quality  \\\n",
       "0      2374          1760             Cn        2014-12-06          480p   \n",
       "1      2374          1760             Cn        2014-12-06          480p   \n",
       "2      2374          1760             Cn        2014-12-06          480p   \n",
       "3      2374          1760             Cn        2014-12-06          480p   \n",
       "4      2374          1760             Cn        2014-12-06          480p   \n",
       "\n",
       "    count watch_date  \n",
       "0  233510 2015-01-05  \n",
       "1  115542 2015-01-11  \n",
       "2   64475 2015-01-15  \n",
       "3  128935 2015-01-09  \n",
       "4   84993 2015-01-14  "
      ]
     },
     "execution_count": 9,
     "metadata": {},
     "output_type": "execute_result"
    }
   ],
   "source": [
    "df = pd.merge(feature,count,how = 'right')\n",
    "df.rename(columns = {'date':'watch_date'},inplace = True)\n",
    "df.head()"
   ]
  },
  {
   "cell_type": "code",
   "execution_count": 10,
   "metadata": {
    "ExecuteTime": {
     "end_time": "2020-09-22T15:34:53.596413Z",
     "start_time": "2020-09-22T15:34:53.584957Z"
    }
   },
   "outputs": [
    {
     "name": "stdout",
     "output_type": "stream",
     "text": [
      "<class 'pandas.core.frame.DataFrame'>\n",
      "Int64Index: 41775 entries, 0 to 41774\n",
      "Data columns (total 7 columns):\n",
      " #   Column             Non-Null Count  Dtype         \n",
      "---  ------             --------------  -----         \n",
      " 0   video_id           41775 non-null  int64         \n",
      " 1   video_length       41775 non-null  int64         \n",
      " 2   video_language     41775 non-null  object        \n",
      " 3   video_upload_date  41775 non-null  datetime64[ns]\n",
      " 4   video_quality      41775 non-null  object        \n",
      " 5   count              41775 non-null  int64         \n",
      " 6   watch_date         41775 non-null  datetime64[ns]\n",
      "dtypes: datetime64[ns](2), int64(3), object(2)\n",
      "memory usage: 2.5+ MB\n"
     ]
    }
   ],
   "source": [
    "df.info()"
   ]
  },
  {
   "cell_type": "code",
   "execution_count": 11,
   "metadata": {
    "ExecuteTime": {
     "end_time": "2020-09-22T15:34:56.044377Z",
     "start_time": "2020-09-22T15:34:55.993977Z"
    }
   },
   "outputs": [],
   "source": [
    "# convert seconds to hour \n",
    "df['video_length_in_hour'] = df.video_length/3600"
   ]
  },
  {
   "cell_type": "markdown",
   "metadata": {},
   "source": [
    "# EDA"
   ]
  },
  {
   "cell_type": "code",
   "execution_count": 12,
   "metadata": {
    "ExecuteTime": {
     "end_time": "2020-09-22T15:35:02.915156Z",
     "start_time": "2020-09-22T15:35:02.549711Z"
    }
   },
   "outputs": [
    {
     "data": {
      "image/png": "[encoded data removed]",
      "text/plain": [
       "<Figure size 864x288 with 2 Axes>"
      ]
     },
     "metadata": {
      "needs_background": "dark"
     },
     "output_type": "display_data"
    }
   ],
   "source": [
    "fig,ax= plt.subplots(ncols=2,figsize = (12,4))\n",
    "sns.kdeplot(df.video_length_in_hour, shade=True, ax=ax[0])\n",
    "ax[0].set_title('Video Length Distribution')\n",
    "\n",
    "sns.kdeplot(df.groupby('video_id')['count'].sum(), shade=True, ax=ax[1])\n",
    "ax[1].set_title('Video Play Count Distribution')\n",
    "plt.tight_layout()\n",
    "plt.show()"
   ]
  },
  {
   "cell_type": "code",
   "execution_count": 13,
   "metadata": {
    "ExecuteTime": {
     "end_time": "2020-09-22T15:35:03.971214Z",
     "start_time": "2020-09-22T15:35:03.771050Z"
    }
   },
   "outputs": [
    {
     "data": {
      "text/plain": [
       "<matplotlib.axes._subplots.AxesSubplot at 0x7f810adc4490>"
      ]
     },
     "execution_count": 13,
     "metadata": {},
     "output_type": "execute_result"
    },
    {
     "data": {
      "image/png": "[encoded data removed]",
      "text/plain": [
       "<Figure size 432x288 with 1 Axes>"
      ]
     },
     "metadata": {
      "needs_background": "dark"
     },
     "output_type": "display_data"
    }
   ],
   "source": [
    "sns.boxplot(data = df,x='video_quality',y='count',showfliers = False)"
   ]
  },
  {
   "cell_type": "code",
   "execution_count": 30,
   "metadata": {
    "ExecuteTime": {
     "end_time": "2020-09-22T15:42:38.784540Z",
     "start_time": "2020-09-22T15:42:38.754308Z"
    }
   },
   "outputs": [
    {
     "data": {
      "text/html": [
       "<div>\n",
       "<style scoped>\n",
       "    .dataframe tbody tr th:only-of-type {\n",
       "        vertical-align: middle;\n",
       "    }\n",
       "\n",
       "    .dataframe tbody tr th {\n",
       "        vertical-align: top;\n",
       "    }\n",
       "\n",
       "    .dataframe thead th {\n",
       "        text-align: right;\n",
       "    }\n",
       "</style>\n",
       "<table border=\"1\" class=\"dataframe\">\n",
       "  <thead>\n",
       "    <tr style=\"text-align: right;\">\n",
       "      <th></th>\n",
       "      <th></th>\n",
       "      <th>count</th>\n",
       "    </tr>\n",
       "    <tr>\n",
       "      <th>video_id</th>\n",
       "      <th>watch_date</th>\n",
       "      <th></th>\n",
       "    </tr>\n",
       "  </thead>\n",
       "  <tbody>\n",
       "    <tr>\n",
       "      <th rowspan=\"5\" valign=\"top\">1</th>\n",
       "      <th>2015-01-01</th>\n",
       "      <td>140460</td>\n",
       "    </tr>\n",
       "    <tr>\n",
       "      <th>2015-01-02</th>\n",
       "      <td>129082</td>\n",
       "    </tr>\n",
       "    <tr>\n",
       "      <th>2015-01-03</th>\n",
       "      <td>120868</td>\n",
       "    </tr>\n",
       "    <tr>\n",
       "      <th>2015-01-04</th>\n",
       "      <td>97849</td>\n",
       "    </tr>\n",
       "    <tr>\n",
       "      <th>2015-01-05</th>\n",
       "      <td>94821</td>\n",
       "    </tr>\n",
       "    <tr>\n",
       "      <th>...</th>\n",
       "      <th>...</th>\n",
       "      <td>...</td>\n",
       "    </tr>\n",
       "    <tr>\n",
       "      <th rowspan=\"5\" valign=\"top\">3000</th>\n",
       "      <th>2015-01-11</th>\n",
       "      <td>131871</td>\n",
       "    </tr>\n",
       "    <tr>\n",
       "      <th>2015-01-12</th>\n",
       "      <td>131962</td>\n",
       "    </tr>\n",
       "    <tr>\n",
       "      <th>2015-01-13</th>\n",
       "      <td>126304</td>\n",
       "    </tr>\n",
       "    <tr>\n",
       "      <th>2015-01-14</th>\n",
       "      <td>89758</td>\n",
       "    </tr>\n",
       "    <tr>\n",
       "      <th>2015-01-15</th>\n",
       "      <td>71889</td>\n",
       "    </tr>\n",
       "  </tbody>\n",
       "</table>\n",
       "<p>41775 rows × 1 columns</p>\n",
       "</div>"
      ],
      "text/plain": [
       "                      count\n",
       "video_id watch_date        \n",
       "1        2015-01-01  140460\n",
       "         2015-01-02  129082\n",
       "         2015-01-03  120868\n",
       "         2015-01-04   97849\n",
       "         2015-01-05   94821\n",
       "...                     ...\n",
       "3000     2015-01-11  131871\n",
       "         2015-01-12  131962\n",
       "         2015-01-13  126304\n",
       "         2015-01-14   89758\n",
       "         2015-01-15   71889\n",
       "\n",
       "[41775 rows x 1 columns]"
      ]
     },
     "execution_count": 30,
     "metadata": {},
     "output_type": "execute_result"
    }
   ],
   "source": [
    "df.groupby(['video_id', 'watch_date'])[['count']].sum()"
   ]
  },
  {
   "cell_type": "code",
   "execution_count": 46,
   "metadata": {
    "ExecuteTime": {
     "end_time": "2020-09-22T15:50:05.476385Z",
     "start_time": "2020-09-22T15:50:03.724426Z"
    },
    "scrolled": false
   },
   "outputs": [
    {
     "data": {
      "image/png": "[encoded data removed]",
      "text/plain": [
       "<Figure size 864x288 with 1 Axes>"
      ]
     },
     "metadata": {
      "needs_background": "dark"
     },
     "output_type": "display_data"
    },
    {
     "data": {
      "image/png": "[encoded data removed]",
      "text/plain": [
       "<Figure size 864x288 with 1 Axes>"
      ]
     },
     "metadata": {
      "needs_background": "dark"
     },
     "output_type": "display_data"
    },
    {
     "data": {
      "image/png": "[encoded data removed]",
      "text/plain": [
       "<Figure size 864x288 with 1 Axes>"
      ]
     },
     "metadata": {
      "needs_background": "dark"
     },
     "output_type": "display_data"
    },
    {
     "data": {
      "image/png": "[encoded data removed]",
      "text/plain": [
       "<Figure size 864x288 with 1 Axes>"
      ]
     },
     "metadata": {
      "needs_background": "dark"
     },
     "output_type": "display_data"
    },
    {
     "data": {
      "image/png": "[encoded data removed]",
      "text/plain": [
       "<Figure size 864x288 with 1 Axes>"
      ]
     },
     "metadata": {
      "needs_background": "dark"
     },
     "output_type": "display_data"
    },
    {
     "data": {
      "image/png": "[encoded data removed]",
      "text/plain": [
       "<Figure size 864x288 with 1 Axes>"
      ]
     },
     "metadata": {
      "needs_background": "dark"
     },
     "output_type": "display_data"
    },
    {
     "data": {
      "image/png": "[encoded data removed]",
      "text/plain": [
       "<Figure size 864x288 with 1 Axes>"
      ]
     },
     "metadata": {
      "needs_background": "dark"
     },
     "output_type": "display_data"
    },
    {
     "data": {
      "image/png": "[encoded data removed]",
      "text/plain": [
       "<Figure size 864x288 with 1 Axes>"
      ]
     },
     "metadata": {
      "needs_background": "dark"
     },
     "output_type": "display_data"
    },
    {
     "data": {
      "image/png": "[encoded data removed]",
      "text/plain": [
       "<Figure size 864x288 with 1 Axes>"
      ]
     },
     "metadata": {
      "needs_background": "dark"
     },
     "output_type": "display_data"
    },
    {
     "data": {
      "image/png": "[encoded data removed]",
      "text/plain": [
       "<Figure size 864x288 with 1 Axes>"
      ]
     },
     "metadata": {
      "needs_background": "dark"
     },
     "output_type": "display_data"
    }
   ],
   "source": [
    "for i in range(1,11):\n",
    "    plt.figure(figsize = (12,4))\n",
    "    video_id1 = df[df['video_id']==i]\n",
    "    sns.lineplot(x = video_id1['watch_date'],y=video_id1['count'])"
   ]
  },
  {
   "cell_type": "code",
   "execution_count": 47,
   "metadata": {
    "ExecuteTime": {
     "end_time": "2020-09-22T15:52:16.247291Z",
     "start_time": "2020-09-22T15:52:16.206183Z"
    }
   },
   "outputs": [
    {
     "data": {
      "text/html": [
       "<div>\n",
       "<style scoped>\n",
       "    .dataframe tbody tr th:only-of-type {\n",
       "        vertical-align: middle;\n",
       "    }\n",
       "\n",
       "    .dataframe tbody tr th {\n",
       "        vertical-align: top;\n",
       "    }\n",
       "\n",
       "    .dataframe thead th {\n",
       "        text-align: right;\n",
       "    }\n",
       "</style>\n",
       "<table border=\"1\" class=\"dataframe\">\n",
       "  <thead>\n",
       "    <tr style=\"text-align: right;\">\n",
       "      <th></th>\n",
       "      <th>video_id</th>\n",
       "      <th>video_length</th>\n",
       "      <th>video_language</th>\n",
       "      <th>video_upload_date</th>\n",
       "      <th>video_quality</th>\n",
       "      <th>count</th>\n",
       "      <th>watch_date</th>\n",
       "      <th>video_length_in_hour</th>\n",
       "    </tr>\n",
       "  </thead>\n",
       "  <tbody>\n",
       "    <tr>\n",
       "      <th>8</th>\n",
       "      <td>2374</td>\n",
       "      <td>1760</td>\n",
       "      <td>Cn</td>\n",
       "      <td>2014-12-06</td>\n",
       "      <td>480p</td>\n",
       "      <td>357963</td>\n",
       "      <td>2015-01-01</td>\n",
       "      <td>0.488889</td>\n",
       "    </tr>\n",
       "    <tr>\n",
       "      <th>22</th>\n",
       "      <td>1897</td>\n",
       "      <td>489</td>\n",
       "      <td>Cn</td>\n",
       "      <td>2014-12-10</td>\n",
       "      <td>720p</td>\n",
       "      <td>2133032</td>\n",
       "      <td>2015-01-01</td>\n",
       "      <td>0.135833</td>\n",
       "    </tr>\n",
       "    <tr>\n",
       "      <th>42</th>\n",
       "      <td>2386</td>\n",
       "      <td>1273</td>\n",
       "      <td>Es</td>\n",
       "      <td>2014-12-05</td>\n",
       "      <td>480p</td>\n",
       "      <td>1838799</td>\n",
       "      <td>2015-01-01</td>\n",
       "      <td>0.353611</td>\n",
       "    </tr>\n",
       "    <tr>\n",
       "      <th>52</th>\n",
       "      <td>2912</td>\n",
       "      <td>986</td>\n",
       "      <td>Es</td>\n",
       "      <td>2014-12-10</td>\n",
       "      <td>240p</td>\n",
       "      <td>831198</td>\n",
       "      <td>2015-01-01</td>\n",
       "      <td>0.273889</td>\n",
       "    </tr>\n",
       "    <tr>\n",
       "      <th>68</th>\n",
       "      <td>2432</td>\n",
       "      <td>1050</td>\n",
       "      <td>Other</td>\n",
       "      <td>2014-12-10</td>\n",
       "      <td>480p</td>\n",
       "      <td>329759</td>\n",
       "      <td>2015-01-01</td>\n",
       "      <td>0.291667</td>\n",
       "    </tr>\n",
       "    <tr>\n",
       "      <th>...</th>\n",
       "      <td>...</td>\n",
       "      <td>...</td>\n",
       "      <td>...</td>\n",
       "      <td>...</td>\n",
       "      <td>...</td>\n",
       "      <td>...</td>\n",
       "      <td>...</td>\n",
       "      <td>...</td>\n",
       "    </tr>\n",
       "    <tr>\n",
       "      <th>41708</th>\n",
       "      <td>3</td>\n",
       "      <td>807</td>\n",
       "      <td>En</td>\n",
       "      <td>2014-12-15</td>\n",
       "      <td>1080p</td>\n",
       "      <td>2386683</td>\n",
       "      <td>2015-01-01</td>\n",
       "      <td>0.224167</td>\n",
       "    </tr>\n",
       "    <tr>\n",
       "      <th>41716</th>\n",
       "      <td>588</td>\n",
       "      <td>370</td>\n",
       "      <td>Es</td>\n",
       "      <td>2014-12-09</td>\n",
       "      <td>720p</td>\n",
       "      <td>198</td>\n",
       "      <td>2015-01-01</td>\n",
       "      <td>0.102778</td>\n",
       "    </tr>\n",
       "    <tr>\n",
       "      <th>41742</th>\n",
       "      <td>1209</td>\n",
       "      <td>1491</td>\n",
       "      <td>Other</td>\n",
       "      <td>2014-12-08</td>\n",
       "      <td>480p</td>\n",
       "      <td>1185812</td>\n",
       "      <td>2015-01-01</td>\n",
       "      <td>0.414167</td>\n",
       "    </tr>\n",
       "    <tr>\n",
       "      <th>41749</th>\n",
       "      <td>1940</td>\n",
       "      <td>155</td>\n",
       "      <td>En</td>\n",
       "      <td>2014-12-18</td>\n",
       "      <td>720p</td>\n",
       "      <td>7347</td>\n",
       "      <td>2015-01-01</td>\n",
       "      <td>0.043056</td>\n",
       "    </tr>\n",
       "    <tr>\n",
       "      <th>41764</th>\n",
       "      <td>1372</td>\n",
       "      <td>262</td>\n",
       "      <td>Cn</td>\n",
       "      <td>2014-12-16</td>\n",
       "      <td>360p</td>\n",
       "      <td>2028437</td>\n",
       "      <td>2015-01-01</td>\n",
       "      <td>0.072778</td>\n",
       "    </tr>\n",
       "  </tbody>\n",
       "</table>\n",
       "<p>2785 rows × 8 columns</p>\n",
       "</div>"
      ],
      "text/plain": [
       "       video_id  video_length video_language video_upload_date video_quality  \\\n",
       "8          2374          1760             Cn        2014-12-06          480p   \n",
       "22         1897           489             Cn        2014-12-10          720p   \n",
       "42         2386          1273             Es        2014-12-05          480p   \n",
       "52         2912           986             Es        2014-12-10          240p   \n",
       "68         2432          1050          Other        2014-12-10          480p   \n",
       "...         ...           ...            ...               ...           ...   \n",
       "41708         3           807             En        2014-12-15         1080p   \n",
       "41716       588           370             Es        2014-12-09          720p   \n",
       "41742      1209          1491          Other        2014-12-08          480p   \n",
       "41749      1940           155             En        2014-12-18          720p   \n",
       "41764      1372           262             Cn        2014-12-16          360p   \n",
       "\n",
       "         count watch_date  video_length_in_hour  \n",
       "8       357963 2015-01-01              0.488889  \n",
       "22     2133032 2015-01-01              0.135833  \n",
       "42     1838799 2015-01-01              0.353611  \n",
       "52      831198 2015-01-01              0.273889  \n",
       "68      329759 2015-01-01              0.291667  \n",
       "...        ...        ...                   ...  \n",
       "41708  2386683 2015-01-01              0.224167  \n",
       "41716      198 2015-01-01              0.102778  \n",
       "41742  1185812 2015-01-01              0.414167  \n",
       "41749     7347 2015-01-01              0.043056  \n",
       "41764  2028437 2015-01-01              0.072778  \n",
       "\n",
       "[2785 rows x 8 columns]"
      ]
     },
     "execution_count": 47,
     "metadata": {},
     "output_type": "execute_result"
    }
   ],
   "source": [
    "df[df['watch_date']=='2015-01-01']"
   ]
  },
  {
   "cell_type": "code",
   "execution_count": 104,
   "metadata": {
    "ExecuteTime": {
     "end_time": "2020-09-22T16:24:29.253132Z",
     "start_time": "2020-09-22T16:24:29.232790Z"
    }
   },
   "outputs": [
    {
     "data": {
      "text/html": [
       "<div>\n",
       "<style scoped>\n",
       "    .dataframe tbody tr th:only-of-type {\n",
       "        vertical-align: middle;\n",
       "    }\n",
       "\n",
       "    .dataframe tbody tr th {\n",
       "        vertical-align: top;\n",
       "    }\n",
       "\n",
       "    .dataframe thead th {\n",
       "        text-align: right;\n",
       "    }\n",
       "</style>\n",
       "<table border=\"1\" class=\"dataframe\">\n",
       "  <thead>\n",
       "    <tr style=\"text-align: right;\">\n",
       "      <th></th>\n",
       "      <th>video_id</th>\n",
       "      <th>first_day_count</th>\n",
       "      <th>last_day_count</th>\n",
       "    </tr>\n",
       "  </thead>\n",
       "  <tbody>\n",
       "    <tr>\n",
       "      <th>0</th>\n",
       "      <td>2374</td>\n",
       "      <td>357963</td>\n",
       "      <td>64475</td>\n",
       "    </tr>\n",
       "    <tr>\n",
       "      <th>1</th>\n",
       "      <td>1897</td>\n",
       "      <td>2133032</td>\n",
       "      <td>1339374</td>\n",
       "    </tr>\n",
       "    <tr>\n",
       "      <th>2</th>\n",
       "      <td>2386</td>\n",
       "      <td>1838799</td>\n",
       "      <td>230311</td>\n",
       "    </tr>\n",
       "    <tr>\n",
       "      <th>3</th>\n",
       "      <td>2912</td>\n",
       "      <td>831198</td>\n",
       "      <td>76578</td>\n",
       "    </tr>\n",
       "    <tr>\n",
       "      <th>4</th>\n",
       "      <td>2432</td>\n",
       "      <td>329759</td>\n",
       "      <td>83427</td>\n",
       "    </tr>\n",
       "    <tr>\n",
       "      <th>...</th>\n",
       "      <td>...</td>\n",
       "      <td>...</td>\n",
       "      <td>...</td>\n",
       "    </tr>\n",
       "    <tr>\n",
       "      <th>2780</th>\n",
       "      <td>3</td>\n",
       "      <td>2386683</td>\n",
       "      <td>2653063</td>\n",
       "    </tr>\n",
       "    <tr>\n",
       "      <th>2781</th>\n",
       "      <td>588</td>\n",
       "      <td>198</td>\n",
       "      <td>112</td>\n",
       "    </tr>\n",
       "    <tr>\n",
       "      <th>2782</th>\n",
       "      <td>1209</td>\n",
       "      <td>1185812</td>\n",
       "      <td>305453</td>\n",
       "    </tr>\n",
       "    <tr>\n",
       "      <th>2783</th>\n",
       "      <td>1940</td>\n",
       "      <td>7347</td>\n",
       "      <td>1884276</td>\n",
       "    </tr>\n",
       "    <tr>\n",
       "      <th>2784</th>\n",
       "      <td>1372</td>\n",
       "      <td>2028437</td>\n",
       "      <td>1824030</td>\n",
       "    </tr>\n",
       "  </tbody>\n",
       "</table>\n",
       "<p>2785 rows × 3 columns</p>\n",
       "</div>"
      ],
      "text/plain": [
       "      video_id  first_day_count  last_day_count\n",
       "0         2374           357963           64475\n",
       "1         1897          2133032         1339374\n",
       "2         2386          1838799          230311\n",
       "3         2912           831198           76578\n",
       "4         2432           329759           83427\n",
       "...        ...              ...             ...\n",
       "2780         3          2386683         2653063\n",
       "2781       588              198             112\n",
       "2782      1209          1185812          305453\n",
       "2783      1940             7347         1884276\n",
       "2784      1372          2028437         1824030\n",
       "\n",
       "[2785 rows x 3 columns]"
      ]
     },
     "execution_count": 104,
     "metadata": {},
     "output_type": "execute_result"
    }
   ],
   "source": [
    "first_watch_date = df[df['watch_date'] == '2015-01-01'][['video_id', 'count']]\n",
    "last_watch_date = df[df['watch_date'] == '2015-01-15'][['video_id', 'count']]\n",
    "df1 = pd.merge(first_watch_date, last_watch_date, on='video_id')\n",
    "df1.rename(columns={\n",
    "    'count_x': 'first_day_count',\n",
    "    'count_y': 'last_day_count'\n",
    "},\n",
    "           inplace=True)\n",
    "df1"
   ]
  },
  {
   "cell_type": "code",
   "execution_count": 105,
   "metadata": {
    "ExecuteTime": {
     "end_time": "2020-09-22T16:24:31.925842Z",
     "start_time": "2020-09-22T16:24:31.921631Z"
    }
   },
   "outputs": [],
   "source": [
    "df1['increase_watching_count'] = df1['last_day_count']-df1['first_day_count']"
   ]
  },
  {
   "cell_type": "code",
   "execution_count": 106,
   "metadata": {
    "ExecuteTime": {
     "end_time": "2020-09-22T16:24:34.827039Z",
     "start_time": "2020-09-22T16:24:34.814345Z"
    }
   },
   "outputs": [
    {
     "data": {
      "text/html": [
       "<div>\n",
       "<style scoped>\n",
       "    .dataframe tbody tr th:only-of-type {\n",
       "        vertical-align: middle;\n",
       "    }\n",
       "\n",
       "    .dataframe tbody tr th {\n",
       "        vertical-align: top;\n",
       "    }\n",
       "\n",
       "    .dataframe thead th {\n",
       "        text-align: right;\n",
       "    }\n",
       "</style>\n",
       "<table border=\"1\" class=\"dataframe\">\n",
       "  <thead>\n",
       "    <tr style=\"text-align: right;\">\n",
       "      <th></th>\n",
       "      <th>video_id</th>\n",
       "      <th>first_day_count</th>\n",
       "      <th>last_day_count</th>\n",
       "      <th>increase_watching_count</th>\n",
       "    </tr>\n",
       "  </thead>\n",
       "  <tbody>\n",
       "    <tr>\n",
       "      <th>575</th>\n",
       "      <td>1</td>\n",
       "      <td>140460</td>\n",
       "      <td>19382</td>\n",
       "      <td>-121078</td>\n",
       "    </tr>\n",
       "    <tr>\n",
       "      <th>2604</th>\n",
       "      <td>2</td>\n",
       "      <td>2011096</td>\n",
       "      <td>1605905</td>\n",
       "      <td>-405191</td>\n",
       "    </tr>\n",
       "    <tr>\n",
       "      <th>2780</th>\n",
       "      <td>3</td>\n",
       "      <td>2386683</td>\n",
       "      <td>2653063</td>\n",
       "      <td>266380</td>\n",
       "    </tr>\n",
       "    <tr>\n",
       "      <th>102</th>\n",
       "      <td>4</td>\n",
       "      <td>2553866</td>\n",
       "      <td>2941741</td>\n",
       "      <td>387875</td>\n",
       "    </tr>\n",
       "    <tr>\n",
       "      <th>1997</th>\n",
       "      <td>5</td>\n",
       "      <td>983058</td>\n",
       "      <td>169730</td>\n",
       "      <td>-813328</td>\n",
       "    </tr>\n",
       "    <tr>\n",
       "      <th>...</th>\n",
       "      <td>...</td>\n",
       "      <td>...</td>\n",
       "      <td>...</td>\n",
       "      <td>...</td>\n",
       "    </tr>\n",
       "    <tr>\n",
       "      <th>428</th>\n",
       "      <td>2996</td>\n",
       "      <td>273800</td>\n",
       "      <td>43105</td>\n",
       "      <td>-230695</td>\n",
       "    </tr>\n",
       "    <tr>\n",
       "      <th>1876</th>\n",
       "      <td>2997</td>\n",
       "      <td>1491540</td>\n",
       "      <td>2076871</td>\n",
       "      <td>585331</td>\n",
       "    </tr>\n",
       "    <tr>\n",
       "      <th>1278</th>\n",
       "      <td>2998</td>\n",
       "      <td>33</td>\n",
       "      <td>20</td>\n",
       "      <td>-13</td>\n",
       "    </tr>\n",
       "    <tr>\n",
       "      <th>1988</th>\n",
       "      <td>2999</td>\n",
       "      <td>4437</td>\n",
       "      <td>730</td>\n",
       "      <td>-3707</td>\n",
       "    </tr>\n",
       "    <tr>\n",
       "      <th>1178</th>\n",
       "      <td>3000</td>\n",
       "      <td>585606</td>\n",
       "      <td>71889</td>\n",
       "      <td>-513717</td>\n",
       "    </tr>\n",
       "  </tbody>\n",
       "</table>\n",
       "<p>2785 rows × 4 columns</p>\n",
       "</div>"
      ],
      "text/plain": [
       "      video_id  first_day_count  last_day_count  increase_watching_count\n",
       "575          1           140460           19382                  -121078\n",
       "2604         2          2011096         1605905                  -405191\n",
       "2780         3          2386683         2653063                   266380\n",
       "102          4          2553866         2941741                   387875\n",
       "1997         5           983058          169730                  -813328\n",
       "...        ...              ...             ...                      ...\n",
       "428       2996           273800           43105                  -230695\n",
       "1876      2997          1491540         2076871                   585331\n",
       "1278      2998               33              20                      -13\n",
       "1988      2999             4437             730                    -3707\n",
       "1178      3000           585606           71889                  -513717\n",
       "\n",
       "[2785 rows x 4 columns]"
      ]
     },
     "execution_count": 106,
     "metadata": {},
     "output_type": "execute_result"
    }
   ],
   "source": [
    "df1.sort_values(by = 'video_id')"
   ]
  },
  {
   "cell_type": "code",
   "execution_count": 108,
   "metadata": {
    "ExecuteTime": {
     "end_time": "2020-09-22T16:24:39.603421Z",
     "start_time": "2020-09-22T16:24:39.435416Z"
    }
   },
   "outputs": [
    {
     "data": {
      "text/plain": [
       "<matplotlib.axes._subplots.AxesSubplot at 0x7f80ee697790>"
      ]
     },
     "execution_count": 108,
     "metadata": {},
     "output_type": "execute_result"
    },
    {
     "data": {
      "image/png": "[encoded data removed]",
      "text/plain": [
       "<Figure size 432x288 with 1 Axes>"
      ]
     },
     "metadata": {
      "needs_background": "dark"
     },
     "output_type": "display_data"
    }
   ],
   "source": [
    "sns.kdeplot(df1['increase_watching_count'], shade=True)"
   ]
  },
  {
   "cell_type": "code",
   "execution_count": 109,
   "metadata": {
    "ExecuteTime": {
     "end_time": "2020-09-22T16:24:49.977351Z",
     "start_time": "2020-09-22T16:24:49.967433Z"
    }
   },
   "outputs": [
    {
     "data": {
      "text/plain": [
       "count    2.785000e+03\n",
       "mean    -1.546527e+05\n",
       "std      6.284170e+05\n",
       "min     -2.682614e+06\n",
       "25%     -3.663540e+05\n",
       "50%     -1.319300e+04\n",
       "75%      3.544200e+04\n",
       "max      6.055390e+06\n",
       "Name: increase_watching_count, dtype: float64"
      ]
     },
     "execution_count": 109,
     "metadata": {},
     "output_type": "execute_result"
    }
   ],
   "source": [
    "df1['increase_watching_count'].describe()"
   ]
  },
  {
   "cell_type": "code",
   "execution_count": 112,
   "metadata": {
    "ExecuteTime": {
     "end_time": "2020-09-22T16:27:00.297502Z",
     "start_time": "2020-09-22T16:27:00.294398Z"
    }
   },
   "outputs": [],
   "source": [
    "bins = [-float(\"inf\"),-3.663540e+05,3.544200e+04,float(\"inf\")]"
   ]
  },
  {
   "cell_type": "code",
   "execution_count": 113,
   "metadata": {
    "ExecuteTime": {
     "end_time": "2020-09-22T16:27:01.205057Z",
     "start_time": "2020-09-22T16:27:01.187491Z"
    }
   },
   "outputs": [
    {
     "data": {
      "text/html": [
       "<div>\n",
       "<style scoped>\n",
       "    .dataframe tbody tr th:only-of-type {\n",
       "        vertical-align: middle;\n",
       "    }\n",
       "\n",
       "    .dataframe tbody tr th {\n",
       "        vertical-align: top;\n",
       "    }\n",
       "\n",
       "    .dataframe thead th {\n",
       "        text-align: right;\n",
       "    }\n",
       "</style>\n",
       "<table border=\"1\" class=\"dataframe\">\n",
       "  <thead>\n",
       "    <tr style=\"text-align: right;\">\n",
       "      <th></th>\n",
       "      <th>video_id</th>\n",
       "      <th>first_day_count</th>\n",
       "      <th>last_day_count</th>\n",
       "      <th>increase_watching_count</th>\n",
       "      <th>label</th>\n",
       "    </tr>\n",
       "  </thead>\n",
       "  <tbody>\n",
       "    <tr>\n",
       "      <th>575</th>\n",
       "      <td>1</td>\n",
       "      <td>140460</td>\n",
       "      <td>19382</td>\n",
       "      <td>-121078</td>\n",
       "      <td>Stable and Popular</td>\n",
       "    </tr>\n",
       "    <tr>\n",
       "      <th>2604</th>\n",
       "      <td>2</td>\n",
       "      <td>2011096</td>\n",
       "      <td>1605905</td>\n",
       "      <td>-405191</td>\n",
       "      <td>everything else</td>\n",
       "    </tr>\n",
       "    <tr>\n",
       "      <th>2780</th>\n",
       "      <td>3</td>\n",
       "      <td>2386683</td>\n",
       "      <td>2653063</td>\n",
       "      <td>266380</td>\n",
       "      <td>Hot</td>\n",
       "    </tr>\n",
       "    <tr>\n",
       "      <th>102</th>\n",
       "      <td>4</td>\n",
       "      <td>2553866</td>\n",
       "      <td>2941741</td>\n",
       "      <td>387875</td>\n",
       "      <td>Hot</td>\n",
       "    </tr>\n",
       "    <tr>\n",
       "      <th>1997</th>\n",
       "      <td>5</td>\n",
       "      <td>983058</td>\n",
       "      <td>169730</td>\n",
       "      <td>-813328</td>\n",
       "      <td>everything else</td>\n",
       "    </tr>\n",
       "    <tr>\n",
       "      <th>...</th>\n",
       "      <td>...</td>\n",
       "      <td>...</td>\n",
       "      <td>...</td>\n",
       "      <td>...</td>\n",
       "      <td>...</td>\n",
       "    </tr>\n",
       "    <tr>\n",
       "      <th>428</th>\n",
       "      <td>2996</td>\n",
       "      <td>273800</td>\n",
       "      <td>43105</td>\n",
       "      <td>-230695</td>\n",
       "      <td>Stable and Popular</td>\n",
       "    </tr>\n",
       "    <tr>\n",
       "      <th>1876</th>\n",
       "      <td>2997</td>\n",
       "      <td>1491540</td>\n",
       "      <td>2076871</td>\n",
       "      <td>585331</td>\n",
       "      <td>Hot</td>\n",
       "    </tr>\n",
       "    <tr>\n",
       "      <th>1278</th>\n",
       "      <td>2998</td>\n",
       "      <td>33</td>\n",
       "      <td>20</td>\n",
       "      <td>-13</td>\n",
       "      <td>Stable and Popular</td>\n",
       "    </tr>\n",
       "    <tr>\n",
       "      <th>1988</th>\n",
       "      <td>2999</td>\n",
       "      <td>4437</td>\n",
       "      <td>730</td>\n",
       "      <td>-3707</td>\n",
       "      <td>Stable and Popular</td>\n",
       "    </tr>\n",
       "    <tr>\n",
       "      <th>1178</th>\n",
       "      <td>3000</td>\n",
       "      <td>585606</td>\n",
       "      <td>71889</td>\n",
       "      <td>-513717</td>\n",
       "      <td>everything else</td>\n",
       "    </tr>\n",
       "  </tbody>\n",
       "</table>\n",
       "<p>2785 rows × 5 columns</p>\n",
       "</div>"
      ],
      "text/plain": [
       "      video_id  first_day_count  last_day_count  increase_watching_count  \\\n",
       "575          1           140460           19382                  -121078   \n",
       "2604         2          2011096         1605905                  -405191   \n",
       "2780         3          2386683         2653063                   266380   \n",
       "102          4          2553866         2941741                   387875   \n",
       "1997         5           983058          169730                  -813328   \n",
       "...        ...              ...             ...                      ...   \n",
       "428       2996           273800           43105                  -230695   \n",
       "1876      2997          1491540         2076871                   585331   \n",
       "1278      2998               33              20                      -13   \n",
       "1988      2999             4437             730                    -3707   \n",
       "1178      3000           585606           71889                  -513717   \n",
       "\n",
       "                   label  \n",
       "575   Stable and Popular  \n",
       "2604     everything else  \n",
       "2780                 Hot  \n",
       "102                  Hot  \n",
       "1997     everything else  \n",
       "...                  ...  \n",
       "428   Stable and Popular  \n",
       "1876                 Hot  \n",
       "1278  Stable and Popular  \n",
       "1988  Stable and Popular  \n",
       "1178     everything else  \n",
       "\n",
       "[2785 rows x 5 columns]"
      ]
     },
     "execution_count": 113,
     "metadata": {},
     "output_type": "execute_result"
    }
   ],
   "source": [
    "df1['label'] = pd.cut(df1['increase_watching_count'],\n",
    "                     bins=bins,\n",
    "                     labels=['everything else', 'Stable and Popular', 'Hot'])\n",
    "df1.sort_values('video_id')"
   ]
  },
  {
   "cell_type": "code",
   "execution_count": 114,
   "metadata": {
    "ExecuteTime": {
     "end_time": "2020-09-22T16:27:24.947751Z",
     "start_time": "2020-09-22T16:27:24.827533Z"
    }
   },
   "outputs": [
    {
     "data": {
      "text/plain": [
       "<matplotlib.axes._subplots.AxesSubplot at 0x7f80ef556cd0>"
      ]
     },
     "execution_count": 114,
     "metadata": {},
     "output_type": "execute_result"
    },
    {
     "data": {
      "image/png": "[encoded data removed]",
      "text/plain": [
       "<Figure size 432x288 with 1 Axes>"
      ]
     },
     "metadata": {
      "needs_background": "dark"
     },
     "output_type": "display_data"
    }
   ],
   "source": [
    "sns.countplot(df1['label'])"
   ]
  },
  {
   "cell_type": "code",
   "execution_count": 123,
   "metadata": {
    "ExecuteTime": {
     "end_time": "2020-09-22T16:40:07.707730Z",
     "start_time": "2020-09-22T16:40:07.684606Z"
    }
   },
   "outputs": [
    {
     "data": {
      "text/html": [
       "<div>\n",
       "<style scoped>\n",
       "    .dataframe tbody tr th:only-of-type {\n",
       "        vertical-align: middle;\n",
       "    }\n",
       "\n",
       "    .dataframe tbody tr th {\n",
       "        vertical-align: top;\n",
       "    }\n",
       "\n",
       "    .dataframe thead th {\n",
       "        text-align: right;\n",
       "    }\n",
       "</style>\n",
       "<table border=\"1\" class=\"dataframe\">\n",
       "  <thead>\n",
       "    <tr style=\"text-align: right;\">\n",
       "      <th></th>\n",
       "      <th>video_id</th>\n",
       "      <th>video_length</th>\n",
       "      <th>video_language</th>\n",
       "      <th>video_upload_date</th>\n",
       "      <th>video_quality</th>\n",
       "      <th>label</th>\n",
       "    </tr>\n",
       "  </thead>\n",
       "  <tbody>\n",
       "    <tr>\n",
       "      <th>0</th>\n",
       "      <td>2374</td>\n",
       "      <td>1760</td>\n",
       "      <td>Cn</td>\n",
       "      <td>2014-12-06</td>\n",
       "      <td>480p</td>\n",
       "      <td>Stable and Popular</td>\n",
       "    </tr>\n",
       "    <tr>\n",
       "      <th>1</th>\n",
       "      <td>1897</td>\n",
       "      <td>489</td>\n",
       "      <td>Cn</td>\n",
       "      <td>2014-12-10</td>\n",
       "      <td>720p</td>\n",
       "      <td>everything else</td>\n",
       "    </tr>\n",
       "    <tr>\n",
       "      <th>2</th>\n",
       "      <td>2386</td>\n",
       "      <td>1273</td>\n",
       "      <td>Es</td>\n",
       "      <td>2014-12-05</td>\n",
       "      <td>480p</td>\n",
       "      <td>everything else</td>\n",
       "    </tr>\n",
       "    <tr>\n",
       "      <th>3</th>\n",
       "      <td>2912</td>\n",
       "      <td>986</td>\n",
       "      <td>Es</td>\n",
       "      <td>2014-12-10</td>\n",
       "      <td>240p</td>\n",
       "      <td>everything else</td>\n",
       "    </tr>\n",
       "    <tr>\n",
       "      <th>4</th>\n",
       "      <td>2432</td>\n",
       "      <td>1050</td>\n",
       "      <td>Other</td>\n",
       "      <td>2014-12-10</td>\n",
       "      <td>480p</td>\n",
       "      <td>Stable and Popular</td>\n",
       "    </tr>\n",
       "    <tr>\n",
       "      <th>...</th>\n",
       "      <td>...</td>\n",
       "      <td>...</td>\n",
       "      <td>...</td>\n",
       "      <td>...</td>\n",
       "      <td>...</td>\n",
       "      <td>...</td>\n",
       "    </tr>\n",
       "    <tr>\n",
       "      <th>2780</th>\n",
       "      <td>3</td>\n",
       "      <td>807</td>\n",
       "      <td>En</td>\n",
       "      <td>2014-12-15</td>\n",
       "      <td>1080p</td>\n",
       "      <td>Hot</td>\n",
       "    </tr>\n",
       "    <tr>\n",
       "      <th>2781</th>\n",
       "      <td>588</td>\n",
       "      <td>370</td>\n",
       "      <td>Es</td>\n",
       "      <td>2014-12-09</td>\n",
       "      <td>720p</td>\n",
       "      <td>Stable and Popular</td>\n",
       "    </tr>\n",
       "    <tr>\n",
       "      <th>2782</th>\n",
       "      <td>1209</td>\n",
       "      <td>1491</td>\n",
       "      <td>Other</td>\n",
       "      <td>2014-12-08</td>\n",
       "      <td>480p</td>\n",
       "      <td>everything else</td>\n",
       "    </tr>\n",
       "    <tr>\n",
       "      <th>2783</th>\n",
       "      <td>1940</td>\n",
       "      <td>155</td>\n",
       "      <td>En</td>\n",
       "      <td>2014-12-18</td>\n",
       "      <td>720p</td>\n",
       "      <td>Hot</td>\n",
       "    </tr>\n",
       "    <tr>\n",
       "      <th>2784</th>\n",
       "      <td>1372</td>\n",
       "      <td>262</td>\n",
       "      <td>Cn</td>\n",
       "      <td>2014-12-16</td>\n",
       "      <td>360p</td>\n",
       "      <td>Stable and Popular</td>\n",
       "    </tr>\n",
       "  </tbody>\n",
       "</table>\n",
       "<p>2785 rows × 6 columns</p>\n",
       "</div>"
      ],
      "text/plain": [
       "      video_id  video_length video_language video_upload_date video_quality  \\\n",
       "0         2374          1760             Cn        2014-12-06          480p   \n",
       "1         1897           489             Cn        2014-12-10          720p   \n",
       "2         2386          1273             Es        2014-12-05          480p   \n",
       "3         2912           986             Es        2014-12-10          240p   \n",
       "4         2432          1050          Other        2014-12-10          480p   \n",
       "...        ...           ...            ...               ...           ...   \n",
       "2780         3           807             En        2014-12-15         1080p   \n",
       "2781       588           370             Es        2014-12-09          720p   \n",
       "2782      1209          1491          Other        2014-12-08          480p   \n",
       "2783      1940           155             En        2014-12-18          720p   \n",
       "2784      1372           262             Cn        2014-12-16          360p   \n",
       "\n",
       "                   label  \n",
       "0     Stable and Popular  \n",
       "1        everything else  \n",
       "2        everything else  \n",
       "3        everything else  \n",
       "4     Stable and Popular  \n",
       "...                  ...  \n",
       "2780                 Hot  \n",
       "2781  Stable and Popular  \n",
       "2782     everything else  \n",
       "2783                 Hot  \n",
       "2784  Stable and Popular  \n",
       "\n",
       "[2785 rows x 6 columns]"
      ]
     },
     "execution_count": 123,
     "metadata": {},
     "output_type": "execute_result"
    }
   ],
   "source": [
    "df2 = pd.merge(feature,df1[['video_id','label']])\n",
    "df2"
   ]
  },
  {
   "cell_type": "code",
   "execution_count": 124,
   "metadata": {
    "ExecuteTime": {
     "end_time": "2020-09-22T16:40:12.463720Z",
     "start_time": "2020-09-22T16:40:12.455487Z"
    }
   },
   "outputs": [
    {
     "name": "stdout",
     "output_type": "stream",
     "text": [
      "<class 'pandas.core.frame.DataFrame'>\n",
      "Int64Index: 2785 entries, 0 to 2784\n",
      "Data columns (total 6 columns):\n",
      " #   Column             Non-Null Count  Dtype         \n",
      "---  ------             --------------  -----         \n",
      " 0   video_id           2785 non-null   int64         \n",
      " 1   video_length       2785 non-null   int64         \n",
      " 2   video_language     2785 non-null   object        \n",
      " 3   video_upload_date  2785 non-null   datetime64[ns]\n",
      " 4   video_quality      2785 non-null   object        \n",
      " 5   label              2785 non-null   category      \n",
      "dtypes: category(1), datetime64[ns](1), int64(2), object(2)\n",
      "memory usage: 133.4+ KB\n"
     ]
    }
   ],
   "source": [
    "df2.info()"
   ]
  },
  {
   "cell_type": "code",
   "execution_count": 125,
   "metadata": {
    "ExecuteTime": {
     "end_time": "2020-09-22T16:40:18.706534Z",
     "start_time": "2020-09-22T16:40:18.694781Z"
    }
   },
   "outputs": [
    {
     "data": {
      "text/html": [
       "<div>\n",
       "<style scoped>\n",
       "    .dataframe tbody tr th:only-of-type {\n",
       "        vertical-align: middle;\n",
       "    }\n",
       "\n",
       "    .dataframe tbody tr th {\n",
       "        vertical-align: top;\n",
       "    }\n",
       "\n",
       "    .dataframe thead th {\n",
       "        text-align: right;\n",
       "    }\n",
       "</style>\n",
       "<table border=\"1\" class=\"dataframe\">\n",
       "  <thead>\n",
       "    <tr style=\"text-align: right;\">\n",
       "      <th></th>\n",
       "      <th>video_id</th>\n",
       "      <th>video_length</th>\n",
       "      <th>video_language</th>\n",
       "      <th>video_upload_date</th>\n",
       "      <th>video_quality</th>\n",
       "      <th>label</th>\n",
       "    </tr>\n",
       "  </thead>\n",
       "  <tbody>\n",
       "    <tr>\n",
       "      <th>19</th>\n",
       "      <td>611</td>\n",
       "      <td>189</td>\n",
       "      <td>Other</td>\n",
       "      <td>2014-12-18</td>\n",
       "      <td>720p</td>\n",
       "      <td>Hot</td>\n",
       "    </tr>\n",
       "    <tr>\n",
       "      <th>20</th>\n",
       "      <td>982</td>\n",
       "      <td>726</td>\n",
       "      <td>Es</td>\n",
       "      <td>2014-12-18</td>\n",
       "      <td>720p</td>\n",
       "      <td>Hot</td>\n",
       "    </tr>\n",
       "    <tr>\n",
       "      <th>23</th>\n",
       "      <td>2154</td>\n",
       "      <td>406</td>\n",
       "      <td>Cn</td>\n",
       "      <td>2014-12-12</td>\n",
       "      <td>720p</td>\n",
       "      <td>Hot</td>\n",
       "    </tr>\n",
       "  </tbody>\n",
       "</table>\n",
       "</div>"
      ],
      "text/plain": [
       "    video_id  video_length video_language video_upload_date video_quality  \\\n",
       "19       611           189          Other        2014-12-18          720p   \n",
       "20       982           726             Es        2014-12-18          720p   \n",
       "23      2154           406             Cn        2014-12-12          720p   \n",
       "\n",
       "   label  \n",
       "19   Hot  \n",
       "20   Hot  \n",
       "23   Hot  "
      ]
     },
     "execution_count": 125,
     "metadata": {},
     "output_type": "execute_result"
    }
   ],
   "source": [
    "hot = df2[df2['label']=='Hot']\n",
    "hot.head(3)"
   ]
  },
  {
   "cell_type": "code",
   "execution_count": 145,
   "metadata": {
    "ExecuteTime": {
     "end_time": "2020-09-22T16:47:11.413361Z",
     "start_time": "2020-09-22T16:47:11.010226Z"
    }
   },
   "outputs": [
    {
     "data": {
      "image/png": "[encoded data removed]",
      "text/plain": [
       "<Figure size 1296x288 with 3 Axes>"
      ]
     },
     "metadata": {
      "needs_background": "dark"
     },
     "output_type": "display_data"
    }
   ],
   "source": [
    "fig, ax = plt.subplots(ncols=3, figsize=(18, 4))\n",
    "\n",
    "sns.kdeplot(hot['video_length']/60,shade = True,ax = ax[0])\n",
    "ax[0].set_title('Video Length Distribution')\n",
    "\n",
    "sns.countplot(hot['video_language'], ax=ax[1])\n",
    "ax[1].set_title('Video Language Distribution')\n",
    "\n",
    "sns.countplot(hot['video_quality'], ax=ax[2])\n",
    "ax[2].set_title('Video Quality Distribution')\n",
    "plt.show()"
   ]
  },
  {
   "cell_type": "markdown",
   "metadata": {},
   "source": [
    "Hot Video Pattern:\n",
    "- Within 20mins \n",
    "- Using CN or En\n",
    "- 720P 0r 1080P"
   ]
  },
  {
   "cell_type": "code",
   "execution_count": null,
   "metadata": {},
   "outputs": [],
   "source": []
  }
 ],
 "metadata": {
  "kernelspec": {
   "display_name": "Python 3",
   "language": "python",
   "name": "python3"
  },
  "language_info": {
   "codemirror_mode": {
    "name": "ipython",
    "version": 3
   },
   "file_extension": ".py",
   "mimetype": "text/x-python",
   "name": "python",
   "nbconvert_exporter": "python",
   "pygments_lexer": "ipython3",
   "version": "3.7.6"
  },
  "toc": {
   "base_numbering": 1,
   "nav_menu": {},
   "number_sections": true,
   "sideBar": true,
   "skip_h1_title": false,
   "title_cell": "Table of Contents",
   "title_sidebar": "Contents",
   "toc_cell": false,
   "toc_position": {},
   "toc_section_display": true,
   "toc_window_display": true
  },
  "varInspector": {
   "cols": {
    "lenName": 16,
    "lenType": 16,
    "lenVar": 40
   },
   "kernels_config": {
    "python": {
     "delete_cmd_postfix": "",
     "delete_cmd_prefix": "del ",
     "library": "var_list.py",
     "varRefreshCmd": "print(var_dic_list())"
    },
    "r": {
     "delete_cmd_postfix": ") ",
     "delete_cmd_prefix": "rm(",
     "library": "var_list.r",
     "varRefreshCmd": "cat(var_dic_list()) "
    }
   },
   "types_to_exclude": [
    "module",
    "function",
    "builtin_function_or_method",
    "instance",
    "_Feature"
   ],
   "window_display": false
  }
 },
 "nbformat": 4,
 "nbformat_minor": 4
}
